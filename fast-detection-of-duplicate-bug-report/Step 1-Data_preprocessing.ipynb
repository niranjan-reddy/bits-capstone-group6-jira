{
 "cells": [
  {
   "cell_type": "markdown",
   "metadata": {
    "colab_type": "text",
    "id": "y0ZQWJNLvS1v"
   },
   "source": [
    "# **Data Preprocessing**"
   ]
  },
  {
   "cell_type": "code",
   "execution_count": 1,
   "metadata": {
    "colab": {
     "base_uri": "https://localhost:8080/",
     "height": 100
    },
    "colab_type": "code",
    "id": "pt3LGJWbsJR9",
    "outputId": "ecab7398-609f-4232-fd8c-53d096f883fb"
   },
   "outputs": [
    {
     "name": "stderr",
     "output_type": "stream",
     "text": [
      "[nltk_data] Downloading package stopwords to\n",
      "[nltk_data]     C:\\Users\\niranjans3ln\\AppData\\Roaming\\nltk_data...\n",
      "[nltk_data]   Package stopwords is already up-to-date!\n",
      "[nltk_data] Downloading package wordnet to\n",
      "[nltk_data]     C:\\Users\\niranjans3ln\\AppData\\Roaming\\nltk_data...\n",
      "[nltk_data]   Package wordnet is already up-to-date!\n"
     ]
    }
   ],
   "source": [
    "import pandas as pd\n",
    "import nltk\n",
    "import gensim\n",
    "from gensim.utils import simple_preprocess\n",
    "from nltk.corpus import stopwords\n",
    "from nltk import word_tokenize\n",
    "from nltk.stem import WordNetLemmatizer, SnowballStemmer\n",
    "from nltk.stem.porter import *\n",
    "from gensim.parsing.preprocessing import STOPWORDS\n",
    "import numpy as np\n",
    "import pickle\n",
    "nltk.download('stopwords')\n",
    "nltk.download('wordnet')\n",
    "\n",
    "import warnings\n",
    "warnings.filterwarnings('ignore')"
   ]
  },
  {
   "cell_type": "code",
   "execution_count": 2,
   "metadata": {
    "colab": {
     "base_uri": "https://localhost:8080/",
     "height": 120
    },
    "colab_type": "code",
    "id": "POGuQL62tSMc",
    "outputId": "c2ef823d-d930-4dd7-b9e9-d6ada483633a"
   },
   "outputs": [],
   "source": [
    "#mounting the google drive\n",
    "#from google.colab import drive\n",
    "#drive.mount('/content/drive')"
   ]
  },
  {
   "cell_type": "code",
   "execution_count": 3,
   "metadata": {
    "colab": {
     "base_uri": "https://localhost:8080/",
     "height": 1000
    },
    "colab_type": "code",
    "id": "VQe8RAJpsJSQ",
    "outputId": "eba6ebaa-6879-4e5d-9234-1ec51e491333"
   },
   "outputs": [
    {
     "data": {
      "text/html": [
       "<div>\n",
       "<style scoped>\n",
       "    .dataframe tbody tr th:only-of-type {\n",
       "        vertical-align: middle;\n",
       "    }\n",
       "\n",
       "    .dataframe tbody tr th {\n",
       "        vertical-align: top;\n",
       "    }\n",
       "\n",
       "    .dataframe thead th {\n",
       "        text-align: right;\n",
       "    }\n",
       "</style>\n",
       "<table border=\"1\" class=\"dataframe\">\n",
       "  <thead>\n",
       "    <tr style=\"text-align: right;\">\n",
       "      <th></th>\n",
       "      <th>Issue_id</th>\n",
       "      <th>Priority</th>\n",
       "      <th>Component</th>\n",
       "      <th>Duplicated_issue</th>\n",
       "      <th>Title</th>\n",
       "      <th>Description</th>\n",
       "      <th>Status</th>\n",
       "      <th>Resolution</th>\n",
       "      <th>Version</th>\n",
       "      <th>Created_time</th>\n",
       "      <th>Resolved_time</th>\n",
       "    </tr>\n",
       "  </thead>\n",
       "  <tbody>\n",
       "    <tr>\n",
       "      <th>0</th>\n",
       "      <td>1.0</td>\n",
       "      <td>P3</td>\n",
       "      <td>Team</td>\n",
       "      <td>NaN</td>\n",
       "      <td>Usability issue with external editors (1GE6IRL)</td>\n",
       "      <td>- Setup a project that contains a *.gif resour...</td>\n",
       "      <td>CLOSED</td>\n",
       "      <td>FIXED</td>\n",
       "      <td>2.0</td>\n",
       "      <td>10/10/2001 21:34</td>\n",
       "      <td>2/9/2012 15:57</td>\n",
       "    </tr>\n",
       "    <tr>\n",
       "      <th>1</th>\n",
       "      <td>2.0</td>\n",
       "      <td>P5</td>\n",
       "      <td>Team</td>\n",
       "      <td>NaN</td>\n",
       "      <td>Opening repository resources doesnt honor type...</td>\n",
       "      <td>Opening repository resource always open the de...</td>\n",
       "      <td>RESOLVED</td>\n",
       "      <td>FIXED</td>\n",
       "      <td>2.0</td>\n",
       "      <td>10/10/2001 21:34</td>\n",
       "      <td>5/7/2002 10:33</td>\n",
       "    </tr>\n",
       "    <tr>\n",
       "      <th>2</th>\n",
       "      <td>3.0</td>\n",
       "      <td>P5</td>\n",
       "      <td>Team</td>\n",
       "      <td>NaN</td>\n",
       "      <td>Sync does not indicate deletion (1GIEN83)</td>\n",
       "      <td>KM (10/2/2001 5:55:18 PM); \\tThis PR about the...</td>\n",
       "      <td>RESOLVED</td>\n",
       "      <td>FIXED</td>\n",
       "      <td>2.0</td>\n",
       "      <td>10/10/2001 21:34</td>\n",
       "      <td>5/7/2010 10:28</td>\n",
       "    </tr>\n",
       "    <tr>\n",
       "      <th>3</th>\n",
       "      <td>4.0</td>\n",
       "      <td>P5</td>\n",
       "      <td>Team</td>\n",
       "      <td>NaN</td>\n",
       "      <td>need better error message if catching up over ...</td>\n",
       "      <td>- become synchronized with some project in a r...</td>\n",
       "      <td>RESOLVED</td>\n",
       "      <td>FIXED</td>\n",
       "      <td>2.0</td>\n",
       "      <td>10/10/2001 21:34</td>\n",
       "      <td>3/1/2002 16:27</td>\n",
       "    </tr>\n",
       "    <tr>\n",
       "      <th>4</th>\n",
       "      <td>5.0</td>\n",
       "      <td>P3</td>\n",
       "      <td>Team</td>\n",
       "      <td>NaN</td>\n",
       "      <td>ISharingManager sharing API inconsistent (1GAU...</td>\n",
       "      <td>For getting/setting the managed state of a res...</td>\n",
       "      <td>RESOLVED</td>\n",
       "      <td>WONTFIX</td>\n",
       "      <td>2.0</td>\n",
       "      <td>10/10/2001 21:34</td>\n",
       "      <td>8/15/2008 8:04</td>\n",
       "    </tr>\n",
       "    <tr>\n",
       "      <th>...</th>\n",
       "      <td>...</td>\n",
       "      <td>...</td>\n",
       "      <td>...</td>\n",
       "      <td>...</td>\n",
       "      <td>...</td>\n",
       "      <td>...</td>\n",
       "      <td>...</td>\n",
       "      <td>...</td>\n",
       "      <td>...</td>\n",
       "      <td>...</td>\n",
       "      <td>...</td>\n",
       "    </tr>\n",
       "    <tr>\n",
       "      <th>10007</th>\n",
       "      <td>NaN</td>\n",
       "      <td>NaN</td>\n",
       "      <td>NaN</td>\n",
       "      <td>NaN</td>\n",
       "      <td>NaN</td>\n",
       "      <td>NaN</td>\n",
       "      <td>NaN</td>\n",
       "      <td>NaN</td>\n",
       "      <td>NaN</td>\n",
       "      <td>NaN</td>\n",
       "      <td>NaN</td>\n",
       "    </tr>\n",
       "    <tr>\n",
       "      <th>10008</th>\n",
       "      <td>NaN</td>\n",
       "      <td>NaN</td>\n",
       "      <td>NaN</td>\n",
       "      <td>NaN</td>\n",
       "      <td>NaN</td>\n",
       "      <td>NaN</td>\n",
       "      <td>NaN</td>\n",
       "      <td>NaN</td>\n",
       "      <td>NaN</td>\n",
       "      <td>NaN</td>\n",
       "      <td>NaN</td>\n",
       "    </tr>\n",
       "    <tr>\n",
       "      <th>10009</th>\n",
       "      <td>NaN</td>\n",
       "      <td>NaN</td>\n",
       "      <td>NaN</td>\n",
       "      <td>NaN</td>\n",
       "      <td>NaN</td>\n",
       "      <td>NaN</td>\n",
       "      <td>NaN</td>\n",
       "      <td>NaN</td>\n",
       "      <td>NaN</td>\n",
       "      <td>NaN</td>\n",
       "      <td>NaN</td>\n",
       "    </tr>\n",
       "    <tr>\n",
       "      <th>10010</th>\n",
       "      <td>NaN</td>\n",
       "      <td>NaN</td>\n",
       "      <td>NaN</td>\n",
       "      <td>NaN</td>\n",
       "      <td>NaN</td>\n",
       "      <td>NaN</td>\n",
       "      <td>NaN</td>\n",
       "      <td>NaN</td>\n",
       "      <td>NaN</td>\n",
       "      <td>NaN</td>\n",
       "      <td>NaN</td>\n",
       "    </tr>\n",
       "    <tr>\n",
       "      <th>10011</th>\n",
       "      <td>NaN</td>\n",
       "      <td>NaN</td>\n",
       "      <td>NaN</td>\n",
       "      <td>NaN</td>\n",
       "      <td>NaN</td>\n",
       "      <td>NaN</td>\n",
       "      <td>NaN</td>\n",
       "      <td>NaN</td>\n",
       "      <td>NaN</td>\n",
       "      <td>NaN</td>\n",
       "      <td>NaN</td>\n",
       "    </tr>\n",
       "  </tbody>\n",
       "</table>\n",
       "<p>10012 rows × 11 columns</p>\n",
       "</div>"
      ],
      "text/plain": [
       "       Issue_id Priority Component  Duplicated_issue  \\\n",
       "0           1.0       P3      Team               NaN   \n",
       "1           2.0       P5      Team               NaN   \n",
       "2           3.0       P5      Team               NaN   \n",
       "3           4.0       P5      Team               NaN   \n",
       "4           5.0       P3      Team               NaN   \n",
       "...         ...      ...       ...               ...   \n",
       "10007       NaN      NaN       NaN               NaN   \n",
       "10008       NaN      NaN       NaN               NaN   \n",
       "10009       NaN      NaN       NaN               NaN   \n",
       "10010       NaN      NaN       NaN               NaN   \n",
       "10011       NaN      NaN       NaN               NaN   \n",
       "\n",
       "                                                   Title  \\\n",
       "0        Usability issue with external editors (1GE6IRL)   \n",
       "1      Opening repository resources doesnt honor type...   \n",
       "2              Sync does not indicate deletion (1GIEN83)   \n",
       "3      need better error message if catching up over ...   \n",
       "4      ISharingManager sharing API inconsistent (1GAU...   \n",
       "...                                                  ...   \n",
       "10007                                                NaN   \n",
       "10008                                                NaN   \n",
       "10009                                                NaN   \n",
       "10010                                                NaN   \n",
       "10011                                                NaN   \n",
       "\n",
       "                                             Description    Status Resolution  \\\n",
       "0      - Setup a project that contains a *.gif resour...    CLOSED      FIXED   \n",
       "1      Opening repository resource always open the de...  RESOLVED      FIXED   \n",
       "2      KM (10/2/2001 5:55:18 PM); \\tThis PR about the...  RESOLVED      FIXED   \n",
       "3      - become synchronized with some project in a r...  RESOLVED      FIXED   \n",
       "4      For getting/setting the managed state of a res...  RESOLVED    WONTFIX   \n",
       "...                                                  ...       ...        ...   \n",
       "10007                                                NaN       NaN        NaN   \n",
       "10008                                                NaN       NaN        NaN   \n",
       "10009                                                NaN       NaN        NaN   \n",
       "10010                                                NaN       NaN        NaN   \n",
       "10011                                                NaN       NaN        NaN   \n",
       "\n",
       "       Version      Created_time   Resolved_time  \n",
       "0          2.0  10/10/2001 21:34  2/9/2012 15:57  \n",
       "1          2.0  10/10/2001 21:34  5/7/2002 10:33  \n",
       "2          2.0  10/10/2001 21:34  5/7/2010 10:28  \n",
       "3          2.0  10/10/2001 21:34  3/1/2002 16:27  \n",
       "4          2.0  10/10/2001 21:34  8/15/2008 8:04  \n",
       "...        ...               ...             ...  \n",
       "10007      NaN               NaN             NaN  \n",
       "10008      NaN               NaN             NaN  \n",
       "10009      NaN               NaN             NaN  \n",
       "10010      NaN               NaN             NaN  \n",
       "10011      NaN               NaN             NaN  \n",
       "\n",
       "[10012 rows x 11 columns]"
      ]
     },
     "execution_count": 3,
     "metadata": {},
     "output_type": "execute_result"
    }
   ],
   "source": [
    "#importing the CSV file of the dataset from google drive into a dataframe\n",
    "data=pd.read_csv('dataset/eclipse_platform.csv')\n",
    "data"
   ]
  },
  {
   "cell_type": "code",
   "execution_count": 4,
   "metadata": {
    "colab": {
     "base_uri": "https://localhost:8080/",
     "height": 756
    },
    "colab_type": "code",
    "id": "803Wm-1nsJSb",
    "outputId": "bd8e2e59-7560-4770-a6cd-749e9f773c2d"
   },
   "outputs": [
    {
     "data": {
      "text/html": [
       "<div>\n",
       "<style scoped>\n",
       "    .dataframe tbody tr th:only-of-type {\n",
       "        vertical-align: middle;\n",
       "    }\n",
       "\n",
       "    .dataframe tbody tr th {\n",
       "        vertical-align: top;\n",
       "    }\n",
       "\n",
       "    .dataframe thead th {\n",
       "        text-align: right;\n",
       "    }\n",
       "</style>\n",
       "<table border=\"1\" class=\"dataframe\">\n",
       "  <thead>\n",
       "    <tr style=\"text-align: right;\">\n",
       "      <th></th>\n",
       "      <th>Issue_id</th>\n",
       "      <th>Duplicated_issue</th>\n",
       "      <th>Title</th>\n",
       "      <th>Description</th>\n",
       "    </tr>\n",
       "  </thead>\n",
       "  <tbody>\n",
       "    <tr>\n",
       "      <th>0</th>\n",
       "      <td>1.0</td>\n",
       "      <td>NaN</td>\n",
       "      <td>Usability issue with external editors (1GE6IRL)</td>\n",
       "      <td>- Setup a project that contains a *.gif resour...</td>\n",
       "    </tr>\n",
       "    <tr>\n",
       "      <th>1</th>\n",
       "      <td>2.0</td>\n",
       "      <td>NaN</td>\n",
       "      <td>Opening repository resources doesnt honor type...</td>\n",
       "      <td>Opening repository resource always open the de...</td>\n",
       "    </tr>\n",
       "    <tr>\n",
       "      <th>2</th>\n",
       "      <td>3.0</td>\n",
       "      <td>NaN</td>\n",
       "      <td>Sync does not indicate deletion (1GIEN83)</td>\n",
       "      <td>KM (10/2/2001 5:55:18 PM); \\tThis PR about the...</td>\n",
       "    </tr>\n",
       "    <tr>\n",
       "      <th>3</th>\n",
       "      <td>4.0</td>\n",
       "      <td>NaN</td>\n",
       "      <td>need better error message if catching up over ...</td>\n",
       "      <td>- become synchronized with some project in a r...</td>\n",
       "    </tr>\n",
       "    <tr>\n",
       "      <th>4</th>\n",
       "      <td>5.0</td>\n",
       "      <td>NaN</td>\n",
       "      <td>ISharingManager sharing API inconsistent (1GAU...</td>\n",
       "      <td>For getting/setting the managed state of a res...</td>\n",
       "    </tr>\n",
       "    <tr>\n",
       "      <th>...</th>\n",
       "      <td>...</td>\n",
       "      <td>...</td>\n",
       "      <td>...</td>\n",
       "      <td>...</td>\n",
       "    </tr>\n",
       "    <tr>\n",
       "      <th>10007</th>\n",
       "      <td>NaN</td>\n",
       "      <td>NaN</td>\n",
       "      <td>NaN</td>\n",
       "      <td>NaN</td>\n",
       "    </tr>\n",
       "    <tr>\n",
       "      <th>10008</th>\n",
       "      <td>NaN</td>\n",
       "      <td>NaN</td>\n",
       "      <td>NaN</td>\n",
       "      <td>NaN</td>\n",
       "    </tr>\n",
       "    <tr>\n",
       "      <th>10009</th>\n",
       "      <td>NaN</td>\n",
       "      <td>NaN</td>\n",
       "      <td>NaN</td>\n",
       "      <td>NaN</td>\n",
       "    </tr>\n",
       "    <tr>\n",
       "      <th>10010</th>\n",
       "      <td>NaN</td>\n",
       "      <td>NaN</td>\n",
       "      <td>NaN</td>\n",
       "      <td>NaN</td>\n",
       "    </tr>\n",
       "    <tr>\n",
       "      <th>10011</th>\n",
       "      <td>NaN</td>\n",
       "      <td>NaN</td>\n",
       "      <td>NaN</td>\n",
       "      <td>NaN</td>\n",
       "    </tr>\n",
       "  </tbody>\n",
       "</table>\n",
       "<p>10012 rows × 4 columns</p>\n",
       "</div>"
      ],
      "text/plain": [
       "       Issue_id  Duplicated_issue  \\\n",
       "0           1.0               NaN   \n",
       "1           2.0               NaN   \n",
       "2           3.0               NaN   \n",
       "3           4.0               NaN   \n",
       "4           5.0               NaN   \n",
       "...         ...               ...   \n",
       "10007       NaN               NaN   \n",
       "10008       NaN               NaN   \n",
       "10009       NaN               NaN   \n",
       "10010       NaN               NaN   \n",
       "10011       NaN               NaN   \n",
       "\n",
       "                                                   Title  \\\n",
       "0        Usability issue with external editors (1GE6IRL)   \n",
       "1      Opening repository resources doesnt honor type...   \n",
       "2              Sync does not indicate deletion (1GIEN83)   \n",
       "3      need better error message if catching up over ...   \n",
       "4      ISharingManager sharing API inconsistent (1GAU...   \n",
       "...                                                  ...   \n",
       "10007                                                NaN   \n",
       "10008                                                NaN   \n",
       "10009                                                NaN   \n",
       "10010                                                NaN   \n",
       "10011                                                NaN   \n",
       "\n",
       "                                             Description  \n",
       "0      - Setup a project that contains a *.gif resour...  \n",
       "1      Opening repository resource always open the de...  \n",
       "2      KM (10/2/2001 5:55:18 PM); \\tThis PR about the...  \n",
       "3      - become synchronized with some project in a r...  \n",
       "4      For getting/setting the managed state of a res...  \n",
       "...                                                  ...  \n",
       "10007                                                NaN  \n",
       "10008                                                NaN  \n",
       "10009                                                NaN  \n",
       "10010                                                NaN  \n",
       "10011                                                NaN  \n",
       "\n",
       "[10012 rows x 4 columns]"
      ]
     },
     "execution_count": 4,
     "metadata": {},
     "output_type": "execute_result"
    }
   ],
   "source": [
    "#Removing the unuseful coloumns from the dataset\n",
    "data = data.drop(columns=['Priority', 'Component', 'Status', 'Resolution', 'Version', 'Created_time', 'Resolved_time'], axis=1)\n",
    "data"
   ]
  },
  {
   "cell_type": "code",
   "execution_count": 5,
   "metadata": {
    "colab": {
     "base_uri": "https://localhost:8080/",
     "height": 33
    },
    "colab_type": "code",
    "id": "XzYpjWP-sJSl",
    "outputId": "71ec96c8-6550-4f52-939e-81136f149bf5"
   },
   "outputs": [
    {
     "data": {
      "text/plain": [
       "Index(['Issue_id', 'Duplicated_issue', 'Title', 'Description'], dtype='object')"
      ]
     },
     "execution_count": 5,
     "metadata": {},
     "output_type": "execute_result"
    }
   ],
   "source": [
    "#Printing the Coloumn names\n",
    "data.keys()"
   ]
  },
  {
   "cell_type": "code",
   "execution_count": 6,
   "metadata": {
    "colab": {
     "base_uri": "https://localhost:8080/",
     "height": 33
    },
    "colab_type": "code",
    "id": "YYPZOGe7sJSw",
    "outputId": "37d7f937-9fe1-484d-bc6e-ccaad5ba3e85"
   },
   "outputs": [
    {
     "data": {
      "text/plain": [
       "(10012, 4)"
      ]
     },
     "execution_count": 6,
     "metadata": {},
     "output_type": "execute_result"
    }
   ],
   "source": [
    "#Checking the shape of the data\n",
    "data.shape"
   ]
  },
  {
   "cell_type": "markdown",
   "metadata": {
    "colab_type": "text",
    "id": "uGcxxpIswWt2"
   },
   "source": [
    "\n",
    "## **1. Text Cleaning**\n",
    "\n",
    "  *   Removing Invalid Reports\n",
    "  *   Removing Punctuations\n",
    "\n",
    "\n",
    "\n",
    "\n"
   ]
  },
  {
   "cell_type": "code",
   "execution_count": 7,
   "metadata": {
    "colab": {
     "base_uri": "https://localhost:8080/",
     "height": 33
    },
    "colab_type": "code",
    "id": "R_215ZlBsJTC",
    "outputId": "a6a14a75-f6ac-40a3-cdab-d2b49833d963"
   },
   "outputs": [
    {
     "data": {
      "text/plain": [
       "8907"
      ]
     },
     "execution_count": 7,
     "metadata": {},
     "output_type": "execute_result"
    }
   ],
   "source": [
    "#Number of empty Description reports\n",
    "data['Description'].isnull().sum()"
   ]
  },
  {
   "cell_type": "code",
   "execution_count": 8,
   "metadata": {
    "colab": {
     "base_uri": "https://localhost:8080/",
     "height": 33
    },
    "colab_type": "code",
    "id": "Zd8ECNy9sJTX",
    "outputId": "6a705251-88e4-46ed-9daa-a9aab82b9e18"
   },
   "outputs": [
    {
     "data": {
      "text/plain": [
       "8907"
      ]
     },
     "execution_count": 8,
     "metadata": {},
     "output_type": "execute_result"
    }
   ],
   "source": [
    "#Number of empty Title reports\n",
    "data['Title'].isnull().sum()"
   ]
  },
  {
   "cell_type": "code",
   "execution_count": 9,
   "metadata": {
    "colab": {},
    "colab_type": "code",
    "id": "hJYYLLR2sJTg"
   },
   "outputs": [],
   "source": [
    "#removing the rows with empty Description\n",
    "data = data.dropna(axis=0, subset=['Description'])"
   ]
  },
  {
   "cell_type": "code",
   "execution_count": 10,
   "metadata": {
    "colab": {},
    "colab_type": "code",
    "id": "Ykwl8aH0sJUH"
   },
   "outputs": [],
   "source": [
    "pd.options.display.max_colwidth = 500"
   ]
  },
  {
   "cell_type": "code",
   "execution_count": 11,
   "metadata": {
    "colab": {
     "base_uri": "https://localhost:8080/",
     "height": 127
    },
    "colab_type": "code",
    "id": "iZJCdlETsJUN",
    "outputId": "aa558453-7203-48a5-bfd0-9215b1ad1557"
   },
   "outputs": [
    {
     "data": {
      "text/html": [
       "<div>\n",
       "<style scoped>\n",
       "    .dataframe tbody tr th:only-of-type {\n",
       "        vertical-align: middle;\n",
       "    }\n",
       "\n",
       "    .dataframe tbody tr th {\n",
       "        vertical-align: top;\n",
       "    }\n",
       "\n",
       "    .dataframe thead th {\n",
       "        text-align: right;\n",
       "    }\n",
       "</style>\n",
       "<table border=\"1\" class=\"dataframe\">\n",
       "  <thead>\n",
       "    <tr style=\"text-align: right;\">\n",
       "      <th></th>\n",
       "      <th>Issue_id</th>\n",
       "      <th>Duplicated_issue</th>\n",
       "      <th>Title</th>\n",
       "      <th>Description</th>\n",
       "    </tr>\n",
       "  </thead>\n",
       "  <tbody>\n",
       "    <tr>\n",
       "      <th>4</th>\n",
       "      <td>5.0</td>\n",
       "      <td>NaN</td>\n",
       "      <td>ISharingManager sharing API inconsistent (1GAUL8H)</td>\n",
       "      <td>For getting/setting the managed state of a resource; the methods are:; ; isManaged(resource) and; manage(resource); ; for getting/setting the ignore state; the methods are:; ; getIgnored(resource); setIgnored(resource); ; These should be made more consistent.  I suggest renaming ignore methods:; ; isIgnored(resource) and; ignore(resource).; ; I think its good practice to not use get and set in method names unless its really; just a field accessor.; ; NOTES:</td>\n",
       "    </tr>\n",
       "  </tbody>\n",
       "</table>\n",
       "</div>"
      ],
      "text/plain": [
       "   Issue_id  Duplicated_issue  \\\n",
       "4       5.0               NaN   \n",
       "\n",
       "                                                Title  \\\n",
       "4  ISharingManager sharing API inconsistent (1GAUL8H)   \n",
       "\n",
       "                                                                                                                                                                                                                                                                                                                                                                                                                                                                     Description  \n",
       "4  For getting/setting the managed state of a resource; the methods are:; ; isManaged(resource) and; manage(resource); ; for getting/setting the ignore state; the methods are:; ; getIgnored(resource); setIgnored(resource); ; These should be made more consistent.  I suggest renaming ignore methods:; ; isIgnored(resource) and; ignore(resource).; ; I think its good practice to not use get and set in method names unless its really; just a field accessor.; ; NOTES:  "
      ]
     },
     "execution_count": 11,
     "metadata": {},
     "output_type": "execute_result"
    }
   ],
   "source": [
    "#Showing the fixed pattern used in many reports which doesn't have to do anything with the bug itself\n",
    "# Eg: fixed in head, has been marked as read only\n",
    "data.loc[[4]]"
   ]
  },
  {
   "cell_type": "code",
   "execution_count": 12,
   "metadata": {
    "colab": {},
    "colab_type": "code",
    "id": "mRdThicxsJUX"
   },
   "outputs": [],
   "source": [
    "#Removing the fixed patterns by replacing them with \" \"\n",
    "data[\"Description\"]= data[\"Description\"].str.replace(\"fixed in HEAD\", \"\", case = False)\n",
    "data[\"Description\"]= data[\"Description\"].str.replace(\"has been marked as readonly\", \" \", case = False)"
   ]
  },
  {
   "cell_type": "code",
   "execution_count": 13,
   "metadata": {
    "colab": {
     "base_uri": "https://localhost:8080/",
     "height": 127
    },
    "colab_type": "code",
    "id": "D8Jqn-nrsJUe",
    "outputId": "4b49ba2e-c098-4393-a851-0b500e165d64"
   },
   "outputs": [
    {
     "data": {
      "text/html": [
       "<div>\n",
       "<style scoped>\n",
       "    .dataframe tbody tr th:only-of-type {\n",
       "        vertical-align: middle;\n",
       "    }\n",
       "\n",
       "    .dataframe tbody tr th {\n",
       "        vertical-align: top;\n",
       "    }\n",
       "\n",
       "    .dataframe thead th {\n",
       "        text-align: right;\n",
       "    }\n",
       "</style>\n",
       "<table border=\"1\" class=\"dataframe\">\n",
       "  <thead>\n",
       "    <tr style=\"text-align: right;\">\n",
       "      <th></th>\n",
       "      <th>Issue_id</th>\n",
       "      <th>Duplicated_issue</th>\n",
       "      <th>Title</th>\n",
       "      <th>Description</th>\n",
       "    </tr>\n",
       "  </thead>\n",
       "  <tbody>\n",
       "    <tr>\n",
       "      <th>4</th>\n",
       "      <td>5.0</td>\n",
       "      <td>NaN</td>\n",
       "      <td>ISharingManager sharing API inconsistent (1GAUL8H)</td>\n",
       "      <td>For getting/setting the managed state of a resource; the methods are:; ; isManaged(resource) and; manage(resource); ; for getting/setting the ignore state; the methods are:; ; getIgnored(resource); setIgnored(resource); ; These should be made more consistent.  I suggest renaming ignore methods:; ; isIgnored(resource) and; ignore(resource).; ; I think its good practice to not use get and set in method names unless its really; just a field accessor.; ; NOTES:</td>\n",
       "    </tr>\n",
       "  </tbody>\n",
       "</table>\n",
       "</div>"
      ],
      "text/plain": [
       "   Issue_id  Duplicated_issue  \\\n",
       "4       5.0               NaN   \n",
       "\n",
       "                                                Title  \\\n",
       "4  ISharingManager sharing API inconsistent (1GAUL8H)   \n",
       "\n",
       "                                                                                                                                                                                                                                                                                                                                                                                                                                                                     Description  \n",
       "4  For getting/setting the managed state of a resource; the methods are:; ; isManaged(resource) and; manage(resource); ; for getting/setting the ignore state; the methods are:; ; getIgnored(resource); setIgnored(resource); ; These should be made more consistent.  I suggest renaming ignore methods:; ; isIgnored(resource) and; ignore(resource).; ; I think its good practice to not use get and set in method names unless its really; just a field accessor.; ; NOTES:  "
      ]
     },
     "execution_count": 13,
     "metadata": {},
     "output_type": "execute_result"
    }
   ],
   "source": [
    "#Checking if it is been removed\n",
    "data.loc[[4]]"
   ]
  },
  {
   "cell_type": "code",
   "execution_count": 14,
   "metadata": {
    "colab": {},
    "colab_type": "code",
    "id": "7HFyT1x3sJU8"
   },
   "outputs": [],
   "source": [
    "pd.options.display.max_colwidth = 50"
   ]
  },
  {
   "cell_type": "code",
   "execution_count": 15,
   "metadata": {
    "colab": {},
    "colab_type": "code",
    "id": "Z-vXj9fxsJTx"
   },
   "outputs": [],
   "source": [
    "#Text Cleaning round 1 (removing punctutions)\n",
    "import re\n",
    "import string\n",
    "\n",
    "def clean_text_round1(text):\n",
    "    '''Make text lowercase, remove text in square brackets, remove punctuation and remove words containing numbers.'''\n",
    "    text = re.sub('\\w*\\d\\w*', '', text)\n",
    "    text = re.sub('\\w*\\f\\w*', '', text)\n",
    "    text = re.sub('\\(.*?\\)', '', text)\n",
    "    text = re.sub('\\[.*]\\)', '', text)\n",
    "    text = text.lower()\n",
    "    text = re.sub('[%s]' % re.escape(string.punctuation), '', text)\n",
    "    return text\n",
    "\n",
    "round1 = lambda x: clean_text_round1(x)"
   ]
  },
  {
   "cell_type": "code",
   "execution_count": 16,
   "metadata": {
    "colab": {},
    "colab_type": "code",
    "id": "4tbSDTdssJT5"
   },
   "outputs": [],
   "source": [
    "data['Description'] = data['Description'].apply(clean_text_round1)\n"
   ]
  },
  {
   "cell_type": "code",
   "execution_count": 17,
   "metadata": {
    "colab": {},
    "colab_type": "code",
    "id": "NZBWtQDrsJUo"
   },
   "outputs": [],
   "source": [
    "# Apply a second round of cleaning (removing punctuations)\n",
    "def clean_text_round2(text):\n",
    "    '''Get rid of some additional punctuation and non-sensical text that was missed the first time around.'''\n",
    "    text = re.sub('[‘’“”…]', '', text)\n",
    "    text = re.sub('\\n', '', text)\n",
    "    text = re.sub('\\t', '', text)\n",
    "    return text\n",
    "\n",
    "round2 = lambda x: clean_text_round2(x)"
   ]
  },
  {
   "cell_type": "code",
   "execution_count": 18,
   "metadata": {
    "colab": {},
    "colab_type": "code",
    "id": "RgcRhy89sJUu"
   },
   "outputs": [],
   "source": [
    "data['Title'] = data['Title'].apply(clean_text_round2)\n",
    "data['Description'] = data['Description'].apply(clean_text_round2)"
   ]
  },
  {
   "cell_type": "markdown",
   "metadata": {
    "colab_type": "text",
    "id": "USiMQbfkzamT"
   },
   "source": [
    "## **2. Stop Word Removal, Tokenization and Lemmatization**"
   ]
  },
  {
   "cell_type": "code",
   "execution_count": 19,
   "metadata": {
    "colab": {},
    "colab_type": "code",
    "id": "hBURqTvQsJVQ"
   },
   "outputs": [],
   "source": [
    "\n",
    "def lemmatize(text):\n",
    "    return WordNetLemmatizer().lemmatize(text, pos='v')\n",
    "\n",
    "def preprocess(text):\n",
    "    result = []\n",
    "    for token in gensim.utils.simple_preprocess(text):\n",
    "        if token not in gensim.parsing.preprocessing.STOPWORDS and len(token) > 5:\n",
    "            result.append(lemmatize(token))\n",
    "    return result"
   ]
  },
  {
   "cell_type": "code",
   "execution_count": 20,
   "metadata": {},
   "outputs": [],
   "source": [
    "# nltk.download('omw-1.4') # one-time download be run in case the library is not present on your local environment."
   ]
  },
  {
   "cell_type": "code",
   "execution_count": 21,
   "metadata": {
    "colab": {},
    "colab_type": "code",
    "id": "GqEYgHa9sJVU"
   },
   "outputs": [],
   "source": [
    "data['Title'] = data['Title'].map(preprocess)\n",
    "data['Description'] = data['Description'].map(preprocess)"
   ]
  },
  {
   "cell_type": "code",
   "execution_count": 22,
   "metadata": {
    "colab": {},
    "colab_type": "code",
    "id": "n7kChz6UsJVZ"
   },
   "outputs": [],
   "source": [
    "data.to_csv(\"dataset/preprocessed_data.csv\")"
   ]
  },
  {
   "cell_type": "markdown",
   "metadata": {
    "colab_type": "text",
    "id": "4A0SfiKI_bOB"
   },
   "source": [
    "## **Seperation of Master Reports and Duplicate Reports**"
   ]
  },
  {
   "cell_type": "code",
   "execution_count": 23,
   "metadata": {
    "colab": {
     "base_uri": "https://localhost:8080/",
     "height": 33
    },
    "colab_type": "code",
    "id": "Mol4vTQs_aam",
    "outputId": "e3a4372b-3ad2-4ac1-acf5-70d406f794c0"
   },
   "outputs": [
    {
     "data": {
      "text/plain": [
       "1037"
      ]
     },
     "execution_count": 23,
     "metadata": {},
     "output_type": "execute_result"
    }
   ],
   "source": [
    "#Number of master_reports\n",
    "data['Duplicated_issue'].isnull().sum()"
   ]
  },
  {
   "cell_type": "code",
   "execution_count": 24,
   "metadata": {
    "colab": {},
    "colab_type": "code",
    "id": "DItsOj4P_ofY"
   },
   "outputs": [],
   "source": [
    "#Saving all the duplicate reports into a csv file as a testing set\n",
    "duplicate_reports = data.dropna(axis=0, subset=['Duplicated_issue'])\n",
    "duplicate_reports.reset_index(drop=True)\n",
    "duplicate_reports.to_csv('dataset/duplicate_reports.csv')"
   ]
  },
  {
   "cell_type": "code",
   "execution_count": 25,
   "metadata": {
    "colab": {
     "base_uri": "https://localhost:8080/",
     "height": 406
    },
    "colab_type": "code",
    "id": "sTPKJWYr_sOP",
    "outputId": "249bda8c-46d4-4c6a-9efa-56714b6f7157"
   },
   "outputs": [
    {
     "data": {
      "text/html": [
       "<div>\n",
       "<style scoped>\n",
       "    .dataframe tbody tr th:only-of-type {\n",
       "        vertical-align: middle;\n",
       "    }\n",
       "\n",
       "    .dataframe tbody tr th {\n",
       "        vertical-align: top;\n",
       "    }\n",
       "\n",
       "    .dataframe thead th {\n",
       "        text-align: right;\n",
       "    }\n",
       "</style>\n",
       "<table border=\"1\" class=\"dataframe\">\n",
       "  <thead>\n",
       "    <tr style=\"text-align: right;\">\n",
       "      <th></th>\n",
       "      <th>Issue_id</th>\n",
       "      <th>Duplicated_issue</th>\n",
       "      <th>Title</th>\n",
       "      <th>Description</th>\n",
       "    </tr>\n",
       "  </thead>\n",
       "  <tbody>\n",
       "    <tr>\n",
       "      <th>0</th>\n",
       "      <td>1.0</td>\n",
       "      <td>NaN</td>\n",
       "      <td>[usability, external, editors]</td>\n",
       "      <td>[project, contain, resource, release, project,...</td>\n",
       "    </tr>\n",
       "    <tr>\n",
       "      <th>1</th>\n",
       "      <td>2.0</td>\n",
       "      <td>NaN</td>\n",
       "      <td>[open, repository, resources, doesnt]</td>\n",
       "      <td>[open, repository, resource, default, editor, ...</td>\n",
       "    </tr>\n",
       "    <tr>\n",
       "      <th>2</th>\n",
       "      <td>3.0</td>\n",
       "      <td>NaN</td>\n",
       "      <td>[indicate, deletion]</td>\n",
       "      <td>[deletion, indicator, viewer, subtle, vision, ...</td>\n",
       "    </tr>\n",
       "    <tr>\n",
       "      <th>3</th>\n",
       "      <td>4.0</td>\n",
       "      <td>NaN</td>\n",
       "      <td>[better, message, catch, resource]</td>\n",
       "      <td>[synchronize, project, repository, different, ...</td>\n",
       "    </tr>\n",
       "    <tr>\n",
       "      <th>4</th>\n",
       "      <td>5.0</td>\n",
       "      <td>NaN</td>\n",
       "      <td>[isharingmanager, share, inconsistent]</td>\n",
       "      <td>[gettingsetting, manage, resource, methods, is...</td>\n",
       "    </tr>\n",
       "    <tr>\n",
       "      <th>...</th>\n",
       "      <td>...</td>\n",
       "      <td>...</td>\n",
       "      <td>...</td>\n",
       "      <td>...</td>\n",
       "    </tr>\n",
       "    <tr>\n",
       "      <th>1032</th>\n",
       "      <td>2545.0</td>\n",
       "      <td>NaN</td>\n",
       "      <td>[editor, accelerators]</td>\n",
       "      <td>[editor, singleuse, accelerators, associate, e...</td>\n",
       "    </tr>\n",
       "    <tr>\n",
       "      <th>1033</th>\n",
       "      <td>2546.0</td>\n",
       "      <td>NaN</td>\n",
       "      <td>[workbench, drag, gfmokf]</td>\n",
       "      <td>[perspective, perspective, windows, desktop, w...</td>\n",
       "    </tr>\n",
       "    <tr>\n",
       "      <th>1034</th>\n",
       "      <td>2547.0</td>\n",
       "      <td>NaN</td>\n",
       "      <td>[editor, refresh, gfmqwj]</td>\n",
       "      <td>[create, project, create, leave, editor, delet...</td>\n",
       "    </tr>\n",
       "    <tr>\n",
       "      <th>1035</th>\n",
       "      <td>2548.0</td>\n",
       "      <td>NaN</td>\n",
       "      <td>[project, compare, view, select]</td>\n",
       "      <td>[compare, project, folder, stream, resource, c...</td>\n",
       "    </tr>\n",
       "    <tr>\n",
       "      <th>1036</th>\n",
       "      <td>2549.0</td>\n",
       "      <td>NaN</td>\n",
       "      <td>[refresh, visible, gfmsnl]</td>\n",
       "      <td>[navigator, refresh, accelerator, refresh, sup...</td>\n",
       "    </tr>\n",
       "  </tbody>\n",
       "</table>\n",
       "<p>1037 rows × 4 columns</p>\n",
       "</div>"
      ],
      "text/plain": [
       "      Issue_id  Duplicated_issue                                   Title  \\\n",
       "0          1.0               NaN          [usability, external, editors]   \n",
       "1          2.0               NaN   [open, repository, resources, doesnt]   \n",
       "2          3.0               NaN                    [indicate, deletion]   \n",
       "3          4.0               NaN      [better, message, catch, resource]   \n",
       "4          5.0               NaN  [isharingmanager, share, inconsistent]   \n",
       "...        ...               ...                                     ...   \n",
       "1032    2545.0               NaN                  [editor, accelerators]   \n",
       "1033    2546.0               NaN               [workbench, drag, gfmokf]   \n",
       "1034    2547.0               NaN               [editor, refresh, gfmqwj]   \n",
       "1035    2548.0               NaN        [project, compare, view, select]   \n",
       "1036    2549.0               NaN              [refresh, visible, gfmsnl]   \n",
       "\n",
       "                                            Description  \n",
       "0     [project, contain, resource, release, project,...  \n",
       "1     [open, repository, resource, default, editor, ...  \n",
       "2     [deletion, indicator, viewer, subtle, vision, ...  \n",
       "3     [synchronize, project, repository, different, ...  \n",
       "4     [gettingsetting, manage, resource, methods, is...  \n",
       "...                                                 ...  \n",
       "1032  [editor, singleuse, accelerators, associate, e...  \n",
       "1033  [perspective, perspective, windows, desktop, w...  \n",
       "1034  [create, project, create, leave, editor, delet...  \n",
       "1035  [compare, project, folder, stream, resource, c...  \n",
       "1036  [navigator, refresh, accelerator, refresh, sup...  \n",
       "\n",
       "[1037 rows x 4 columns]"
      ]
     },
     "execution_count": 25,
     "metadata": {},
     "output_type": "execute_result"
    }
   ],
   "source": [
    "#Seperating all the master reports into a dataframe\n",
    "master_reports = data[data.isnull().any(axis=1)]\n",
    "master_reports.reset_index(drop=True)"
   ]
  },
  {
   "cell_type": "code",
   "execution_count": 26,
   "metadata": {},
   "outputs": [],
   "source": [
    "#print('MASTER_REPORTS at INDEX #      ', master_reports[22])\n",
    "\n",
    "# master_reports.to_csv(r'dataset\\my_data_master.csv', index=False)\n",
    "\n",
    "# master_reports['Issue_id'].replace('', np.nan, inplace=True)\n",
    "\n",
    "# master_reports.dropna(subset=['Issue_id'], inplace=True)\n",
    "\n",
    "# master_reports.to_csv(r'dataset\\my_data_master_new.csv', index=False)"
   ]
  },
  {
   "cell_type": "markdown",
   "metadata": {},
   "source": [
    "#from tabulate import tabulate\n",
    "#display(master_reports.Description)\n",
    "#print(tabulate(master_reports, headers = 'keys', tablefmt = 'psql'))\n",
    "\n",
    "\n",
    "#dataframe = pd.DataFrame(master_reports, columns=master_reports.Description)\n",
    "# printing data frame\n",
    "#print(dataframe)\n",
    "\n",
    "\n",
    "\n",
    "#print('LENGTH of MASTER_REPORTS      ', len(master_reports))\n",
    "for i in range(len(master_reports)):\n",
    "    print('INDEX      ', i)\n",
    "    try:\n",
    "        index = master_reports.Issue_id[i]\n",
    "        print('Issue_id:           ', index)\n",
    "        print('Description:           ', master_reports.Description[i])\n",
    "    except KeyError as ke:\n",
    "        print('Key Not Found in master_reports Dictionary:     ', ke)\n",
    "        \n",
    "    #if(i != 24):\n",
    "    #print(master_reports.Duplicated_issue[i])"
   ]
  },
  {
   "cell_type": "code",
   "execution_count": 27,
   "metadata": {
    "colab": {},
    "colab_type": "code",
    "id": "0N1w_5iN_vVc"
   },
   "outputs": [],
   "source": [
    "#Removing empty master_reports after data cleaning process\n",
    "mr = pd.DataFrame()\n",
    "count = 0\n",
    "exception_count = 0\n",
    "# print('LENGTH of MASTER_REPORTS      ', len(master_reports))\n",
    "# print('')\n",
    "# #print('MASTER_REPORTS at INDEX #      ', master_reports[2])\n",
    "# print('')\n",
    "# print('')\n",
    "# print('')\n",
    "for i in range(len(master_reports)):\n",
    "    #print('COUNTER Value:         ', count)\n",
    "    #print('Dictionary INDEX - I:     ', i)\n",
    "    #print('master_reports Description:    ', master_reports.Description[i])\n",
    "    \n",
    "    try:\n",
    "        if(len(master_reports.Description[i]) > 2):        \n",
    "            #print('LEN of master_reports Description:    ', len(master_reports.Description[i]))\n",
    "            mr = mr.append(master_reports.loc[[i]]) # use pandas.concat instead of pandas.append\n",
    "            count+=1\n",
    "    except KeyError as ke:\n",
    "            #print('Key Not Found in master_reports Dictionary:     ', ke)\n",
    "            exception_count+=1\n",
    "        \n",
    "        #print('REVISED MR     ', mr)\n",
    "        "
   ]
  },
  {
   "cell_type": "code",
   "execution_count": 28,
   "metadata": {},
   "outputs": [
    {
     "name": "stdout",
     "output_type": "stream",
     "text": [
      "Total # Indices missing:        63\n"
     ]
    }
   ],
   "source": [
    "print('Total # Indices missing:       ', exception_count)"
   ]
  },
  {
   "cell_type": "code",
   "execution_count": 29,
   "metadata": {
    "colab": {},
    "colab_type": "code",
    "id": "p7kUWR34_xFQ"
   },
   "outputs": [],
   "source": [
    "#Saving all the master reports into a seperate csv file\n",
    "master_reports.to_csv('dataset/master_reports.csv')"
   ]
  },
  {
   "cell_type": "code",
   "execution_count": null,
   "metadata": {},
   "outputs": [],
   "source": []
  }
 ],
 "metadata": {
  "colab": {
   "name": "data_preprocessing.ipynb",
   "provenance": []
  },
  "kernelspec": {
   "display_name": "Python 3 (ipykernel)",
   "language": "python",
   "name": "python3"
  },
  "language_info": {
   "codemirror_mode": {
    "name": "ipython",
    "version": 3
   },
   "file_extension": ".py",
   "mimetype": "text/x-python",
   "name": "python",
   "nbconvert_exporter": "python",
   "pygments_lexer": "ipython3",
   "version": "3.9.12"
  }
 },
 "nbformat": 4,
 "nbformat_minor": 1
}
