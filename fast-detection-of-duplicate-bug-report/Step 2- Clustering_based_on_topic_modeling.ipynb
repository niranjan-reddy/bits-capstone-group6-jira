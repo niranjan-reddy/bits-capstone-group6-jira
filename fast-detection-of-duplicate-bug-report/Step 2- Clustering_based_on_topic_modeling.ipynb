{
  "nbformat": 4,
  "nbformat_minor": 0,
  "metadata": {
    "kernelspec": {
      "name": "python3",
      "display_name": "Python 3"
    },
    "language_info": {
      "codemirror_mode": {
        "name": "ipython",
        "version": 3
      },
      "file_extension": ".py",
      "mimetype": "text/x-python",
      "name": "python",
      "nbconvert_exporter": "python",
      "pygments_lexer": "ipython3",
      "version": "3.7.4"
    },
    "colab": {
      "name": "clustering_based_on_topic_modeling.ipynb",
      "provenance": [],
      "collapsed_sections": []
    },
    "accelerator": "TPU"
  },
  "cells": [
    {
      "cell_type": "markdown",
      "metadata": {
        "id": "tRDcPbBT2QVU",
        "colab_type": "text"
      },
      "source": [
        "# **Latent Dirichlet Allocation (LDA)-based Topic Modeling and Clustering**"
      ]
    },
    {
      "cell_type": "code",
      "metadata": {
        "id": "k46Q291Ey2wk",
        "colab_type": "code",
        "outputId": "2154cd13-b45c-4d4c-dd82-27e96903b252",
        "colab": {
          "base_uri": "https://localhost:8080/",
          "height": 83
        }
      },
      "source": [
        "import pandas as pd\n",
        "import nltk\n",
        "import gensim\n",
        "from nltk.corpus import stopwords\n",
        "from nltk import word_tokenize\n",
        "from nltk.stem import WordNetLemmatizer, SnowballStemmer\n",
        "from nltk.stem.porter import *\n",
        "from gensim.parsing.preprocessing import STOPWORDS\n",
        "import numpy as np\n",
        "from gensim import corpora,models\n",
        "import time\n",
        "import pickle\n",
        "nltk.download('stopwords')\n",
        "nltk.download('wordnet')\n",
        "import warnings\n",
        "warnings.filterwarnings(\"ignore\", category=DeprecationWarning)"
      ],
      "execution_count": 0,
      "outputs": [
        {
          "output_type": "stream",
          "text": [
            "[nltk_data] Downloading package stopwords to /root/nltk_data...\n",
            "[nltk_data]   Package stopwords is already up-to-date!\n",
            "[nltk_data] Downloading package wordnet to /root/nltk_data...\n",
            "[nltk_data]   Package wordnet is already up-to-date!\n"
          ],
          "name": "stdout"
        }
      ]
    },
    {
      "cell_type": "code",
      "metadata": {
        "id": "hxvDYG0TCPK3",
        "colab_type": "code",
        "outputId": "c286c722-c359-4ffe-fdbf-436c5207bd77",
        "colab": {
          "base_uri": "https://localhost:8080/",
          "height": 33
        }
      },
      "source": [
        "#Mounting google drive\n",
        "from google.colab import drive\n",
        "drive.mount('/content/drive')"
      ],
      "execution_count": 0,
      "outputs": [
        {
          "output_type": "stream",
          "text": [
            "Drive already mounted at /content/drive; to attempt to forcibly remount, call drive.mount(\"/content/drive\", force_remount=True).\n"
          ],
          "name": "stdout"
        }
      ]
    },
    {
      "cell_type": "code",
      "metadata": {
        "id": "H5uv5Lw48fRY",
        "colab_type": "code",
        "colab": {}
      },
      "source": [
        "#importing the CSV file of the master reports from google drive into a dataframe\n",
        "master_reports = pd.read_csv('drive/My Drive/duplicate_detection/master_reports.csv')\n",
        "master_reports = master_reports.drop(columns=['Unnamed: 0'])"
      ],
      "execution_count": 0,
      "outputs": []
    },
    {
      "cell_type": "code",
      "metadata": {
        "id": "KD3R6nhdy2xJ",
        "colab_type": "code",
        "colab": {}
      },
      "source": [
        "def lemmatize(text):\n",
        "    return WordNetLemmatizer().lemmatize(text, pos='v')\n",
        "\n",
        "def preprocess(text):\n",
        "    result = []\n",
        "    for token in gensim.utils.simple_preprocess(text):\n",
        "        if token not in gensim.parsing.preprocessing.STOPWORDS and len(token) > 5:\n",
        "            result.append(lemmatize(token))\n",
        "    return result"
      ],
      "execution_count": 0,
      "outputs": []
    },
    {
      "cell_type": "code",
      "metadata": {
        "id": "vM0lSTepy2xP",
        "colab_type": "code",
        "colab": {}
      },
      "source": [
        "master_reports['Description'] = master_reports['Description'].map(preprocess)"
      ],
      "execution_count": 0,
      "outputs": []
    },
    {
      "cell_type": "markdown",
      "metadata": {
        "id": "w6ZdemZnBROW",
        "colab_type": "text"
      },
      "source": [
        "### **Creating Bag of Words (BoW)**"
      ]
    },
    {
      "cell_type": "code",
      "metadata": {
        "id": "COgREELwy2xW",
        "colab_type": "code",
        "colab": {}
      },
      "source": [
        "#Creating a dictionary using gensim library\n",
        "dictionary = gensim.corpora.Dictionary(master_reports['Description'])\n",
        "dictionary.filter_extremes(no_below=15, no_above=0.5, keep_n=100000)"
      ],
      "execution_count": 0,
      "outputs": []
    },
    {
      "cell_type": "code",
      "metadata": {
        "id": "aO1zCf-Ry2xa",
        "colab_type": "code",
        "outputId": "27a05880-a5b4-4d47-bd24-c8ceac43ed84",
        "colab": {
          "base_uri": "https://localhost:8080/",
          "height": 366
        }
      },
      "source": [
        "#Print top 20 words from the dictionary\n",
        "count = 0\n",
        "for k, v in dictionary.iteritems():\n",
        "    print(k, v)\n",
        "    count += 1\n",
        "    if count > 20:\n",
        "        break"
      ],
      "execution_count": 0,
      "outputs": [
        {
          "output_type": "stream",
          "text": [
            "0 actually\n",
            "1 builders\n",
            "2 change\n",
            "3 comment\n",
            "4 compare\n",
            "5 complete\n",
            "6 consider\n",
            "7 consistency\n",
            "8 contain\n",
            "9 default\n",
            "10 derive\n",
            "11 document\n",
            "12 editor\n",
            "13 effect\n",
            "14 ensure\n",
            "15 external\n",
            "16 extremely\n",
            "17 inconsistent\n",
            "18 internal\n",
            "19 maintain\n",
            "20 mandatory\n"
          ],
          "name": "stdout"
        }
      ]
    },
    {
      "cell_type": "code",
      "metadata": {
        "id": "bztEZCEIy2xk",
        "colab_type": "code",
        "colab": {}
      },
      "source": [
        "#Creating BoW using the the dictionary\n",
        "bow_corpus = [dictionary.doc2bow(doc) for doc in master_reports['Description']]"
      ],
      "execution_count": 0,
      "outputs": []
    },
    {
      "cell_type": "code",
      "metadata": {
        "id": "Ii98uln5y2xp",
        "colab_type": "code",
        "outputId": "cdf7902f-816f-47ef-a4fe-6f42deb9f19b",
        "colab": {
          "base_uri": "https://localhost:8080/",
          "height": 133
        }
      },
      "source": [
        "#Printing the BoW for single document\n",
        "bow_doc_8 = bow_corpus[8]\n",
        "for i in range(len(bow_doc_8)):\n",
        "    print(\"Word {} (\\\"{}\\\") appears {} time.\".format(bow_doc_8[i][0], \n",
        "                                               dictionary[bow_doc_8[i][0]], \n",
        "bow_doc_8[i][1]))"
      ],
      "execution_count": 0,
      "outputs": [
        {
          "output_type": "stream",
          "text": [
            "Word 2 (\"change\") appears 1 time.\n",
            "Word 30 (\"resource\") appears 1 time.\n",
            "Word 48 (\"expect\") appears 1 time.\n",
            "Word 114 (\"future\") appears 1 time.\n",
            "Word 181 (\"implementation\") appears 1 time.\n",
            "Word 182 (\"iresource\") appears 1 time.\n",
            "Word 183 (\"obsolete\") appears 1 time.\n"
          ],
          "name": "stdout"
        }
      ]
    },
    {
      "cell_type": "code",
      "metadata": {
        "id": "Kz0q-TegNkYy",
        "colab_type": "code",
        "colab": {}
      },
      "source": [
        "# open a file, where you stored the pickled data\n",
        "f= open('drive/My Drive/duplicate_detection/bow_corpus.pickle', 'wb')\n",
        "\n",
        "# dump information to that file\n",
        "pickle.dump(bow_corpus, f)"
      ],
      "execution_count": 0,
      "outputs": []
    },
    {
      "cell_type": "code",
      "metadata": {
        "id": "P91x5vDJNqGk",
        "colab_type": "code",
        "colab": {}
      },
      "source": [
        "# open a file, where you stored the pickled data\n",
        "file = open('drive/My Drive/duplicate_detection/dictionary.pickle', 'wb')\n",
        "\n",
        "# dump information to that file\n",
        "pickle.dump(dictionary, file)"
      ],
      "execution_count": 0,
      "outputs": []
    },
    {
      "cell_type": "markdown",
      "metadata": {
        "id": "MwCsT_g2NXBv",
        "colab_type": "text"
      },
      "source": [
        "### **LDA-based Topic Modeling**"
      ]
    },
    {
      "cell_type": "code",
      "metadata": {
        "id": "LNtcr3zPy2xu",
        "colab_type": "code",
        "colab": {}
      },
      "source": [
        "#Preparing the parameters for LDA model\n",
        "corpus = bow_corpus\n",
        "no_of_topics = 10\n",
        "dictionary = dictionary\n",
        "p = 20\n",
        "k = 2\n",
        "epochs = 100\n",
        "\n",
        "#Training the LDA model on the BoW corpus\n",
        "lda_model = gensim.models.LdaMulticore(corpus, num_topics=no_of_topics, id2word=dictionary, passes=p, workers=k, iterations=epochs)"
      ],
      "execution_count": 0,
      "outputs": []
    },
    {
      "cell_type": "code",
      "metadata": {
        "id": "8oiblQ2DNz0X",
        "colab_type": "code",
        "outputId": "b88f908d-871f-4c81-bd0e-75c1d1690a49",
        "colab": {
          "base_uri": "https://localhost:8080/",
          "height": 70
        }
      },
      "source": [
        "# save model to disk (no need to use pickle module)\n",
        "lda_model.save('drive/My Drive/duplicate_detection/lda_model.model')"
      ],
      "execution_count": 0,
      "outputs": [
        {
          "output_type": "stream",
          "text": [
            "/usr/local/lib/python3.6/dist-packages/smart_open/smart_open_lib.py:253: UserWarning: This function is deprecated, use smart_open.open instead. See the migration notes for details: https://github.com/RaRe-Technologies/smart_open/blob/master/README.rst#migrating-to-the-new-open-function\n",
            "  'See the migration notes for details: %s' % _MIGRATION_NOTES_URL\n"
          ],
          "name": "stderr"
        }
      ]
    },
    {
      "cell_type": "code",
      "metadata": {
        "id": "RIA_pgtRy2x1",
        "colab_type": "code",
        "outputId": "c8c656b3-4786-47f9-ef27-ebf0fa8676b8",
        "colab": {
          "base_uri": "https://localhost:8080/",
          "height": 370
        }
      },
      "source": [
        "# Printing the topics and the propability distributions of words in those topics\n",
        "for idx, topic in lda_model.print_topics(-1):\n",
        "    print('Topic: {} \\nWords: {}'.format(idx, topic))"
      ],
      "execution_count": 0,
      "outputs": [
        {
          "output_type": "stream",
          "text": [
            "Topic: 0 \n",
            "Words: 0.117*\"project\" + 0.042*\"create\" + 0.031*\"workspace\" + 0.027*\"change\" + 0.021*\"delete\" + 0.021*\"target\" + 0.020*\"folder\" + 0.019*\"resource\" + 0.019*\"package\" + 0.015*\"eclipse\"\n",
            "Topic: 1 \n",
            "Words: 0.127*\"thread\" + 0.057*\"javathread\" + 0.055*\"libjvmdylib\" + 0.048*\"threadblocked\" + 0.035*\"libsystembdylib\" + 0.034*\"libclientdylib\" + 0.031*\"native\" + 0.029*\"available\" + 0.027*\"worker\" + 0.021*\"symbol\"\n",
            "Topic: 2 \n",
            "Words: 0.085*\"update\" + 0.060*\"feature\" + 0.047*\"search\" + 0.045*\"version\" + 0.023*\"filter\" + 0.021*\"install\" + 0.019*\"result\" + 0.018*\"eclipse\" + 0.016*\"plugin\" + 0.016*\"instal\"\n",
            "Topic: 3 \n",
            "Words: 0.088*\"dialog\" + 0.052*\"button\" + 0.045*\"select\" + 0.030*\"launch\" + 0.025*\"preferences\" + 0.023*\"preference\" + 0.017*\"background\" + 0.016*\"progress\" + 0.015*\"change\" + 0.015*\"default\"\n",
            "Topic: 4 \n",
            "Words: 0.075*\"editor\" + 0.029*\"select\" + 0.028*\"perspective\" + 0.027*\"window\" + 0.021*\"action\" + 0.017*\"switch\" + 0.017*\"create\" + 0.016*\"reproduce\" + 0.016*\"eclipse\" + 0.015*\"editors\"\n",
            "Topic: 5 \n",
            "Words: 0.095*\"import\" + 0.092*\"display\" + 0.085*\"public\" + 0.033*\"static\" + 0.033*\"string\" + 0.030*\"character\" + 0.020*\"snippet\" + 0.017*\"button\" + 0.015*\"shellopen\" + 0.015*\"displaysleep\"\n",
            "Topic: 6 \n",
            "Words: 0.058*\"return\" + 0.053*\"method\" + 0.027*\"create\" + 0.020*\"widget\" + 0.019*\"control\" + 0.019*\"object\" + 0.018*\"dispose\" + 0.013*\"change\" + 0.013*\"public\" + 0.012*\"javadoc\"\n",
            "Topic: 7 \n",
            "Words: 0.116*\"eclipse\" + 0.030*\"reproduce\" + 0.022*\"reproducible\" + 0.022*\"application\" + 0.021*\"identifier\" + 0.019*\"problem\" + 0.017*\"daemon\" + 0.016*\"windows\" + 0.015*\"version\" + 0.015*\"browser\"\n",
            "Topic: 8 \n",
            "Words: 0.019*\"support\" + 0.017*\"change\" + 0.017*\"extension\" + 0.016*\"plugin\" + 0.015*\"provide\" + 0.012*\"currently\" + 0.011*\"define\" + 0.010*\"require\" + 0.010*\"platform\" + 0.009*\"content\"\n",
            "Topic: 9 \n",
            "Words: 0.153*\"message\" + 0.077*\"bundle\" + 0.049*\"exception\" + 0.037*\"resolve\" + 0.031*\"orgeclipseosgi\" + 0.030*\"arguments\" + 0.027*\"plugin\" + 0.026*\"subentry\" + 0.025*\"orgeclipseui\" + 0.020*\"constants\"\n"
          ],
          "name": "stdout"
        }
      ]
    },
    {
      "cell_type": "code",
      "metadata": {
        "id": "8thK3YFVy2x7",
        "colab_type": "code",
        "outputId": "ecfc7752-0cea-4369-c13f-5fc1033d9b3f",
        "colab": {
          "base_uri": "https://localhost:8080/",
          "height": 183
        }
      },
      "source": [
        "#Let's evaluate the model using Perplexity and Coherence Bag of words- Title\n",
        "from gensim.utils import simple_preprocess\n",
        "from gensim.models import CoherenceModel\n",
        "# Compute Perplexity\n",
        "print('\\nPerplexity: ', lda_model.log_perplexity(bow_corpus))  # a measure of how good the model is. lower the better.\n",
        "\n",
        "# Compute Coherence Score\n",
        "coherence_model_lda = CoherenceModel(model=lda_model, texts=data['Description'], dictionary=dictionary, coherence='c_v')\n",
        "coherence_lda = coherence_model_lda.get_coherence()\n",
        "print('\\nCoherence Score: ', coherence_lda)"
      ],
      "execution_count": 0,
      "outputs": [
        {
          "output_type": "stream",
          "text": [
            "\n",
            "Perplexity:  -6.389649142641688\n"
          ],
          "name": "stdout"
        },
        {
          "output_type": "stream",
          "text": [
            "/usr/local/lib/python3.6/dist-packages/gensim/topic_coherence/direct_confirmation_measure.py:193: RuntimeWarning: invalid value encountered in true_divide\n",
            "  numerator = (co_occur_count / num_docs) + EPSILON\n",
            "/usr/local/lib/python3.6/dist-packages/gensim/topic_coherence/direct_confirmation_measure.py:194: RuntimeWarning: invalid value encountered in true_divide\n",
            "  denominator = (w_prime_count / num_docs) * (w_star_count / num_docs)\n",
            "/usr/local/lib/python3.6/dist-packages/gensim/topic_coherence/direct_confirmation_measure.py:189: RuntimeWarning: invalid value encountered in true_divide\n",
            "  co_doc_prob = co_occur_count / num_docs\n"
          ],
          "name": "stderr"
        },
        {
          "output_type": "stream",
          "text": [
            "\n",
            "Coherence Score:  nan\n"
          ],
          "name": "stdout"
        }
      ]
    },
    {
      "cell_type": "code",
      "metadata": {
        "id": "KOMm2evz8aKz",
        "colab_type": "code",
        "colab": {}
      },
      "source": [
        "# pip install pyldavis"
      ],
      "execution_count": 0,
      "outputs": []
    },
    {
      "cell_type": "code",
      "metadata": {
        "id": "d5NDfA31HmoL",
        "colab_type": "code",
        "colab": {}
      },
      "source": [
        "import pyLDAvis\n",
        "import pyLDAvis.gensim  # don't skip this\n",
        "import matplotlib.pyplot as plt\n",
        "%matplotlib inline"
      ],
      "execution_count": 0,
      "outputs": []
    },
    {
      "cell_type": "code",
      "metadata": {
        "id": "XpoueqtKUGTs",
        "colab_type": "code",
        "outputId": "731b4d2e-a339-4978-e3c0-eb3cac2c1b6b",
        "colab": {
          "base_uri": "https://localhost:8080/",
          "height": 860
        }
      },
      "source": [
        "# Visualize the topics for LDA model\n",
        "pyLDAvis.enable_notebook()\n",
        "vis = pyLDAvis.gensim.prepare(lda_model, bow_corpus, dictionary)\n",
        "vis"
      ],
      "execution_count": 0,
      "outputs": [
        {
          "output_type": "execute_result",
          "data": {
            "text/html": [
              "\n",
              "<link rel=\"stylesheet\" type=\"text/css\" href=\"https://cdn.rawgit.com/bmabey/pyLDAvis/files/ldavis.v1.0.0.css\">\n",
              "\n",
              "\n",
              "<div id=\"ldavis_el1291399394574086008003725450\"></div>\n",
              "<script type=\"text/javascript\">\n",
              "\n",
              "var ldavis_el1291399394574086008003725450_data = {\"mdsDat\": {\"x\": [-0.04960780461964793, -0.11376639399957823, -0.1658227015695602, -0.004570485569677174, -0.06049362006588024, -0.17931128367859578, -0.025774400397315274, -0.06402754266488211, 0.27195560954504194, 0.39141862302009467], \"y\": [0.09445012241334214, 0.1023621368052369, 0.003114445560899054, 0.11259314114704592, -0.06571556339622404, -0.07288855143358594, 0.17824974017277864, -0.34837480814402927, 0.13318593473096016, -0.13697659785642438], \"topics\": [1, 2, 3, 4, 5, 6, 7, 8, 9, 10], \"cluster\": [1, 1, 1, 1, 1, 1, 1, 1, 1, 1], \"Freq\": [15.300421714782715, 13.333734512329102, 12.55587387084961, 12.363689422607422, 9.876132011413574, 9.734570503234863, 8.51436996459961, 7.1844587326049805, 6.69028377532959, 4.4464616775512695]}, \"tinfo\": {\"Term\": [\"project\", \"message\", \"eclipse\", \"dialog\", \"editor\", \"import\", \"update\", \"thread\", \"display\", \"public\", \"bundle\", \"return\", \"feature\", \"method\", \"button\", \"select\", \"search\", \"version\", \"exception\", \"javathread\", \"libjvmdylib\", \"perspective\", \"plugin\", \"launch\", \"threadblocked\", \"resolve\", \"string\", \"workspace\", \"static\", \"character\", \"support\", \"document\", \"attribute\", \"performance\", \"contribute\", \"dependency\", \"expression\", \"improve\", \"ability\", \"expressions\", \"approach\", \"schema\", \"official\", \"discuss\", \"comparison\", \"comparator\", \"practice\", \"discussion\", \"transform\", \"security\", \"advantage\", \"iterate\", \"infrastructure\", \"inject\", \"benefit\", \"restrict\", \"effort\", \"hashcode\", \"variable\", \"criteria\", \"extension\", \"pluginxml\", \"define\", \"extensions\", \"manifest\", \"easier\", \"provide\", \"mechanism\", \"declare\", \"common\", \"format\", \"comment\", \"currently\", \"better\", \"solution\", \"functionality\", \"property\", \"request\", \"require\", \"specify\", \"platform\", \"plugin\", \"reference\", \"possible\", \"useful\", \"change\", \"content\", \"example\", \"current\", \"action\", \"remove\", \"include\", \"default\", \"command\", \"follow\", \"context\", \"project\", \"delete\", \"folder\", \"repository\", \"commit\", \"branch\", \"export\", \"builder\", \"equinox\", \"folders\", \"password\", \"archive\", \"checkout\", \"buildxml\", \"repositories\", \"backport\", \"rebuild\", \"buildfile\", \"synchronization\", \"builders\", \"publish\", \"pomxml\", \"fileset\", \"aggregator\", \"timestamp\", \"observable\", \"ibuilds\", \"destination\", \"target\", \"deletion\", \"rename\", \"directories\", \"resource\", \"synchronize\", \"incoming\", \"compiler\", \"workspace\", \"refresh\", \"directory\", \"resources\", \"package\", \"explorer\", \"location\", \"create\", \"source\", \"change\", \"stream\", \"script\", \"select\", \"contain\", \"eclipse\", \"import\", \"remove\", \"problem\", \"follow\", \"version\", \"reproduce\", \"editor\", \"perspective\", \"editors\", \"breakpoint\", \"breakpoints\", \"outline\", \"perspectives\", \"shortcut\", \"assist\", \"maximize\", \"detach\", \"shortcuts\", \"keybinding\", \"submenu\", \"methodinvoke\", \"keybindings\", \"mainmain\", \"mainrun\", \"accelerator\", \"mainbasicrun\", \"ctrlspace\", \"saferunnerrun\", \"workbenchrun\", \"switcher\", \"provision\", \"workbenchrunui\", \"inplace\", \"toolbars\", \"multipage\", \"minimize\", \"cursor\", \"keyboard\", \"doubleclick\", \"scroll\", \"screenshot\", \"highlight\", \"activate\", \"toolbar\", \"switch\", \"collapse\", \"restore\", \"active\", \"action\", \"window\", \"vertical\", \"position\", \"context\", \"visible\", \"workbench\", \"selection\", \"navigate\", \"compare\", \"select\", \"reproduce\", \"appear\", \"expect\", \"attachment\", \"create\", \"change\", \"content\", \"eclipse\", \"problem\", \"happen\", \"result\", \"daemon\", \"cwindowsdll\", \"objectwait\", \"mozilla\", \"firefox\", \"terminate\", \"ubuntu\", \"splash\", \"xulrunner\", \"infocenter\", \"helios\", \"standalone\", \"keyring\", \"timedwaiting\", \"android\", \"edition\", \"internet\", \"javascript\", \"safari\", \"hudson\", \"newline\", \"openjdk\", \"eclipseini\", \"indigo\", \"subclipse\", \"oracle\", \"deadline\", \"launcherlibrary\", \"periodic\", \"buildid\", \"environment\", \"cprogram\", \"browser\", \"console\", \"instructions\", \"reproducible\", \"identifier\", \"machine\", \"eclipse\", \"launcher\", \"application\", \"freeze\", \"condition\", \"output\", \"program\", \"server\", \"runtime\", \"reproduce\", \"report\", \"runnable\", \"windows\", \"process\", \"download\", \"attachment\", \"information\", \"problem\", \"version\", \"happen\", \"launch\", \"attach\", \"create\", \"instal\", \"command\", \"platform\", \"follow\", \"workspace\", \"return\", \"javadoc\", \"protect\", \"columns\", \"baseline\", \"constructor\", \"listeners\", \"tableviewer\", \"listen\", \"method\", \"treeviewer\", \"artifacts\", \"spinner\", \"interfaces\", \"headers\", \"stylerange\", \"gtkcritical\", \"anchor\", \"tabitem\", \"setfocus\", \"arraylist\", \"integer\", \"databinding\", \"swterror\", \"viewpart\", \"keydown\", \"alignment\", \"menumanager\", \"iadaptable\", \"tostring\", \"dispose\", \"copyright\", \"widget\", \"events\", \"viewer\", \"object\", \"listener\", \"offset\", \"column\", \"methods\", \"boolean\", \"assertion\", \"container\", \"control\", \"children\", \"implement\", \"parent\", \"override\", \"implementation\", \"handle\", \"create\", \"public\", \"remove\", \"follow\", \"selection\", \"problem\", \"result\", \"change\", \"reproduce\", \"element\", \"information\", \"exception\", \"string\", \"attach\", \"dialog\", \"preference\", \"progress\", \"cancel\", \"tooltip\", \"dialogs\", \"colour\", \"appearance\", \"hyperlink\", \"decoration\", \"wizards\", \"mnemonic\", \"decorator\", \"annotations\", \"contrast\", \"tooltips\", \"categories\", \"decorations\", \"indicator\", \"underline\", \"rundebug\", \"placeholder\", \"graphic\", \"mnemonics\", \"cheatsheet\", \"configs\", \"backporting\", \"shrink\", \"accompany\", \"paragraph\", \"category\", \"preferences\", \"checkbox\", \"background\", \"border\", \"configurations\", \"button\", \"launch\", \"config\", \"monitor\", \"wizard\", \"select\", \"section\", \"configuration\", \"settings\", \"default\", \"render\", \"enable\", \"screen\", \"appear\", \"general\", \"disable\", \"control\", \"display\", \"change\", \"windows\", \"create\", \"window\", \"reproduce\", \"attach\", \"update\", \"feature\", \"search\", \"filter\", \"history\", \"status\", \"mirror\", \"marker\", \"master\", \"markers\", \"revision\", \"artifact\", \"orgeclipse\", \"featurexml\", \"activities\", \"breadcrumb\", \"textlayout\", \"keyword\", \"callisto\", \"annotate\", \"followup\", \"backspace\", \"partition\", \"obsolete\", \"basebuilder\", \"secondary\", \"discovery\", \"helpsoftware\", \"charset\", \"sticky\", \"software\", \"license\", \"failures\", \"install\", \"version\", \"ibuild\", \"manager\", \"instal\", \"replace\", \"plugins\", \"releng\", \"download\", \"latest\", \"result\", \"number\", \"release\", \"versions\", \"different\", \"product\", \"plugin\", \"include\", \"configuration\", \"errors\", \"eclipse\", \"problems\", \"change\", \"remove\", \"contain\", \"problem\", \"static\", \"shellopen\", \"displaysleep\", \"displaydispose\", \"encode\", \"treeitem\", \"shellsetlayout\", \"responseby\", \"handleevent\", \"settext\", \"tableitem\", \"english\", \"libgobjectso\", \"tablecolumn\", \"rectangle\", \"jvmdll\", \"canvas\", \"griddata\", \"shellsetsize\", \"libgtkso\", \"menuitem\", \"itemsettext\", \"japanese\", \"ccombo\", \"gridlayout\", \"toolitem\", \"qualifier\", \"widgetselected\", \"shellpack\", \"arabic\", \"character\", \"import\", \"display\", \"public\", \"string\", \"snippet\", \"nonnls\", \"composite\", \"private\", \"locale\", \"language\", \"button\", \"windows\", \"problem\", \"follow\", \"message\", \"resolve\", \"orgeclipseosgi\", \"subentry\", \"orgeclipseui\", \"constants\", \"commandline\", \"bootloader\", \"eclipsebuildid\", \"javaversion\", \"microsystems\", \"unhandled\", \"javavendorsun\", \"nlenus\", \"useragent\", \"orgeclipsejface\", \"javalangclass\", \"cwinntdll\", \"showlocation\", \"oslinux\", \"orgeclipsejdtui\", \"orientation\", \"orgeclipsejdt\", \"orgeclipsehelp\", \"orgeclipsepdeui\", \"osmacosx\", \"constraint\", \"javafullversion\", \"bundle\", \"prerequisite\", \"arguments\", \"session\", \"unable\", \"exception\", \"consolelog\", \"invalid\", \"framework\", \"invoke\", \"plugin\", \"problems\", \"require\", \"execute\", \"follow\", \"product\", \"argument\", \"thread\", \"javathread\", \"libjvmdylib\", \"threadblocked\", \"libsystembdylib\", \"libclientdylib\", \"native\", \"worker\", \"symbol\", \"dispatcher\", \"generation\", \"pthreadbody\", \"machmsgtrap\", \"libjvmso\", \"machmsg\", \"signal\", \"jvmraisesignal\", \"jvmmonitorwait\", \"usrlibso\", \"threadinnative\", \"pthreadcondwait\", \"jvmstartthread\", \"finalizer\", \"compact\", \"deadlock\", \"tenure\", \"abouthtml\", \"liblibpthreadso\", \"comappleappkit\", \"datetime\", \"unexpected\", \"handler\", \"hotspot\", \"libraries\", \"available\", \"detect\", \"dynamic\", \"memory\", \"exception\", \"current\", \"reference\"], \"Freq\": [20790.0, 13625.0, 27147.0, 11461.0, 12568.0, 10716.0, 9679.0, 7560.0, 10642.0, 9886.0, 6932.0, 7645.0, 6786.0, 7015.0, 9499.0, 14151.0, 5369.0, 9346.0, 6393.0, 3395.0, 3287.0, 4678.0, 8440.0, 5678.0, 2844.0, 3264.0, 4219.0, 7468.0, 3205.0, 2934.0, 3923.802490234375, 1837.2325439453125, 1660.8857421875, 1183.68115234375, 1020.9820556640625, 882.2067260742188, 734.9793090820312, 505.0585632324219, 433.6711120605469, 413.95294189453125, 379.59552001953125, 313.62457275390625, 283.7347106933594, 273.1572265625, 269.2848815917969, 257.7137451171875, 244.48597717285156, 229.63052368164062, 214.238037109375, 203.48471069335938, 191.65594482421875, 191.01307678222656, 163.90480041503906, 162.0018768310547, 157.62452697753906, 153.9638214111328, 144.29415893554688, 140.6826629638672, 1394.1175537109375, 133.9759063720703, 3484.1708984375, 798.9830322265625, 2250.431640625, 508.5090026855469, 589.6643676757812, 444.03399658203125, 3022.6455078125, 430.7163391113281, 648.939453125, 852.6107788085938, 638.9826049804688, 1598.2177734375, 2449.7314453125, 972.8983764648438, 911.7266845703125, 648.7680053710938, 1494.4847412109375, 1065.6485595703125, 2113.430419921875, 1348.828857421875, 2032.031005859375, 3184.244384765625, 1555.2032470703125, 1429.622802734375, 739.7796630859375, 3556.213134765625, 1892.2589111328125, 1521.850830078125, 1389.4808349609375, 1504.9329833984375, 1447.2891845703125, 1233.92578125, 1282.719482421875, 1157.385986328125, 1224.9093017578125, 1039.8031005859375, 20790.0625, 3740.65576171875, 3477.5244140625, 2548.4453125, 1864.70703125, 1655.682373046875, 1474.8458251953125, 991.0944213867188, 920.037841796875, 748.8381958007812, 682.2440185546875, 611.8109741210938, 610.8251342773438, 550.10498046875, 543.8365478515625, 416.4163818359375, 390.2904357910156, 352.03704833984375, 334.67694091796875, 264.169677734375, 250.76544189453125, 250.28379821777344, 222.3578338623047, 203.19769287109375, 201.88526916503906, 193.60440063476562, 191.14112854003906, 190.6282196044922, 3669.503662109375, 171.67413330078125, 1101.9603271484375, 418.4530334472656, 3421.900146484375, 1645.129638671875, 309.3485412597656, 542.9149169921875, 5518.14501953125, 1660.0833740234375, 2461.80908203125, 1620.04150390625, 3329.71875, 2108.07275390625, 2057.731201171875, 7434.64111328125, 2122.180419921875, 4811.68798828125, 811.6480712890625, 886.2920532226562, 2646.180419921875, 1360.3782958984375, 2722.036376953125, 1611.4989013671875, 1091.6448974609375, 1260.5467529296875, 1199.4803466796875, 1156.0826416015625, 1028.481201171875, 12567.95703125, 4677.08642578125, 2507.71142578125, 1777.0645751953125, 908.0120849609375, 791.6448974609375, 787.6774291992188, 752.7489624023438, 716.4674682617188, 706.581787109375, 412.5466003417969, 386.371337890625, 256.0718078613281, 236.65174865722656, 212.5702362060547, 189.08201599121094, 183.46652221679688, 180.18247985839844, 181.43988037109375, 177.53201293945312, 176.9159393310547, 163.60922241210938, 153.16493225097656, 147.38633728027344, 142.87313842773438, 137.20343017578125, 136.14833068847656, 195.72682189941406, 123.78861236572266, 885.1831665039062, 1771.31396484375, 1208.2890625, 399.9604797363281, 2212.154541015625, 1615.3343505859375, 787.1862182617188, 1442.9283447265625, 2021.5159912109375, 2824.494384765625, 445.0203552246094, 1143.696533203125, 1654.35693359375, 3454.0625, 4480.52880859375, 541.7593383789062, 907.2246704101562, 2504.970458984375, 1484.3485107421875, 2125.930419921875, 1998.0128173828125, 656.0242309570312, 1596.57861328125, 4829.1328125, 2714.2197265625, 1995.8858642578125, 1689.8046875, 1706.4091796875, 2793.55810546875, 2453.68017578125, 1584.8502197265625, 2640.60986328125, 1926.546875, 1520.8214111328125, 1211.063232421875, 2843.7890625, 1373.980224609375, 946.0889282226562, 795.9180297851562, 761.1757202148438, 662.5972900390625, 594.68896484375, 462.9197692871094, 343.470703125, 304.3037414550781, 304.3607177734375, 282.8722229003906, 260.570556640625, 224.51368713378906, 216.18492126464844, 215.3288116455078, 214.3054962158203, 205.3927001953125, 191.33966064453125, 184.24046325683594, 176.8026123046875, 143.0546875, 139.7237091064453, 319.22698974609375, 133.2215576171875, 119.58258056640625, 108.39801788330078, 108.03044128417969, 107.64002990722656, 105.93724822998047, 1500.820556640625, 733.8821411132812, 2540.04052734375, 2016.49609375, 281.85205078125, 3652.12255859375, 3515.585205078125, 1328.4947509765625, 19100.580078125, 614.3483276367188, 3614.5859375, 384.72314453125, 591.85498046875, 913.19580078125, 1066.746826171875, 1478.3818359375, 1174.5137939453125, 4928.9091796875, 1746.9166259765625, 954.1076049804688, 2558.293701171875, 1212.421875, 1191.7373046875, 2049.9462890625, 2277.326171875, 3131.60888671875, 2552.55615234375, 1869.621337890625, 1743.5057373046875, 1738.3372802734375, 2475.012451171875, 1264.9881591796875, 1322.911376953125, 1314.1458740234375, 1581.0372314453125, 1146.6239013671875, 7644.7431640625, 1615.739501953125, 786.9213256835938, 735.1854248046875, 689.8768920898438, 595.165283203125, 587.6175537109375, 378.4825134277344, 370.4872741699219, 6997.1611328125, 310.6175231933594, 290.3531188964844, 234.2417449951172, 196.76902770996094, 194.83885192871094, 174.88966369628906, 174.09625244140625, 160.9968719482422, 151.16336059570312, 147.39805603027344, 144.72854614257812, 140.20779418945312, 132.84197998046875, 126.53067016601562, 119.8431167602539, 111.6289291381836, 110.51388549804688, 110.16109466552734, 109.46453094482422, 104.1333999633789, 2414.242431640625, 415.7830505371094, 2645.927490234375, 1260.4979248046875, 1294.271240234375, 2491.430419921875, 1509.4720458984375, 334.6138000488281, 1494.361083984375, 1154.091064453125, 633.330810546875, 567.1239624023438, 404.7884826660156, 2508.686767578125, 636.3057861328125, 1451.26416015625, 1184.5301513671875, 882.0914916992188, 870.1591796875, 926.319091796875, 3597.100341796875, 1717.7791748046875, 1234.5228271484375, 1591.9066162109375, 1054.3231201171875, 1550.9410400390625, 1309.8919677734375, 1741.669921875, 1065.6396484375, 746.6592407226562, 897.5287475585938, 788.70068359375, 771.0404052734375, 774.0330810546875, 11460.5361328125, 3006.3466796875, 2061.170166015625, 1519.9033203125, 1070.2498779296875, 868.9270629882812, 347.9055480957031, 343.9803771972656, 329.855224609375, 317.1603088378906, 313.734619140625, 304.9163513183594, 298.1396484375, 296.79754638671875, 291.51177978515625, 282.4559326171875, 263.5794982910156, 248.2989959716797, 221.05218505859375, 204.6475830078125, 198.9901580810547, 198.7455291748047, 187.00975036621094, 182.62771606445312, 172.50161743164062, 164.88330078125, 158.4700164794922, 151.78152465820312, 147.502685546875, 136.02696228027344, 873.4541625976562, 3211.60205078125, 870.8455810546875, 2189.823486328125, 547.4049682617188, 640.1543579101562, 6697.86376953125, 3866.538818359375, 675.6859741210938, 1048.316650390625, 1674.888427734375, 5907.78857421875, 892.462890625, 1577.879638671875, 800.4158935546875, 1926.04296875, 722.8123168945312, 1204.9261474609375, 1082.5784912109375, 1658.5616455078125, 694.9744262695312, 986.636962890625, 1182.34521484375, 1792.8023681640625, 1972.9281005859375, 1143.870361328125, 1635.7745361328125, 1159.54541015625, 1070.6778564453125, 845.361572265625, 9678.9267578125, 6786.08203125, 5368.91748046875, 2558.399658203125, 1724.5018310546875, 1420.696533203125, 833.7186889648438, 757.1293334960938, 712.8060302734375, 603.4680786132812, 547.8154296875, 333.29046630859375, 302.65679931640625, 281.85321044921875, 180.3551483154297, 165.58985900878906, 160.82701110839844, 159.0772705078125, 155.7270050048828, 151.62576293945312, 148.40379333496094, 143.20846557617188, 142.94566345214844, 127.12106323242188, 122.73716735839844, 119.2794189453125, 111.05536651611328, 102.54296875, 100.3285140991211, 97.67162322998047, 827.32958984375, 447.65887451171875, 377.5140075683594, 2342.087890625, 5161.86083984375, 274.29046630859375, 976.7387084960938, 1809.816162109375, 1419.626220703125, 1569.8651123046875, 439.22509765625, 1076.090087890625, 740.0643310546875, 2196.069580078125, 1072.9642333984375, 1278.3515625, 696.9522094726562, 1416.4482421875, 1034.937744140625, 1841.4471435546875, 1120.1346435546875, 1012.4368286132812, 788.8316040039062, 2059.776611328125, 906.322265625, 1169.5113525390625, 890.6582641601562, 850.7221069335938, 920.312744140625, 3204.60009765625, 1412.3372802734375, 1390.4381103515625, 1159.1259765625, 994.756591796875, 947.7435913085938, 927.9151000976562, 785.7360229492188, 667.9266357421875, 631.3051147460938, 615.2448120117188, 612.5777587890625, 588.9815063476562, 558.6856689453125, 554.9371948242188, 539.5306396484375, 685.155029296875, 510.6109313964844, 474.77886962890625, 473.3629455566406, 414.0814208984375, 405.7832946777344, 399.5410461425781, 374.551025390625, 369.94482421875, 362.1995849609375, 359.51165771484375, 357.7532653808594, 336.156494140625, 313.9046630859375, 2918.682861328125, 9103.8955078125, 8843.96875, 8168.2724609375, 3201.20458984375, 1897.4925537109375, 748.8236083984375, 1209.1285400390625, 1319.319580078125, 514.968017578125, 565.1476440429688, 1631.924560546875, 796.3671264648438, 836.522705078125, 755.4004516601562, 13624.1328125, 3264.079833984375, 2801.65625, 2299.954345703125, 2190.159423828125, 1804.412353515625, 1531.831787109375, 1524.30810546875, 1325.658203125, 1306.4901123046875, 1070.4656982421875, 1001.231689453125, 985.6223754882812, 886.206787109375, 678.095458984375, 584.7061767578125, 571.5048828125, 567.83935546875, 551.6080322265625, 424.9930114746094, 252.01734924316406, 251.3543701171875, 221.21961975097656, 207.6277618408203, 168.25440979003906, 161.65689086914062, 158.86282348632812, 157.5862579345703, 6891.85205078125, 136.5001220703125, 2668.6826171875, 1581.076171875, 1617.4505615234375, 4398.18115234375, 382.5311584472656, 1108.343017578125, 1031.3121337890625, 1040.055908203125, 2421.6435546875, 1408.6607666015625, 1332.896240234375, 985.5145874023438, 1669.909912109375, 781.507080078125, 659.3894653320312, 7559.43603515625, 3394.216064453125, 3287.046875, 2843.687744140625, 2054.26123046875, 1992.3944091796875, 1838.3792724609375, 1575.661865234375, 1219.62060546875, 781.5143432617188, 721.8974609375, 704.1646728515625, 666.1864013671875, 599.974853515625, 583.7483520507812, 541.1712036132812, 513.6764526367188, 501.15484619140625, 498.5751647949219, 490.6453552246094, 406.6285705566406, 325.7825927734375, 288.68939208984375, 279.65032958984375, 258.4680480957031, 247.3000030517578, 232.2484893798828, 222.57054138183594, 217.8279266357422, 216.35000610351562, 631.3672485351562, 984.0249633789062, 670.1326904296875, 463.7906799316406, 1721.8431396484375, 670.9549560546875, 516.9421997070312, 750.2520141601562, 775.5821533203125, 574.8634643554688, 529.6275634765625], \"Total\": [20790.0, 13625.0, 27147.0, 11461.0, 12568.0, 10716.0, 9679.0, 7560.0, 10642.0, 9886.0, 6932.0, 7645.0, 6786.0, 7015.0, 9499.0, 14151.0, 5369.0, 9346.0, 6393.0, 3395.0, 3287.0, 4678.0, 8440.0, 5678.0, 2844.0, 3264.0, 4219.0, 7468.0, 3205.0, 2934.0, 3925.381591796875, 1838.15185546875, 1661.804931640625, 1184.600341796875, 1021.9013061523438, 883.127685546875, 735.898681640625, 505.97784423828125, 434.5903015136719, 414.8721618652344, 380.5147705078125, 314.5437316894531, 284.654296875, 274.0765075683594, 270.20416259765625, 258.63336181640625, 245.40521240234375, 230.54978942871094, 215.15744018554688, 204.40438842773438, 192.5752410888672, 191.9323272705078, 164.8240509033203, 162.92129516601562, 158.5439453125, 154.88314819335938, 145.21337890625, 141.60194396972656, 1403.4381103515625, 134.89523315429688, 3564.528564453125, 809.3269653320312, 2322.080810546875, 523.3143310546875, 609.0530395507812, 459.1905517578125, 3403.39599609375, 451.27093505859375, 697.2489624023438, 1061.0677490234375, 764.0055541992188, 2317.031005859375, 3945.66796875, 1327.4171142578125, 1235.0439453125, 812.7225952148438, 2459.353515625, 1610.686767578125, 4079.976806640625, 2265.322509765625, 4198.3486328125, 8440.6337890625, 2965.3955078125, 2652.598876953125, 989.7904663085938, 15789.734375, 5682.62548828125, 4664.1826171875, 3866.295654296875, 4959.81396484375, 5285.6337890625, 3365.9609375, 5206.68212890625, 3894.975830078125, 9590.875, 3914.613525390625, 20790.97265625, 3741.562744140625, 3478.431396484375, 2549.352294921875, 1865.6142578125, 1656.589599609375, 1475.7530517578125, 992.0016479492188, 920.9454956054688, 749.7454223632812, 683.1513061523438, 612.7183837890625, 611.7323608398438, 551.0122680664062, 544.743896484375, 417.3243713378906, 391.19769287109375, 352.94427490234375, 335.584228515625, 265.0768737792969, 251.67295837402344, 251.1918182373047, 223.26499938964844, 204.1055145263672, 202.79246520996094, 194.5121612548828, 192.04879760742188, 191.53561401367188, 3688.3857421875, 172.58132934570312, 1109.001708984375, 429.13134765625, 3830.67041015625, 1790.096435546875, 316.93865966796875, 581.4978637695312, 7468.587890625, 2040.0281982421875, 3180.550048828125, 2019.8914794921875, 5160.97998046875, 3154.99267578125, 3316.962890625, 20118.115234375, 4132.49658203125, 15789.734375, 1235.512939453125, 1463.4056396484375, 14151.3359375, 4467.19873046875, 27147.787109375, 10716.193359375, 5285.6337890625, 11114.2763671875, 9590.875, 9346.0556640625, 11574.8427734375, 12568.8720703125, 4678.00146484375, 2508.626220703125, 1777.9796142578125, 908.9270629882812, 792.5599365234375, 788.5924072265625, 753.6640014648438, 717.3824462890625, 707.4967041015625, 413.4615173339844, 387.2862854003906, 256.98675537109375, 237.5667266845703, 213.48529052734375, 189.9969482421875, 184.381591796875, 181.09751892089844, 182.37059020996094, 178.44705200195312, 177.83102416992188, 164.5243377685547, 154.07992553710938, 148.3012237548828, 143.81422424316406, 138.1184539794922, 137.06341552734375, 197.0628662109375, 124.70355987548828, 892.0004272460938, 1814.1832275390625, 1254.8743896484375, 408.5985107421875, 2405.31640625, 1860.5860595703125, 866.84814453125, 1672.7923583984375, 2435.0400390625, 3526.535888671875, 480.3778381347656, 1351.1873779296875, 2146.589599609375, 4959.81396484375, 6688.568359375, 629.539306640625, 1165.1453857421875, 3914.613525390625, 2139.204345703125, 3965.96826171875, 3774.983154296875, 813.9310913085938, 2887.5048828125, 14151.3359375, 11574.8427734375, 6114.51171875, 4845.1611328125, 5118.75048828125, 20118.115234375, 15789.734375, 5682.62548828125, 27147.787109375, 11114.2763671875, 5456.92041015625, 6923.9208984375, 2844.72265625, 1374.9140625, 947.0226440429688, 796.8517456054688, 762.1094970703125, 663.531005859375, 595.6228637695312, 463.8533935546875, 344.40435791015625, 305.23736572265625, 305.29498291015625, 283.8058776855469, 261.50469970703125, 225.44737243652344, 217.118896484375, 216.2624969482422, 215.23915100097656, 206.326416015625, 192.2733612060547, 185.17446899414062, 177.7364501953125, 143.98858642578125, 140.6573486328125, 321.4195556640625, 134.15528869628906, 120.51641845703125, 109.33450317382812, 108.96416473388672, 108.57365417480469, 106.87113952636719, 1568.2208251953125, 765.9719848632812, 2728.211669921875, 2169.668212890625, 290.7486572265625, 4147.6123046875, 4068.49462890625, 1501.307861328125, 27147.787109375, 682.4389038085938, 5047.4169921875, 427.57232666015625, 710.262939453125, 1194.2344970703125, 1438.2425537109375, 2132.614501953125, 1745.175048828125, 11574.8427734375, 3175.411376953125, 1462.80859375, 5770.10205078125, 2080.060546875, 2268.659912109375, 5118.75048828125, 6490.47021484375, 11114.2763671875, 9346.0556640625, 5456.92041015625, 5678.12646484375, 5741.65869140625, 20118.115234375, 3173.853759765625, 3894.975830078125, 4198.3486328125, 9590.875, 7468.587890625, 7645.66357421875, 1616.66015625, 787.8419799804688, 736.1060180664062, 690.7979125976562, 596.0859375, 588.5380859375, 379.4031066894531, 371.4079284667969, 7015.71142578125, 311.53814697265625, 291.2742919921875, 235.16238403320312, 197.689697265625, 195.75955200195312, 175.81031799316406, 175.01683044433594, 161.91773986816406, 152.0840301513672, 148.31869506835938, 145.64918518066406, 141.12847900390625, 133.7626495361328, 127.45133972167969, 120.76380157470703, 112.55030822753906, 111.43457794189453, 111.08171844482422, 110.38514709472656, 105.0540542602539, 2494.303955078125, 424.9107971191406, 2815.49365234375, 1323.311279296875, 1395.6590576171875, 2885.757080078125, 1706.8466796875, 352.1031799316406, 1721.767578125, 1378.8875732421875, 757.2783203125, 672.0369873046875, 464.83258056640625, 3830.2998046875, 783.46875, 2194.834716796875, 1789.17578125, 1312.149658203125, 1655.9849853515625, 1893.314453125, 20118.115234375, 9886.8642578125, 5285.6337890625, 9590.875, 3774.983154296875, 11114.2763671875, 6923.9208984375, 15789.734375, 11574.8427734375, 2016.5389404296875, 6490.47021484375, 6393.025390625, 4219.01611328125, 5741.65869140625, 11461.9833984375, 3007.2578125, 2062.07177734375, 1520.809814453125, 1071.151611328125, 869.8286743164062, 348.80712890625, 344.8819580078125, 330.7568359375, 318.0619812011719, 314.63616943359375, 305.81793212890625, 299.041259765625, 297.6993713378906, 292.4134216308594, 283.3575439453125, 264.4811706542969, 249.2006072998047, 221.9538116455078, 205.54925537109375, 199.89173889160156, 199.64727783203125, 187.91143798828125, 183.529296875, 173.40328979492188, 165.784912109375, 159.3717803955078, 152.68319702148438, 148.40509033203125, 136.92864990234375, 880.501220703125, 3301.354736328125, 889.50537109375, 2301.586669921875, 567.75048828125, 676.425048828125, 9499.748046875, 5678.12646484375, 802.9091186523438, 1339.214111328125, 2381.757568359375, 14151.3359375, 1396.1182861328125, 3357.3447265625, 1276.6282958984375, 5206.68212890625, 1285.85205078125, 3111.511962890625, 2719.204345703125, 6114.51171875, 1345.4080810546875, 2630.03857421875, 3830.2998046875, 10642.478515625, 15789.734375, 5770.10205078125, 20118.115234375, 6688.568359375, 11574.8427734375, 5741.65869140625, 9679.841796875, 6786.99658203125, 5369.83203125, 2559.482666015625, 1725.4163818359375, 1421.611083984375, 834.63330078125, 758.0439453125, 713.8616333007812, 604.3826904296875, 548.7300415039062, 334.2051696777344, 303.572021484375, 282.7677307128906, 181.2697296142578, 166.50506591796875, 161.74180603027344, 159.99180603027344, 156.6416778564453, 152.54034423828125, 149.31875610351562, 144.12313842773438, 143.8602294921875, 128.03565979003906, 123.6517562866211, 120.19425201416016, 111.96990203857422, 103.45748901367188, 101.24307250976562, 98.58617401123047, 977.4002685546875, 505.75262451171875, 432.4820861816406, 3396.526123046875, 9346.0556640625, 315.7487487792969, 1478.065673828125, 3173.853759765625, 2374.29736328125, 2866.525390625, 629.6826782226562, 2268.659912109375, 1384.1573486328125, 6923.9208984375, 2509.29443359375, 3250.591552734375, 1360.010986328125, 4393.24853515625, 2802.101318359375, 8440.6337890625, 3365.9609375, 3357.3447265625, 2153.23681640625, 27147.787109375, 4438.03271484375, 15789.734375, 5285.6337890625, 4467.19873046875, 11114.2763671875, 3205.50830078125, 1413.2452392578125, 1391.3460693359375, 1160.033935546875, 995.6677856445312, 948.6514892578125, 928.822998046875, 786.6439819335938, 668.8345947265625, 632.2130126953125, 616.1527099609375, 613.4857788085938, 589.8897094726562, 559.5935668945312, 555.8451538085938, 540.439208984375, 686.3688354492188, 511.51885986328125, 475.6867980957031, 474.27130126953125, 414.9893493652344, 406.69122314453125, 400.4490661621094, 375.458984375, 370.8529052734375, 363.1075439453125, 360.42059326171875, 358.6612243652344, 337.0644226074219, 314.8126220703125, 2934.97021484375, 10716.193359375, 10642.478515625, 9886.8642578125, 4219.01611328125, 2345.2734375, 897.4266967773438, 1668.1783447265625, 1911.578125, 585.7474975585938, 712.4970092773438, 9499.748046875, 5770.10205078125, 11114.2763671875, 9590.875, 13625.037109375, 3264.984619140625, 2802.56103515625, 2300.85888671875, 2191.064208984375, 1805.3170166015625, 1532.7364501953125, 1525.212646484375, 1326.562744140625, 1307.3946533203125, 1071.3702392578125, 1002.1362915039062, 986.5269775390625, 887.1113891601562, 679.0031127929688, 585.6107788085938, 572.4094848632812, 568.7440185546875, 552.5126342773438, 425.89764404296875, 252.92196655273438, 252.25918579101562, 222.12428283691406, 208.532470703125, 169.15902709960938, 162.56149291992188, 159.76748657226562, 158.4908447265625, 6932.48583984375, 137.40476989746094, 2764.31005859375, 1942.6640625, 2073.33251953125, 6393.025390625, 429.8434753417969, 1538.7064208984375, 1844.5263671875, 2086.433837890625, 8440.6337890625, 4438.03271484375, 4079.976806640625, 2416.891357421875, 9590.875, 2802.101318359375, 1204.00634765625, 7560.35498046875, 3395.13525390625, 3287.9658203125, 2844.60693359375, 2055.18017578125, 1993.3134765625, 1839.3509521484375, 1576.5809326171875, 1220.5396728515625, 782.4334106445312, 722.816650390625, 705.083740234375, 667.10546875, 600.8939208984375, 584.6674194335938, 542.09033203125, 514.5955200195312, 502.07391357421875, 499.4942321777344, 491.5644226074219, 407.5476379394531, 326.70166015625, 289.60845947265625, 280.5694274902344, 259.3871765136719, 248.2190704345703, 233.16761779785156, 223.48960876464844, 218.7469940185547, 217.26919555664062, 665.9312744140625, 1431.2503662109375, 942.1997680664062, 611.0945434570312, 3922.81298828125, 1070.8873291015625, 823.6630249023438, 1821.068115234375, 6393.025390625, 3866.295654296875, 2965.3955078125], \"Category\": [\"Default\", \"Default\", \"Default\", \"Default\", \"Default\", \"Default\", \"Default\", \"Default\", \"Default\", \"Default\", \"Default\", \"Default\", \"Default\", \"Default\", \"Default\", \"Default\", \"Default\", \"Default\", \"Default\", \"Default\", \"Default\", \"Default\", \"Default\", \"Default\", \"Default\", \"Default\", \"Default\", \"Default\", \"Default\", \"Default\", \"Topic1\", \"Topic1\", \"Topic1\", \"Topic1\", \"Topic1\", \"Topic1\", \"Topic1\", \"Topic1\", \"Topic1\", \"Topic1\", \"Topic1\", \"Topic1\", \"Topic1\", \"Topic1\", \"Topic1\", \"Topic1\", \"Topic1\", \"Topic1\", \"Topic1\", \"Topic1\", \"Topic1\", \"Topic1\", \"Topic1\", \"Topic1\", \"Topic1\", \"Topic1\", \"Topic1\", \"Topic1\", \"Topic1\", \"Topic1\", \"Topic1\", \"Topic1\", \"Topic1\", \"Topic1\", \"Topic1\", \"Topic1\", \"Topic1\", \"Topic1\", \"Topic1\", \"Topic1\", \"Topic1\", \"Topic1\", \"Topic1\", \"Topic1\", \"Topic1\", \"Topic1\", \"Topic1\", \"Topic1\", \"Topic1\", \"Topic1\", \"Topic1\", \"Topic1\", \"Topic1\", \"Topic1\", \"Topic1\", \"Topic1\", \"Topic1\", \"Topic1\", \"Topic1\", \"Topic1\", \"Topic1\", \"Topic1\", \"Topic1\", \"Topic1\", \"Topic1\", \"Topic1\", \"Topic2\", \"Topic2\", \"Topic2\", \"Topic2\", \"Topic2\", \"Topic2\", \"Topic2\", \"Topic2\", \"Topic2\", \"Topic2\", \"Topic2\", \"Topic2\", \"Topic2\", \"Topic2\", \"Topic2\", \"Topic2\", \"Topic2\", \"Topic2\", \"Topic2\", \"Topic2\", \"Topic2\", \"Topic2\", \"Topic2\", \"Topic2\", \"Topic2\", \"Topic2\", \"Topic2\", \"Topic2\", \"Topic2\", \"Topic2\", \"Topic2\", \"Topic2\", \"Topic2\", \"Topic2\", \"Topic2\", \"Topic2\", \"Topic2\", \"Topic2\", \"Topic2\", \"Topic2\", \"Topic2\", \"Topic2\", \"Topic2\", \"Topic2\", \"Topic2\", \"Topic2\", \"Topic2\", \"Topic2\", \"Topic2\", \"Topic2\", \"Topic2\", \"Topic2\", \"Topic2\", \"Topic2\", \"Topic2\", \"Topic2\", \"Topic2\", \"Topic3\", \"Topic3\", \"Topic3\", \"Topic3\", \"Topic3\", \"Topic3\", \"Topic3\", \"Topic3\", \"Topic3\", \"Topic3\", \"Topic3\", \"Topic3\", \"Topic3\", \"Topic3\", \"Topic3\", \"Topic3\", \"Topic3\", \"Topic3\", \"Topic3\", \"Topic3\", \"Topic3\", \"Topic3\", \"Topic3\", \"Topic3\", \"Topic3\", \"Topic3\", \"Topic3\", \"Topic3\", \"Topic3\", \"Topic3\", \"Topic3\", \"Topic3\", \"Topic3\", \"Topic3\", \"Topic3\", \"Topic3\", \"Topic3\", \"Topic3\", \"Topic3\", \"Topic3\", \"Topic3\", \"Topic3\", \"Topic3\", \"Topic3\", \"Topic3\", \"Topic3\", \"Topic3\", \"Topic3\", \"Topic3\", \"Topic3\", \"Topic3\", \"Topic3\", \"Topic3\", \"Topic3\", \"Topic3\", \"Topic3\", \"Topic3\", \"Topic3\", \"Topic3\", \"Topic3\", \"Topic3\", \"Topic3\", \"Topic3\", \"Topic3\", \"Topic4\", \"Topic4\", \"Topic4\", \"Topic4\", \"Topic4\", \"Topic4\", \"Topic4\", \"Topic4\", \"Topic4\", \"Topic4\", \"Topic4\", \"Topic4\", \"Topic4\", \"Topic4\", \"Topic4\", \"Topic4\", \"Topic4\", \"Topic4\", \"Topic4\", \"Topic4\", \"Topic4\", \"Topic4\", \"Topic4\", \"Topic4\", \"Topic4\", \"Topic4\", \"Topic4\", \"Topic4\", \"Topic4\", \"Topic4\", \"Topic4\", \"Topic4\", \"Topic4\", \"Topic4\", \"Topic4\", \"Topic4\", \"Topic4\", \"Topic4\", \"Topic4\", \"Topic4\", \"Topic4\", \"Topic4\", \"Topic4\", \"Topic4\", \"Topic4\", \"Topic4\", \"Topic4\", \"Topic4\", \"Topic4\", \"Topic4\", \"Topic4\", \"Topic4\", \"Topic4\", \"Topic4\", \"Topic4\", \"Topic4\", \"Topic4\", \"Topic4\", \"Topic4\", \"Topic4\", \"Topic4\", \"Topic4\", \"Topic4\", \"Topic4\", \"Topic4\", \"Topic4\", \"Topic5\", \"Topic5\", \"Topic5\", \"Topic5\", \"Topic5\", \"Topic5\", \"Topic5\", \"Topic5\", \"Topic5\", \"Topic5\", \"Topic5\", \"Topic5\", \"Topic5\", \"Topic5\", \"Topic5\", \"Topic5\", \"Topic5\", \"Topic5\", \"Topic5\", \"Topic5\", \"Topic5\", \"Topic5\", \"Topic5\", \"Topic5\", \"Topic5\", \"Topic5\", \"Topic5\", \"Topic5\", \"Topic5\", \"Topic5\", \"Topic5\", \"Topic5\", \"Topic5\", \"Topic5\", \"Topic5\", \"Topic5\", \"Topic5\", \"Topic5\", \"Topic5\", \"Topic5\", \"Topic5\", \"Topic5\", \"Topic5\", \"Topic5\", \"Topic5\", \"Topic5\", \"Topic5\", \"Topic5\", \"Topic5\", \"Topic5\", \"Topic5\", \"Topic5\", \"Topic5\", \"Topic5\", \"Topic5\", \"Topic5\", \"Topic5\", \"Topic5\", \"Topic5\", \"Topic5\", \"Topic5\", \"Topic5\", \"Topic5\", \"Topic5\", \"Topic6\", \"Topic6\", \"Topic6\", \"Topic6\", \"Topic6\", \"Topic6\", \"Topic6\", \"Topic6\", \"Topic6\", \"Topic6\", \"Topic6\", \"Topic6\", \"Topic6\", \"Topic6\", \"Topic6\", \"Topic6\", \"Topic6\", \"Topic6\", \"Topic6\", \"Topic6\", \"Topic6\", \"Topic6\", \"Topic6\", \"Topic6\", \"Topic6\", \"Topic6\", \"Topic6\", \"Topic6\", \"Topic6\", \"Topic6\", \"Topic6\", \"Topic6\", \"Topic6\", \"Topic6\", \"Topic6\", \"Topic6\", \"Topic6\", \"Topic6\", \"Topic6\", \"Topic6\", \"Topic6\", \"Topic6\", \"Topic6\", \"Topic6\", \"Topic6\", \"Topic6\", \"Topic6\", \"Topic6\", \"Topic6\", \"Topic6\", \"Topic6\", \"Topic6\", \"Topic6\", \"Topic6\", \"Topic6\", \"Topic6\", \"Topic6\", \"Topic6\", \"Topic6\", \"Topic6\", \"Topic7\", \"Topic7\", \"Topic7\", \"Topic7\", \"Topic7\", \"Topic7\", \"Topic7\", \"Topic7\", \"Topic7\", \"Topic7\", \"Topic7\", \"Topic7\", \"Topic7\", \"Topic7\", \"Topic7\", \"Topic7\", \"Topic7\", \"Topic7\", \"Topic7\", \"Topic7\", \"Topic7\", \"Topic7\", \"Topic7\", \"Topic7\", \"Topic7\", \"Topic7\", \"Topic7\", \"Topic7\", \"Topic7\", \"Topic7\", \"Topic7\", \"Topic7\", \"Topic7\", \"Topic7\", \"Topic7\", \"Topic7\", \"Topic7\", \"Topic7\", \"Topic7\", \"Topic7\", \"Topic7\", \"Topic7\", \"Topic7\", \"Topic7\", \"Topic7\", \"Topic7\", \"Topic7\", \"Topic7\", \"Topic7\", \"Topic7\", \"Topic7\", \"Topic7\", \"Topic7\", \"Topic7\", \"Topic7\", \"Topic7\", \"Topic7\", \"Topic7\", \"Topic7\", \"Topic8\", \"Topic8\", \"Topic8\", \"Topic8\", \"Topic8\", \"Topic8\", \"Topic8\", \"Topic8\", \"Topic8\", \"Topic8\", \"Topic8\", \"Topic8\", \"Topic8\", \"Topic8\", \"Topic8\", \"Topic8\", \"Topic8\", \"Topic8\", \"Topic8\", \"Topic8\", \"Topic8\", \"Topic8\", \"Topic8\", \"Topic8\", \"Topic8\", \"Topic8\", \"Topic8\", \"Topic8\", \"Topic8\", \"Topic8\", \"Topic8\", \"Topic8\", \"Topic8\", \"Topic8\", \"Topic8\", \"Topic8\", \"Topic8\", \"Topic8\", \"Topic8\", \"Topic8\", \"Topic8\", \"Topic8\", \"Topic8\", \"Topic8\", \"Topic8\", \"Topic9\", \"Topic9\", \"Topic9\", \"Topic9\", \"Topic9\", \"Topic9\", \"Topic9\", \"Topic9\", \"Topic9\", \"Topic9\", \"Topic9\", \"Topic9\", \"Topic9\", \"Topic9\", \"Topic9\", \"Topic9\", \"Topic9\", \"Topic9\", \"Topic9\", \"Topic9\", \"Topic9\", \"Topic9\", \"Topic9\", \"Topic9\", \"Topic9\", \"Topic9\", \"Topic9\", \"Topic9\", \"Topic9\", \"Topic9\", \"Topic9\", \"Topic9\", \"Topic9\", \"Topic9\", \"Topic9\", \"Topic9\", \"Topic9\", \"Topic9\", \"Topic9\", \"Topic9\", \"Topic9\", \"Topic9\", \"Topic9\", \"Topic9\", \"Topic9\", \"Topic10\", \"Topic10\", \"Topic10\", \"Topic10\", \"Topic10\", \"Topic10\", \"Topic10\", \"Topic10\", \"Topic10\", \"Topic10\", \"Topic10\", \"Topic10\", \"Topic10\", \"Topic10\", \"Topic10\", \"Topic10\", \"Topic10\", \"Topic10\", \"Topic10\", \"Topic10\", \"Topic10\", \"Topic10\", \"Topic10\", \"Topic10\", \"Topic10\", \"Topic10\", \"Topic10\", \"Topic10\", \"Topic10\", \"Topic10\", \"Topic10\", \"Topic10\", \"Topic10\", \"Topic10\", \"Topic10\", \"Topic10\", \"Topic10\", \"Topic10\", \"Topic10\", \"Topic10\", \"Topic10\"], \"logprob\": [30.0, 29.0, 28.0, 27.0, 26.0, 25.0, 24.0, 23.0, 22.0, 21.0, 20.0, 19.0, 18.0, 17.0, 16.0, 15.0, 14.0, 13.0, 12.0, 11.0, 10.0, 9.0, 8.0, 7.0, 6.0, 5.0, 4.0, 3.0, 2.0, 1.0, -3.95169997215271, -4.7104997634887695, -4.811399936676025, -5.150100231170654, -5.297999858856201, -5.4440999031066895, -5.626699924468994, -6.0019001960754395, -6.154200077056885, -6.200799942016602, -6.287399768829346, -6.478300094604492, -6.578499794006348, -6.616499900817871, -6.630799770355225, -6.674699783325195, -6.727399826049805, -6.79010009765625, -6.859399795532227, -6.910900115966797, -6.970799922943115, -6.9741997718811035, -7.127200126647949, -7.138899803161621, -7.166299819946289, -7.189799785614014, -7.254700183868408, -7.28000020980835, -4.986499786376953, -7.32889986038208, -4.070499897003174, -5.5432000160217285, -4.507599830627441, -5.994999885559082, -5.8470001220703125, -6.1305999755859375, -4.212600231170654, -6.161099910736084, -5.751200199127197, -5.4781999588012695, -5.766600131988525, -4.849899768829346, -4.422800064086914, -5.346199989318848, -5.411200046539307, -5.751399993896484, -4.916999816894531, -5.255199909210205, -4.570499897003174, -5.019499778747559, -4.6097002029418945, -4.160600185394287, -4.877200126647949, -4.961400032043457, -5.620200157165527, -4.050099849700928, -4.681000232696533, -4.898799896240234, -4.989799976348877, -4.909999847412109, -4.949100017547607, -5.10860013961792, -5.069799900054932, -5.172599792480469, -5.115900039672852, -5.279699802398682, -2.146699905395508, -3.8619000911712646, -3.9349000453948975, -4.245699882507324, -4.55810022354126, -4.677000045776367, -4.792600154876709, -5.190100193023682, -5.264500141143799, -5.470399856567383, -5.563600063323975, -5.672500133514404, -5.674099922180176, -5.778800010681152, -5.790299892425537, -6.057300090789795, -6.122099876403809, -6.225200176239014, -6.2758002281188965, -6.512400150299072, -6.5644001960754395, -6.566299915313721, -6.684700012207031, -6.774799823760986, -6.781199932098389, -6.8231000900268555, -6.835899829864502, -6.838600158691406, -3.8810999393463135, -6.943299770355225, -5.084099769592285, -6.0524001121521, -3.9509999752044678, -4.6834001541137695, -6.354499816894531, -5.791999816894531, -3.473099946975708, -4.674300193786621, -4.280300140380859, -4.698699951171875, -3.978300094604492, -4.435400009155273, -4.45959997177124, -3.174999952316284, -4.428699970245361, -3.610100030899048, -5.389900207519531, -5.3018999099731445, -4.208099842071533, -4.8734002113342285, -4.179800033569336, -4.703999996185303, -5.093500137329102, -4.9496002197265625, -4.999300003051758, -5.036099910736084, -5.15310001373291, -2.589900016784668, -3.578399896621704, -4.201700210571289, -4.54610013961792, -5.217599868774414, -5.354700088500977, -5.3597002029418945, -5.405099868774414, -5.454500198364258, -5.468400001525879, -6.006499767303467, -6.072000026702881, -6.483399868011475, -6.56220006942749, -6.669600009918213, -6.7866997718811035, -6.816800117492676, -6.83489990234375, -6.827899932861328, -6.849699974060059, -6.8531999588012695, -6.931399822235107, -6.997300148010254, -7.035799980163574, -7.06689977645874, -7.107399940490723, -7.115099906921387, -6.752099990844727, -7.210299968719482, -5.243000030517578, -4.5493998527526855, -4.9319000244140625, -6.037499904632568, -4.327099800109863, -4.641499996185303, -5.360400199890137, -4.75439977645874, -4.417200088500977, -4.082699775695801, -5.930699825286865, -4.986800193786621, -4.617700099945068, -3.881500005722046, -3.621299982070923, -5.734000205993652, -5.218400001525879, -4.2027997970581055, -4.726099967956543, -4.3668999671936035, -4.428899765014648, -5.542600154876709, -4.653200149536133, -3.5464000701904297, -4.122600078582764, -4.429999828338623, -4.596499919891357, -4.586699962615967, -4.093800067901611, -4.223499774932861, -4.660600185394287, -4.150100231170654, -4.4653000831604, -4.7017998695373535, -4.929599761962891, -4.060500144958496, -4.787899971008301, -5.161099910736084, -5.333899974822998, -5.378499984741211, -5.517199993133545, -5.625400066375732, -5.875899791717529, -6.174300193786621, -6.295400142669678, -6.295199871063232, -6.3684000968933105, -6.450500011444092, -6.5995001792907715, -6.63730001449585, -6.641200065612793, -6.645999908447266, -6.688499927520752, -6.759399890899658, -6.7972002029418945, -6.838399887084961, -7.05019998550415, -7.073699951171875, -6.247499942779541, -7.121399879455566, -7.229400157928467, -7.327600002288818, -7.330999851226807, -7.33459997177124, -7.350599765777588, -4.6996002197265625, -5.41510009765625, -4.173500061035156, -4.404300212860107, -6.372000217437744, -3.81030011177063, -3.848400115966797, -4.821599960327148, -2.155900001525879, -5.592800140380859, -3.82069993019104, -6.0609002113342285, -5.630099773406982, -5.196499824523926, -5.040999889373779, -4.714700222015381, -4.944799900054932, -3.510499954223633, -4.547800064086914, -5.152599811553955, -4.166299819946289, -4.913000106811523, -4.930200099945068, -4.387800216674805, -4.282700061798096, -3.964099884033203, -4.168600082397461, -4.479899883270264, -4.549799919128418, -4.552700042724609, -4.199399948120117, -4.87060022354126, -4.825799942016602, -4.832499980926514, -4.647600173950195, -4.968800067901611, -2.8469998836517334, -4.401199817657471, -5.12060022354126, -5.188600063323975, -5.252299785614014, -5.399899959564209, -5.412700176239014, -5.85260009765625, -5.873899936676025, -2.935499906539917, -6.05019998550415, -6.117700099945068, -6.332399845123291, -6.506700038909912, -6.516600131988525, -6.624599933624268, -6.629199981689453, -6.707399845123291, -6.770400047302246, -6.795599937438965, -6.813899993896484, -6.845600128173828, -6.899600028991699, -6.948299884796143, -7.002600193023682, -7.073599815368652, -7.083600044250488, -7.0868000984191895, -7.093200206756592, -7.143099784851074, -3.9995999336242676, -5.758600234985352, -3.9079999923706055, -4.649499893188477, -4.6230998039245605, -3.9681999683380127, -4.469299793243408, -5.975800037384033, -4.479300022125244, -4.73769998550415, -5.337800025939941, -5.448200225830078, -5.785399913787842, -3.9612998962402344, -5.333099842071533, -4.508600234985352, -4.711699962615967, -5.006499767303467, -5.020100116729736, -4.957499980926514, -3.6008999347686768, -4.340000152587891, -4.670300006866455, -4.416100025177002, -4.828100204467773, -4.4421000480651855, -4.611100196838379, -4.326200008392334, -4.817399978637695, -5.1732001304626465, -4.989099979400635, -5.1184000968933105, -5.140999794006348, -5.137199878692627, -2.4277000427246094, -3.7657999992370605, -4.1433000564575195, -4.44789981842041, -4.798699855804443, -5.0071001052856445, -5.922399997711182, -5.933700084686279, -5.9756999015808105, -6.014900207519531, -6.0258002281188965, -6.054299831390381, -6.0767998695373535, -6.081299781799316, -6.0991997718811035, -6.130799770355225, -6.199999809265137, -6.259699821472168, -6.375899791717529, -6.453000068664551, -6.481100082397461, -6.4822998046875, -6.5432000160217285, -6.56689977645874, -6.623899936676025, -6.669099807739258, -6.708799839019775, -6.7519001960754395, -6.7804999351501465, -6.861499786376953, -5.0019001960754395, -3.6998000144958496, -5.004899978637695, -4.082799911499023, -5.469099998474121, -5.312600135803223, -2.9647998809814453, -3.51419997215271, -5.258600234985352, -4.819399833679199, -4.350800037384033, -3.0903000831604004, -4.980299949645996, -4.4105000495910645, -5.089200019836426, -4.211100101470947, -5.191199779510498, -4.680200099945068, -4.787199974060059, -4.360599994659424, -5.230500221252441, -4.880000114440918, -4.699100017547607, -4.282800197601318, -4.187099933624268, -4.7322001457214355, -4.374499797821045, -4.718500137329102, -4.798299789428711, -5.034599781036377, -2.4626998901367188, -2.8178000450134277, -3.052000045776367, -3.793299913406372, -4.187699794769287, -4.381499767303467, -4.9145002365112305, -5.010900020599365, -5.071199893951416, -5.23769998550415, -5.334499835968018, -5.831399917602539, -5.927800178527832, -5.999000072479248, -6.445499897003174, -6.530900001525879, -6.560100078582764, -6.571000099182129, -6.592299938201904, -6.61899995803833, -6.640500068664551, -6.67609977722168, -6.6778998374938965, -6.795300006866455, -6.830399990081787, -6.85890007019043, -6.9303998947143555, -7.0100998878479, -7.0320000648498535, -7.058800220489502, -4.9222002029418945, -5.536399841308594, -5.7067999839782715, -3.8815999031066895, -3.0913000106811523, -6.026199817657471, -4.756199836730957, -4.139400005340576, -4.382299900054932, -4.281700134277344, -5.5553998947143555, -4.659299850463867, -5.033699989318848, -3.946000099182129, -4.662199974060059, -4.487100124359131, -5.093699932098389, -4.384500026702881, -4.698299884796143, -4.122099876403809, -4.619200229644775, -4.720300197601318, -4.969799995422363, -4.010000228881836, -4.830999851226807, -4.576099872589111, -4.848400115966797, -4.8942999839782715, -4.815700054168701, -3.398200035095215, -4.217599868774414, -4.2332000732421875, -4.41510009765625, -4.5680999755859375, -4.616499900817871, -4.637599945068359, -4.803899765014648, -4.966400146484375, -5.022799968719482, -5.048500061035156, -5.0528998374938965, -5.092199802398682, -5.144999980926514, -5.151700019836426, -5.179900169372559, -4.940899848937988, -5.235000133514404, -5.307700157165527, -5.310699939727783, -5.444499969482422, -5.464700222015381, -5.480199813842773, -5.5447998046875, -5.557199954986572, -5.578400135040283, -5.5858001708984375, -5.590700149536133, -5.6529998779296875, -5.721499919891357, -3.4916999340057373, -2.354099988937378, -2.3831000328063965, -2.462599992752075, -3.3993000984191895, -3.922300100326538, -4.852099895477295, -4.372900009155273, -4.285699844360352, -5.226500034332275, -5.133500099182129, -4.072999954223633, -4.790500164031982, -4.741300106048584, -4.843299865722656, -1.879699945449829, -3.3085999488830566, -3.4612998962402344, -3.6586999893188477, -3.7076001167297363, -3.9012999534606934, -4.065100193023682, -4.070000171661377, -4.20959997177124, -4.2241997718811035, -4.423500061035156, -4.490300178527832, -4.50600004196167, -4.612400054931641, -4.880000114440918, -5.028200149536133, -5.051000118255615, -5.057499885559082, -5.08650016784668, -5.3471999168396, -5.869800090789795, -5.872399806976318, -6.000100135803223, -6.063600063323975, -6.273799896240234, -6.313799858093262, -6.331299781799316, -6.339300155639648, -2.561199903488159, -6.482999801635742, -3.509999990463257, -4.033400058746338, -4.010700225830078, -3.0104000568389893, -5.452499866485596, -4.388700008392334, -4.460700035095215, -4.452300071716309, -3.607100009918213, -4.148900032043457, -4.20419979095459, -4.506100177764893, -3.978800058364868, -4.738100051879883, -4.9079999923706055, -2.0601999759674072, -2.8608999252319336, -2.8929998874664307, -3.037899971008301, -3.363100051879883, -3.393699884414673, -3.474100112915039, -3.6282999515533447, -3.884500026702881, -4.329500198364258, -4.408899784088135, -4.433700084686279, -4.489200115203857, -4.593900203704834, -4.621300220489502, -4.697000026702881, -4.749199867248535, -4.773799896240234, -4.7789998054504395, -4.795000076293945, -4.982900142669678, -5.204500198364258, -5.325399875640869, -5.3572001457214355, -5.435999870300293, -5.480199813842773, -5.542900085449219, -5.5854997634887695, -5.60699987411499, -5.613900184631348, -4.542900085449219, -4.099100112915039, -4.48330020904541, -4.85129976272583, -3.539599895477295, -4.482100009918213, -4.742800235748291, -4.370299816131592, -4.337100028991699, -4.636600017547607, -4.718599796295166], \"loglift\": [30.0, 29.0, 28.0, 27.0, 26.0, 25.0, 24.0, 23.0, 22.0, 21.0, 20.0, 19.0, 18.0, 17.0, 16.0, 15.0, 14.0, 13.0, 12.0, 11.0, 10.0, 9.0, 8.0, 7.0, 6.0, 5.0, 4.0, 3.0, 2.0, 1.0, 1.8768999576568604, 1.8767999410629272, 1.8767000436782837, 1.8765000104904175, 1.8763999938964844, 1.8761999607086182, 1.8760000467300415, 1.875499963760376, 1.8752000331878662, 1.875100016593933, 1.874899983406067, 1.874400019645691, 1.8740999698638916, 1.873900055885315, 1.873900055885315, 1.8737000226974487, 1.8734999895095825, 1.8732999563217163, 1.8730000257492065, 1.8727999925613403, 1.872499942779541, 1.872499942779541, 1.8717000484466553, 1.8716000318527222, 1.871500015258789, 1.8712999820709229, 1.87090003490448, 1.8708000183105469, 1.8705999851226807, 1.8704999685287476, 1.8545000553131104, 1.864400029182434, 1.845900058746338, 1.8486000299453735, 1.8449000120162964, 1.8437000513076782, 1.7585999965667725, 1.8307000398635864, 1.8055000305175781, 1.6585999727249146, 1.6986000537872314, 1.5059000253677368, 1.4005999565124512, 1.56659996509552, 1.573799967765808, 1.6519999504089355, 1.3791999816894531, 1.4642000198364258, 1.219499945640564, 1.3588000535964966, 1.1516000032424927, 0.902400016784668, 1.2318999767303467, 1.2591999769210815, 1.5860999822616577, 0.38659998774528503, 0.7775999903678894, 0.7573000192642212, 0.8539000153541565, 0.6847000122070312, 0.5820000171661377, 0.8737999796867371, 0.4763000011444092, 0.6638000011444092, -0.18070000410079956, 0.5515999794006348, 2.0148000717163086, 2.0146000385284424, 2.0146000385284424, 2.0144999027252197, 2.014400005340576, 2.0143001079559326, 2.0143001079559326, 2.0139999389648438, 2.0139000415802, 2.013700008392334, 2.0134999752044678, 2.013400077819824, 2.013400077819824, 2.013200044631958, 2.013200044631958, 2.012700080871582, 2.0125999450683594, 2.0123000144958496, 2.012200117111206, 2.011399984359741, 2.0113000869750977, 2.0113000869750977, 2.0107998847961426, 2.0104000568389893, 2.0104000568389893, 2.010200023651123, 2.0100998878479004, 2.0100998878479004, 2.009700059890747, 2.0095999240875244, 2.008500099182129, 1.9896999597549438, 1.9019999504089355, 1.930400013923645, 1.9905999898910522, 1.9462000131607056, 1.7122000455856323, 1.8087999820709229, 1.7587000131607056, 1.7942999601364136, 1.5765999555587769, 1.6117000579833984, 1.5374000072479248, 1.0194000005722046, 1.3483999967575073, 0.8266000151634216, 1.5946999788284302, 1.5133999586105347, 0.33820000290870667, 0.8259000182151794, -0.2849999964237213, 0.12030000239610672, 0.4375999867916107, -0.16179999709129333, -0.0640999972820282, -0.07500000298023224, -0.4059000015258789, 2.074899911880493, 2.0748000144958496, 2.0745999813079834, 2.07450008392334, 2.0739998817443848, 2.0738000869750977, 2.0738000869750977, 2.0738000869750977, 2.073699951171875, 2.073699951171875, 2.0727999210357666, 2.0725998878479004, 2.0713999271392822, 2.0710999965667725, 2.07069993019104, 2.070199966430664, 2.069999933242798, 2.0699000358581543, 2.0699000358581543, 2.0697999000549316, 2.0697999000549316, 2.0694000720977783, 2.069000005722046, 2.0687999725341797, 2.0683999061584473, 2.0683000087738037, 2.0683000087738037, 2.06820011138916, 2.0676000118255615, 2.0673000812530518, 2.051100015640259, 2.0371999740600586, 2.0536000728607178, 1.9912999868392944, 1.9335999488830566, 1.978600025177002, 1.9271999597549438, 1.8889000415802002, 1.8530000448226929, 1.9984999895095825, 1.9083000421524048, 1.8144999742507935, 1.7131999731063843, 1.674299955368042, 1.9248000383377075, 1.8248000144958496, 1.628499984741211, 1.7094999551773071, 1.4514000415802002, 1.4386999607086182, 1.8593000173568726, 1.4824999570846558, 0.9998000264167786, 0.6247000098228455, 0.9553999900817871, 1.0216000080108643, 0.9764999747276306, 0.1006999984383583, 0.21320000290870667, 0.7980999946594238, -0.25529998540878296, 0.32249999046325684, 0.7972999811172485, 0.33149999380111694, 2.090100049972534, 2.0896999835968018, 2.089400053024292, 2.089200019836426, 2.089200019836426, 2.0889999866485596, 2.0887999534606934, 2.088399887084961, 2.0876998901367188, 2.0873000621795654, 2.0873000621795654, 2.087100028991699, 2.0868000984191895, 2.0862998962402344, 2.0861001014709473, 2.0861001014709473, 2.0861001014709473, 2.085900068283081, 2.0855000019073486, 2.0852999687194824, 2.085099935531616, 2.083899974822998, 2.083699941635132, 2.0836000442504883, 2.083400011062622, 2.0826001167297363, 2.0817999839782715, 2.0817999839782715, 2.0817999839782715, 2.0815999507904053, 2.0464999675750732, 2.047600030899048, 2.018899917602539, 2.017199993133545, 2.059299945831299, 1.9631999731063843, 1.9443000555038452, 1.9680999517440796, 1.738800048828125, 1.9852999448776245, 1.756500005722046, 1.9847999811172485, 1.9079999923706055, 1.822100043296814, 1.791599988937378, 1.7239999771118164, 1.6943999528884888, 1.2367000579833984, 1.492799997329712, 1.663100004196167, 1.2770999670028687, 1.5506000518798828, 1.4465999603271484, 1.1753000020980835, 1.0430999994277954, 0.8237000107765198, 0.7925000190734863, 1.0192999839782715, 0.9096999764442444, 0.8956000208854675, -0.004999999888241291, 1.1705000400543213, 1.010599970817566, 0.9289000034332275, 0.28769999742507935, 0.21649999916553497, 2.3148999214172363, 2.314500093460083, 2.3138999938964844, 2.313800096511841, 2.313699960708618, 2.313499927520752, 2.313499927520752, 2.3125998973846436, 2.3125998973846436, 2.3124001026153564, 2.3120999336242676, 2.3118999004364014, 2.3111000061035156, 2.3104000091552734, 2.31030011177063, 2.309799909591675, 2.309799909591675, 2.309299945831299, 2.309000015258789, 2.308799982070923, 2.3087000846862793, 2.308500051498413, 2.3080999851226807, 2.307800054550171, 2.3073999881744385, 2.30679988861084, 2.30679988861084, 2.3066999912261963, 2.3066999912261963, 2.3062000274658203, 2.282399892807007, 2.293299913406372, 2.2528998851776123, 2.266400098800659, 2.2395999431610107, 2.168100118637085, 2.192199945449829, 2.2641000747680664, 2.1733999252319336, 2.1370999813079834, 2.1363000869750977, 2.1452999114990234, 2.1767001152038574, 1.8918999433517456, 2.1070001125335693, 1.9013999700546265, 1.9026000499725342, 1.9178999662399292, 1.6715999841690063, 1.6002000570297241, 0.5935999751091003, 0.5648999810218811, 0.8607000112533569, 0.5192000269889832, 1.0396000146865845, 0.3456999957561493, 0.6499999761581421, 0.11050000041723251, -0.07020000368356705, 1.3214999437332153, 0.33660000562667847, 0.2224999964237213, 0.6154000163078308, 0.31119999289512634, 2.329400062561035, 2.329200029373169, 2.3289999961853027, 2.328900098800659, 2.3285999298095703, 2.328399896621704, 2.326900005340576, 2.326900005340576, 2.3268001079559326, 2.3266000747680664, 2.3266000747680664, 2.3264999389648438, 2.3264999389648438, 2.3264999389648438, 2.3264000415802, 2.3262999057769775, 2.3261001110076904, 2.325900077819824, 2.3254001140594482, 2.3250999450683594, 2.325000047683716, 2.325000047683716, 2.324700117111206, 2.3245999813079834, 2.3243000507354736, 2.3239998817443848, 2.3238000869750977, 2.3236000537872314, 2.3234000205993652, 2.3229000568389893, 2.321500062942505, 2.3018999099731445, 2.308300018310547, 2.2797000408172607, 2.2929999828338623, 2.274399995803833, 1.9800000190734863, 1.945199966430664, 2.1570000648498535, 2.0845999717712402, 1.9773999452590942, 1.455899953842163, 1.8819999694824219, 1.5743999481201172, 1.8625999689102173, 1.3350000381469727, 1.753499984741211, 1.3808000087738037, 1.4084999561309814, 1.0247999429702759, 1.6689000129699707, 1.3489999771118164, 1.1540000438690186, 0.5483999848365784, 0.24959999322891235, 0.7111999988555908, -0.18000000715255737, 0.5770999789237976, -0.051100000739097595, 0.41370001435279846, 2.4632999897003174, 2.4632999897003174, 2.463200092315674, 2.4630000591278076, 2.462899923324585, 2.4628000259399414, 2.4623000621795654, 2.4621999263763428, 2.461899995803833, 2.461899995803833, 2.461699962615967, 2.460700035095215, 2.460400104522705, 2.460200071334839, 2.458400011062622, 2.457900047302246, 2.45770001411438, 2.45770001411438, 2.4576001167297363, 2.45740008354187, 2.4572999477386475, 2.4570000171661377, 2.4570000171661377, 2.456199884414673, 2.4560000896453857, 2.4558000564575195, 2.455199956893921, 2.4544999599456787, 2.4542999267578125, 2.4540998935699463, 2.2967000007629395, 2.341399908065796, 2.327500104904175, 2.0917000770568848, 1.8697999715805054, 2.322700023651123, 2.049099922180176, 1.9017000198364258, 1.9491000175476074, 1.861299991607666, 2.1031999588012695, 1.7175999879837036, 1.8372999429702759, 1.3150999546051025, 1.613800048828125, 1.5300999879837036, 1.7948999404907227, 1.3315000534057617, 1.4673999547958374, 0.9409000277519226, 1.3631999492645264, 1.2646000385284424, 1.4592000246047974, -0.1152999997138977, 0.8748000264167786, -0.13940000534057617, 0.6826000213623047, 0.8050000071525574, -0.027899999171495438, 2.632999897003174, 2.6326000690460205, 2.6326000690460205, 2.632499933242798, 2.6322999000549316, 2.6322999000549316, 2.6322999000549316, 2.6321001052856445, 2.6319000720977783, 2.6317999362945557, 2.6317999362945557, 2.6317999362945557, 2.631700038909912, 2.6315999031066895, 2.6315999031066895, 2.6315999031066895, 2.631500005722046, 2.631500005722046, 2.6312999725341797, 2.6312999725341797, 2.6310999393463135, 2.63100004196167, 2.63100004196167, 2.6308000087738037, 2.6308000087738037, 2.63070011138916, 2.63070011138916, 2.63070011138916, 2.6305999755859375, 2.6303999423980713, 2.627700090408325, 2.4702000617980957, 2.4481000900268555, 2.4423000812530518, 2.3571999073028564, 2.4214000701904297, 2.452199935913086, 2.3113999366760254, 2.262399911880493, 2.504499912261963, 2.401599884033203, 0.8716999888420105, 0.652899980545044, 0.04650000110268593, 0.09189999848604202, 2.704400062561035, 2.704200029373169, 2.704200029373169, 2.7040998935699463, 2.7040998935699463, 2.7039999961853027, 2.703900098800659, 2.703900098800659, 2.7037999629974365, 2.7037999629974365, 2.703700065612793, 2.7035999298095703, 2.7035999298095703, 2.7035000324249268, 2.703200101852417, 2.703000068664551, 2.702899932861328, 2.702899932861328, 2.702899932861328, 2.702399969100952, 2.700900077819824, 2.700900077819824, 2.7004001140594482, 2.700200080871582, 2.699199914932251, 2.698899984359741, 2.6988000869750977, 2.6988000869750977, 2.6986000537872314, 2.6979000568389893, 2.669300079345703, 2.4986000061035156, 2.456199884414673, 2.3304998874664307, 2.587899923324585, 2.3763999938964844, 2.1231000423431396, 2.0083000659942627, 1.455899953842163, 1.5569000244140625, 1.585800051689148, 1.8073999881744385, 0.9564999938011169, 1.4276000261306763, 2.102400064468384, 3.1129000186920166, 3.112799882888794, 3.112799882888794, 3.1126999855041504, 3.112600088119507, 3.112600088119507, 3.112499952316284, 3.112499952316284, 3.112299919128418, 3.1119000911712646, 3.111799955368042, 3.111799955368042, 3.1117000579833984, 3.1115000247955322, 3.1115000247955322, 3.1113998889923096, 3.111299991607666, 3.1112000942230225, 3.1112000942230225, 3.1112000942230225, 3.11080002784729, 3.1101999282836914, 3.1098999977111816, 3.109800100326538, 3.109499931335449, 3.1094000339508057, 3.109100103378296, 3.1089000701904297, 3.1089000701904297, 3.108799934387207, 3.059799909591675, 2.7383999824523926, 2.7723000049591064, 2.8371999263763428, 2.289599895477295, 2.6454999446868896, 2.647200107574463, 2.226300001144409, 1.0037000179290771, 1.2071000337600708, 1.3904999494552612]}, \"token.table\": {\"Topic\": [1, 10, 3, 6, 1, 3, 3, 9, 3, 4, 9, 7, 1, 2, 5, 5, 4, 7, 6, 1, 2, 3, 4, 5, 6, 7, 8, 9, 6, 3, 4, 5, 6, 8, 9, 1, 8, 2, 4, 5, 7, 9, 9, 10, 5, 7, 5, 5, 9, 3, 1, 2, 3, 4, 5, 6, 7, 8, 2, 3, 4, 7, 8, 1, 1, 2, 3, 4, 5, 6, 7, 10, 6, 8, 2, 6, 7, 7, 5, 1, 1, 2, 3, 6, 7, 5, 8, 9, 6, 8, 2, 7, 3, 3, 4, 8, 2, 2, 2, 4, 2, 9, 10, 3, 6, 8, 7, 6, 8, 6, 6, 9, 8, 1, 2, 3, 5, 6, 7, 8, 3, 8, 7, 6, 6, 8, 2, 2, 5, 7, 3, 8, 6, 5, 8, 5, 10, 1, 2, 3, 4, 9, 10, 9, 1, 2, 3, 5, 6, 8, 2, 1, 2, 4, 6, 8, 10, 1, 1, 2, 3, 7, 1, 2, 4, 5, 5, 8, 1, 4, 5, 4, 6, 7, 6, 4, 6, 7, 9, 6, 7, 4, 8, 9, 4, 9, 9, 9, 5, 1, 2, 3, 4, 5, 6, 7, 8, 9, 5, 6, 1, 2, 3, 4, 5, 6, 7, 8, 9, 1, 2, 3, 6, 6, 1, 1, 2, 5, 6, 8, 5, 10, 4, 9, 1, 2, 3, 4, 5, 6, 7, 8, 9, 1, 3, 1, 2, 3, 4, 5, 6, 7, 10, 1, 2, 3, 5, 6, 7, 10, 3, 8, 4, 9, 4, 5, 10, 4, 10, 1, 5, 6, 6, 6, 1, 2, 3, 4, 5, 6, 7, 8, 1, 2, 2, 2, 1, 2, 3, 1, 2, 4, 9, 10, 6, 7, 6, 1, 2, 3, 4, 5, 6, 7, 8, 2, 7, 2, 4, 7, 9, 3, 6, 7, 9, 7, 1, 1, 10, 3, 4, 6, 8, 8, 8, 5, 9, 1, 3, 8, 4, 7, 1, 10, 1, 2, 1, 2, 3, 4, 6, 7, 8, 9, 10, 9, 4, 4, 3, 3, 1, 1, 3, 5, 7, 9, 1, 2, 3, 6, 7, 10, 8, 8, 4, 9, 2, 1, 2, 4, 5, 7, 9, 5, 8, 1, 2, 3, 4, 5, 6, 7, 8, 4, 5, 9, 10, 1, 2, 3, 4, 5, 9, 1, 2, 3, 4, 5, 6, 7, 8, 2, 3, 4, 2, 1, 1, 1, 9, 1, 7, 1, 7, 7, 7, 2, 7, 10, 4, 2, 2, 1, 2, 3, 4, 5, 6, 7, 8, 9, 10, 7, 1, 2, 4, 7, 8, 9, 1, 4, 5, 9, 10, 4, 6, 1, 2, 3, 4, 5, 6, 7, 1, 2, 3, 4, 6, 10, 6, 8, 8, 5, 1, 2, 4, 5, 8, 9, 8, 1, 3, 10, 2, 3, 4, 5, 6, 7, 8, 9, 1, 5, 4, 7, 3, 6, 7, 4, 10, 4, 6, 5, 2, 7, 2, 1, 4, 5, 10, 1, 5, 1, 5, 2, 8, 1, 1, 2, 4, 7, 8, 2, 10, 6, 3, 4, 4, 1, 2, 3, 4, 5, 6, 7, 8, 10, 1, 1, 3, 4, 7, 9, 4, 7, 9, 2, 4, 8, 5, 5, 4, 2, 5, 7, 9, 10, 1, 2, 3, 4, 5, 6, 8, 9, 8, 1, 8, 5, 9, 9, 4, 10, 9, 9, 8, 10, 10, 10, 3, 3, 3, 8, 10, 5, 4, 7, 1, 4, 8, 2, 3, 4, 7, 9, 4, 6, 9, 4, 10, 4, 10, 8, 8, 10, 10, 10, 4, 10, 10, 7, 8, 10, 5, 5, 8, 10, 5, 1, 4, 8, 2, 3, 4, 5, 7, 8, 2, 4, 10, 10, 10, 3, 3, 3, 4, 5, 7, 10, 1, 8, 7, 7, 7, 3, 1, 7, 1, 4, 10, 8, 5, 9, 5, 10, 3, 1, 5, 9, 3, 8, 7, 6, 6, 4, 6, 4, 3, 10, 2, 3, 4, 4, 9, 5, 8, 1, 3, 4, 5, 6, 7, 8, 1, 5, 10, 4, 2, 7, 1, 5, 10, 4, 4, 7, 9, 9, 9, 9, 9, 9, 9, 9, 9, 9, 3, 2, 4, 8, 1, 2, 5, 1, 2, 3, 5, 8, 9, 6, 1, 2, 5, 6, 7, 8, 10, 7, 2, 1, 4, 3, 3, 6, 1, 4, 6, 7, 8, 9, 1, 4, 7, 9, 1, 4, 7, 9, 1, 9, 2, 3, 5, 1, 2, 3, 4, 5, 6, 7, 10, 1, 6, 3, 4, 6, 9, 5, 8, 1, 2, 3, 4, 5, 6, 7, 8, 9, 1, 2, 3, 4, 5, 6, 7, 8, 9, 1, 2, 4, 6, 7, 9, 10, 1, 4, 7, 9, 3, 4, 5, 6, 8, 6, 2, 1, 2, 5, 5, 1, 2, 4, 5, 6, 3, 10, 10, 5, 8, 2, 8, 2, 8, 1, 2, 4, 5, 7, 9, 10, 2, 3, 5, 1, 2, 3, 4, 7, 8, 10, 2, 7, 1, 2, 3, 4, 5, 6, 7, 8, 1, 2, 1, 5, 6, 8, 1, 2, 5, 7, 1, 2, 3, 4, 5, 7, 8, 10, 2, 2, 2, 3, 4, 5, 6, 7, 8, 9, 3, 4, 5, 1, 2, 4, 5, 6, 7, 8, 1, 7, 9, 9, 2, 3, 9, 1, 2, 9, 8, 2, 3, 9, 1, 1, 2, 3, 4, 5, 6, 7, 8, 5, 7, 6, 4, 8, 9, 1, 4, 9, 4, 3, 1, 3, 4, 6, 8, 3, 8, 1, 2, 4, 3, 8, 7, 7, 1, 6, 1, 2, 3, 6, 7, 8, 3, 5, 6, 8, 2, 4, 7, 3, 4, 9, 5, 8, 1, 2, 4, 6, 7, 8, 8, 8, 8, 3, 3, 9, 6, 10, 5, 8, 1, 4, 7, 1, 2, 4, 5, 6, 1, 2, 3, 4, 5, 8, 1, 2, 4, 5, 6, 7, 9, 5, 4, 4, 8, 7, 7, 2, 4, 5, 7, 10, 1, 5, 8, 5, 4, 9, 3, 1, 4, 2, 3, 4, 8, 3, 5, 10, 2, 2, 3, 5, 8, 8, 5, 2, 5, 10, 10, 4, 7, 10, 10, 10, 4, 2, 3, 6, 8, 3, 6, 8, 6, 6, 5, 1, 8, 5, 4, 4, 9, 10, 6, 9, 10, 9, 7, 1, 2, 3, 6, 7, 9, 10, 1, 8, 2, 4, 7, 8, 9, 10, 2, 4, 7, 8, 3, 8, 1, 5, 5, 1, 3, 5, 6, 7, 8, 5, 8, 9, 8, 3, 4, 6, 8, 3, 4, 5, 6, 8, 9, 2, 6, 6, 1, 3, 4, 6, 7, 9, 3, 3, 10, 2, 3, 4, 7, 9, 4], \"Freq\": [0.9986417293548584, 0.9949923753738403, 0.9924845695495605, 0.9972703456878662, 0.30343881249427795, 0.696397066116333, 0.8626294732093811, 0.13689684867858887, 0.7705245614051819, 0.05031236633658409, 0.17842255532741547, 0.9929953813552856, 0.9970129132270813, 0.9945836067199707, 0.996100127696991, 0.9943320751190186, 0.9948466420173645, 0.9964576959609985, 0.9976507425308228, 0.07555795460939407, 0.12592992186546326, 0.32643651962280273, 0.12887373566627502, 0.004088633693754673, 0.27132174372673035, 0.030582981184124947, 0.035489343106746674, 0.0016354535473510623, 0.9974427223205566, 0.0005943634314462543, 0.7162079215049744, 0.09648499637842178, 0.054483313113451004, 0.01624593324959278, 0.11590086668729782, 0.998647153377533, 0.9974187016487122, 0.9988275170326233, 0.05896978825330734, 0.3297324776649475, 0.06395315378904343, 0.5473393201828003, 0.9655212163925171, 0.03436662256717682, 0.9955428242683411, 0.9963939189910889, 0.9956251382827759, 0.84370356798172, 0.15475338697433472, 0.9980729222297668, 0.07402042299509048, 0.03239481896162033, 0.1961105763912201, 0.3026999831199646, 0.13480424880981445, 0.1471700221300125, 0.06618296355009079, 0.04632807523012161, 0.17855919897556305, 0.333284467458725, 0.40048837661743164, 0.06290597468614578, 0.02461538277566433, 0.9995156526565552, 0.19679754972457886, 0.021158285439014435, 0.11139965057373047, 0.05506252869963646, 0.034669000655412674, 0.0002549191121943295, 0.1417350322008133, 0.4389707148075104, 0.9515175223350525, 0.04822760075330734, 0.9968265295028687, 0.9913925528526306, 0.9922071099281311, 0.9947291016578674, 0.9988449215888977, 0.9965690970420837, 0.7330024242401123, 0.058007389307022095, 0.0399271622300148, 0.10923469066619873, 0.05951407551765442, 0.8358882069587708, 0.162423774600029, 0.9992049336433411, 0.9634513854980469, 0.035226743668317795, 0.9996441006660461, 0.9969666600227356, 0.9994490146636963, 0.9989800453186035, 0.9310128092765808, 0.06854306906461716, 0.9989902973175049, 0.9959375262260437, 0.9973245859146118, 0.9918487071990967, 0.9981628656387329, 0.994159996509552, 0.00576993590220809, 0.12305589765310287, 0.7050713300704956, 0.17179402709007263, 0.9959035515785217, 0.9994674921035767, 0.9980056881904602, 0.9981806874275208, 0.9914807081222534, 0.006814300548285246, 0.9987775087356567, 0.22520960867404938, 0.30475497245788574, 0.15541742742061615, 0.11032484471797943, 0.12495460361242294, 0.07409877330064774, 0.005256579723209143, 0.005110784433782101, 0.9945586323738098, 0.9877219200134277, 0.997674286365509, 0.9791958928108215, 0.02023596502840519, 0.9988027811050415, 0.1340193897485733, 0.8117745518684387, 0.05233138054609299, 0.926354169845581, 0.07285931706428528, 0.9976860284805298, 0.8677129149436951, 0.1318412572145462, 0.998497486114502, 0.9965851306915283, 0.297049343585968, 0.08190038055181503, 0.2664971649646759, 0.339668333530426, 0.00025674101198092103, 0.01437749620527029, 0.9995195269584656, 0.6896756887435913, 0.09753862023353577, 0.0073369755409657955, 0.11998113244771957, 0.006042215041816235, 0.07898038625717163, 0.9996707439422607, 0.8039072155952454, 0.08293532580137253, 0.019791385158896446, 0.07728064805269241, 0.016021596267819405, 0.997970461845398, 0.9975511431694031, 0.1454543024301529, 0.2420775145292282, 0.5530726313591003, 0.059220679104328156, 0.9955434799194336, 0.9337953329086304, 0.013757574371993542, 0.05159090459346771, 0.2745509743690491, 0.7247426509857178, 0.04364580661058426, 0.8334941267967224, 0.12248984724283218, 0.1145833283662796, 0.8419383764266968, 0.042346011847257614, 0.9952654838562012, 0.20075388252735138, 0.4700143039226532, 0.3014286756515503, 0.027700461447238922, 0.9461506605148315, 0.051742613315582275, 0.9291743040084839, 0.01613149791955948, 0.0543861947953701, 0.1070156991481781, 0.8910220265388489, 0.999270498752594, 0.9951962232589722, 0.998178243637085, 0.1922905296087265, 0.30444133281707764, 0.04969557374715805, 0.053277235478162766, 0.10879301279783249, 0.04163683205842972, 0.1904996931552887, 0.03447350487112999, 0.024847786873579025, 0.8712814450263977, 0.1269274204969406, 0.33294469118118286, 0.1567937284708023, 0.27892038226127625, 0.041178148239851, 0.0631750226020813, 0.07654912024736404, 0.041178148239851, 0.00615912489593029, 0.0031675498466938734, 0.2656711935997009, 0.06258600205183029, 0.6399099230766296, 0.03167618066072464, 0.9985861778259277, 0.9991180300712585, 0.0005221523460932076, 0.005221523344516754, 0.6550400853157043, 0.3085920214653015, 0.030284835025668144, 0.9790289998054504, 0.01882748119533062, 0.9582595825195312, 0.040471453219652176, 0.04856319725513458, 0.3695674240589142, 0.13887980580329895, 0.12302345037460327, 0.17879408597946167, 0.08131974190473557, 0.025897057726979256, 0.026791773736476898, 0.0072074346244335175, 0.9933634996414185, 0.9953268766403198, 0.35925862193107605, 0.055867429822683334, 0.18622475862503052, 0.012414984405040741, 0.06595460325479507, 0.021208930760622025, 0.15027303993701935, 0.14872117340564728, 0.6209341287612915, 0.041057687252759933, 0.06107964366674423, 0.08008783310651779, 0.059558991342782974, 0.09580127149820328, 0.04156457260251045, 0.9761968851089478, 0.023150913417339325, 0.9993351697921753, 0.9986917972564697, 0.9997459650039673, 0.9942984580993652, 0.9941584467887878, 0.9877942800521851, 0.9946520924568176, 0.9308009743690491, 0.0674077719449997, 0.9966610670089722, 0.9951821565628052, 0.9965180158615112, 0.24641412496566772, 0.11619684100151062, 0.15902641415596008, 0.04974377155303955, 0.03437889739871025, 0.36990928649902344, 0.014212505891919136, 0.010179227218031883, 0.9689584970474243, 0.03057602420449257, 0.9998496174812317, 0.9966315627098083, 0.9987230896949768, 0.9972035884857178, 0.9988837838172913, 0.1326003223657608, 0.06069732829928398, 0.16621729731559753, 0.014007075689733028, 0.6265832185745239, 0.9999142289161682, 8.724493818590418e-05, 0.9990473389625549, 0.16957838833332062, 0.14362947642803192, 0.1322483867406845, 0.06851422041654587, 0.10334038734436035, 0.04529677703976631, 0.32231274247169495, 0.015023051761090755, 0.9740607738494873, 0.023302888497710228, 0.7740799188613892, 0.15406140685081482, 0.06068132817745209, 0.01100438553839922, 0.3410596251487732, 0.37527966499328613, 0.26577556133270264, 0.017490237951278687, 0.9913378357887268, 0.9960722327232361, 0.9976153373718262, 0.9994460940361023, 0.00046981536434032023, 9.396307723363861e-05, 0.16847579181194305, 0.8310094475746155, 0.9991087317466736, 0.9990325570106506, 0.9678050875663757, 0.0316721610724926, 0.9993733763694763, 0.9789561033248901, 0.019579121842980385, 0.5254203081130981, 0.47428879141807556, 0.37151116132736206, 0.6276838779449463, 0.9669188261032104, 0.030488431453704834, 0.0022837957367300987, 0.1002660021185875, 0.09728232771158218, 0.7035932540893555, 0.0047517684288322926, 0.07588095217943192, 0.0006262020324356854, 0.015139355324208736, 0.00022101249487604946, 0.9995757937431335, 0.995326578617096, 0.9941622018814087, 0.9999306201934814, 0.9997503757476807, 0.9916441440582275, 0.36994078755378723, 0.14381076395511627, 0.3704366981983185, 0.11008961498737335, 0.00545489089563489, 0.11891324818134308, 0.015426583588123322, 0.3364923596382141, 0.387271523475647, 0.13787509500980377, 0.0038566458970308304, 0.9993293285369873, 0.9992081522941589, 0.9571356177330017, 0.04272357374429703, 0.9989733695983887, 0.002786502707749605, 0.34970608353614807, 0.13050121068954468, 0.03901103511452675, 0.366425096988678, 0.11146010458469391, 0.9521569013595581, 0.04685216769576073, 0.32631656527519226, 0.058102354407310486, 0.12263670563697815, 0.03001597709953785, 0.1592990756034851, 0.1687326729297638, 0.024870380759239197, 0.10998711735010147, 0.06726080179214478, 0.1234157457947731, 0.6879372000694275, 0.12138228118419647, 0.001241263933479786, 0.07116580009460449, 0.09433605521917343, 0.2494940459728241, 0.17625947296619415, 0.4079620838165283, 0.014447404071688652, 0.13539281487464905, 0.3488016128540039, 0.08049268275499344, 0.10835552960634232, 0.12135819345712662, 0.13105858862400055, 0.06026631221175194, 0.6681473255157471, 0.32900235056877136, 0.0028526214882731438, 0.9994897246360779, 0.9987788200378418, 0.997897744178772, 0.9774083495140076, 0.022443359717726707, 0.9726467728614807, 0.026752563193440437, 0.12486065924167633, 0.8740246295928955, 0.9998531341552734, 0.9972849488258362, 0.9943341016769409, 0.999420702457428, 0.997899055480957, 0.9985441565513611, 0.9998759627342224, 0.9990057945251465, 0.12772557139396667, 0.12501466274261475, 0.057450439780950546, 0.16484418511390686, 0.16599111258983612, 0.023459799587726593, 0.07965905219316483, 0.07872065901756287, 0.1741238385438919, 0.002919441554695368, 0.991168200969696, 0.8363813757896423, 0.01701558381319046, 0.023560037836432457, 0.03795783966779709, 0.05104674771428108, 0.03403116762638092, 0.23637504875659943, 0.051503736525774, 0.014095759019255638, 0.5589510798454285, 0.13824687898159027, 0.9004324674606323, 0.09822899848222733, 0.7985504865646362, 0.04675642028450966, 0.052908580750226974, 0.009843457490205765, 0.02706950716674328, 0.020917346701025963, 0.04429555684328079, 0.24081912636756897, 0.1553432047367096, 0.07061054557561874, 0.016351915895938873, 0.5165718793869019, 0.9988701939582825, 0.9951496124267578, 0.9989856481552124, 0.9977001547813416, 0.9941900968551636, 0.2926085591316223, 0.02799323759973049, 0.0707753524184227, 0.48908936977386475, 0.004753568675369024, 0.11408564448356628, 0.9987521767616272, 0.2592138946056366, 0.05310042202472687, 0.6875107288360596, 0.11288418620824814, 0.2787286341190338, 0.3426841199398041, 0.09437557309865952, 0.11673250794410706, 0.01594305783510208, 0.02070765011012554, 0.018142100423574448, 0.9957490563392639, 0.9961199760437012, 0.9957582354545593, 0.9955779910087585, 0.907886803150177, 0.09113476425409317, 0.9997586607933044, 0.2876247763633728, 0.7111018300056458, 0.9936575293540955, 0.9977117776870728, 0.9874516725540161, 0.12985007464885712, 0.8677785992622375, 0.9945389032363892, 0.09659592807292938, 0.8642017245292664, 0.03736025467514992, 0.001720538130030036, 0.3385220766067505, 0.6610976457595825, 0.47403812408447266, 0.5253670811653137, 0.1503332406282425, 0.8495554327964783, 0.9980674386024475, 0.366611510515213, 0.2156887799501419, 0.0623893141746521, 0.3327430188655853, 0.02228189818561077, 0.9749520421028137, 0.022086292505264282, 0.9957026839256287, 0.0031111983116716146, 0.9924722909927368, 0.9959462285041809, 0.11370516568422318, 0.11971397697925568, 0.07210571318864822, 0.3508220314979553, 0.13835670053958893, 0.0941380187869072, 0.07041092216968536, 0.009398394264280796, 0.03127662464976311, 0.995000422000885, 0.9943451285362244, 0.9922414422035217, 0.3985690772533417, 0.5702846050262451, 0.030877288430929184, 0.20550408959388733, 0.6895280480384827, 0.10481297224760056, 0.013757587410509586, 0.9699099063873291, 0.013757587410509586, 0.9920039176940918, 0.9965112209320068, 0.9942429065704346, 0.08708614110946655, 0.14882631599903107, 0.03314472362399101, 0.7200853824615479, 0.010398345068097115, 0.014378600753843784, 0.09298162162303925, 0.18069109320640564, 0.0009585734223946929, 0.18692182004451752, 0.01965075545012951, 0.006230727303773165, 0.4984581768512726, 0.9983003735542297, 0.99514240026474, 0.9988785982131958, 0.9995916485786438, 0.9969030022621155, 0.9992846250534058, 0.9935712814331055, 0.9996656179428101, 0.999465823173523, 0.9989332556724548, 0.9991872906684875, 0.9978610277175903, 0.998842716217041, 0.9978522658348083, 0.9961602687835693, 0.994752824306488, 0.9626461267471313, 0.03028191439807415, 0.00637514004483819, 0.9951105713844299, 0.9980700016021729, 0.9938008785247803, 0.18947447836399078, 0.016842175275087357, 0.7929857969284058, 0.21746082603931427, 0.08525042235851288, 0.14593715965747833, 0.5346212983131409, 0.01661660708487034, 0.30714356899261475, 0.681034505367279, 0.011799667030572891, 0.8997142314910889, 0.09817728400230408, 0.9911515712738037, 0.9993410706520081, 0.9984917640686035, 0.9973194599151611, 0.9997062683105469, 0.998512327671051, 0.9978092312812805, 0.2389155626296997, 0.7592933177947998, 0.9994257688522339, 0.885808527469635, 0.09886255860328674, 0.013840758241713047, 0.9962092041969299, 0.8840864300727844, 0.08260847628116608, 0.03280903771519661, 0.9990857243537903, 0.027315523475408554, 0.09218989312648773, 0.8792184591293335, 0.6204470992088318, 0.09014270454645157, 0.08773085474967957, 0.0012059224536642432, 0.16370397806167603, 0.036479152739048004, 0.034636467695236206, 0.884562075138092, 0.07993030548095703, 0.9988584518432617, 0.9983428716659546, 0.9974947571754456, 0.9925068616867065, 0.9939396381378174, 0.13598854839801788, 0.0865996703505516, 0.660999059677124, 0.11569174379110336, 0.9687169194221497, 0.031195970252156258, 0.9986228346824646, 0.997712254524231, 0.9987930059432983, 0.9992979168891907, 0.9550803303718567, 0.0443192720413208, 0.28884148597717285, 0.29872578382492065, 0.41184622049331665, 0.9976159930229187, 0.990261971950531, 0.9999238848686218, 0.9973329305648804, 0.002565670059993863, 0.9977267980575562, 0.16244979202747345, 0.8369064927101135, 0.9987210631370544, 0.9921519756317139, 0.006726454012095928, 0.9992412328720093, 0.9973254203796387, 0.9971160292625427, 0.21654491126537323, 0.7825484871864319, 0.9989311099052429, 0.9943581223487854, 0.9992655515670776, 0.05774444714188576, 0.805965006351471, 0.13514657318592072, 0.995856523513794, 0.9987471699714661, 0.16491597890853882, 0.8346085548400879, 0.23950955271720886, 0.1032162681221962, 0.033874064683914185, 0.05220590904355049, 0.11995403468608856, 0.42761024832725525, 0.02391110360622406, 0.11504779756069183, 0.8632050156593323, 0.021484829485416412, 0.9989201426506042, 0.9973669648170471, 0.9919111728668213, 0.9977014064788818, 0.9514256715774536, 0.04828130081295967, 0.9931342601776123, 0.9957149624824524, 0.9981157183647156, 0.997446596622467, 0.9949384927749634, 0.9963547587394714, 0.9989570379257202, 0.9997997879981995, 0.9931483268737793, 0.9995142817497253, 0.9950083494186401, 0.9978923201560974, 0.9965459704399109, 0.9992935061454773, 0.13230232894420624, 0.764506459236145, 0.10215748846530914, 0.2362535446882248, 0.09069087356328964, 0.6721794009208679, 0.05018426850438118, 0.6452262997627258, 0.15559060871601105, 0.02518901415169239, 0.08331751078367233, 0.040302421897649765, 0.9932180047035217, 0.015090747736394405, 0.15426097810268402, 0.6623161435127258, 0.09445690363645554, 0.0011178331915289164, 0.03241715952754021, 0.040241993963718414, 0.994020402431488, 0.9983147382736206, 0.9994932413101196, 0.994716465473175, 0.9997859001159668, 0.9992488026618958, 0.9967578649520874, 0.4839998185634613, 0.31298020482063293, 0.006192910950630903, 0.15529915690422058, 0.01691141165792942, 0.024533456191420555, 0.37722286581993103, 0.11764519661664963, 0.21811158955097198, 0.28694528341293335, 0.3275742828845978, 0.09872579574584961, 0.5477014183998108, 0.025815226137638092, 0.9872400760650635, 0.012355946004390717, 0.9952553510665894, 0.7784436345100403, 0.2205733358860016, 0.5390939712524414, 0.10781878978013992, 0.11158867925405502, 0.030536090955138206, 0.10781878978013992, 0.04900854080915451, 0.031290069222450256, 0.022619325667619705, 0.9942739009857178, 0.9995817542076111, 0.007875555194914341, 0.01908307522535324, 0.9729339480400085, 0.9970541596412659, 0.30916863679885864, 0.6900057792663574, 0.06874042004346848, 0.11345767974853516, 0.17338061332702637, 0.2817997336387634, 0.13955023884773254, 0.06244221329689026, 0.08277641981840134, 0.07530854642391205, 0.002699231030419469, 0.07706116884946823, 0.15772753953933716, 0.10342420637607574, 0.050698138773441315, 0.05745789036154747, 0.0286162830889225, 0.20414450764656067, 0.003154550911858678, 0.31748300790786743, 0.22499345242977142, 0.09326651692390442, 0.5826753377914429, 0.00624981801956892, 0.021153230220079422, 0.001442265696823597, 0.06922875344753265, 0.10670563578605652, 0.24481627345085144, 0.3693656623363495, 0.2790762782096863, 0.03615523502230644, 0.7418776750564575, 0.047975219786167145, 0.06257636845111847, 0.11055158823728561, 0.9994802474975586, 0.9999532103538513, 0.6074767112731934, 0.32366228103637695, 0.06831063330173492, 0.9989312887191772, 0.8882304430007935, 0.001175296725705266, 0.022624460980296135, 0.04965628311038017, 0.03819714114069939, 0.99433833360672, 0.998462975025177, 0.9986562728881836, 0.17376591265201569, 0.82614666223526, 0.9973260760307312, 0.9988330602645874, 0.9969384074211121, 0.9984795451164246, 0.5243819952011108, 0.07317741960287094, 0.022256728261709213, 0.08632912486791611, 0.11128363758325577, 0.0037094545550644398, 0.17872826755046844, 0.8137142658233643, 0.05588158220052719, 0.12990017235279083, 0.14766542613506317, 0.17473742365837097, 0.049837082624435425, 0.1685847043991089, 0.3931592106819153, 0.025841450318694115, 0.03968508541584015, 0.30173927545547485, 0.6971765756607056, 0.27376091480255127, 0.20659774541854858, 0.06527126580476761, 0.0005675762076862156, 0.23365220427513123, 0.050514284521341324, 0.1685701310634613, 0.0011351524153724313, 0.005410271231085062, 0.9936864972114563, 0.32663166522979736, 0.0015553889097645879, 0.5622730851173401, 0.10965491831302643, 0.16173206269741058, 0.15288732945919037, 0.08676251024007797, 0.5980716943740845, 0.0286577045917511, 0.14391836524009705, 0.026768185198307037, 0.5501649379730225, 0.034011341631412506, 0.11211145669221878, 0.007558075711131096, 0.09699530899524689, 0.998634397983551, 0.9994695782661438, 0.08881330490112305, 0.2344740331172943, 0.42583730816841125, 0.09209628403186798, 0.09252825379371643, 0.019957074895501137, 0.04613453522324562, 8.63942623254843e-05, 0.0892079547047615, 0.8805065751075745, 0.030137822031974792, 0.6618294715881348, 0.01427962351590395, 0.19060193002223969, 0.03911374881863594, 0.0031042657792568207, 0.08878200501203537, 0.0024834126234054565, 0.5178951025009155, 0.15514793992042542, 0.3267175555229187, 0.9996984601020813, 0.8933162093162537, 0.09815514087677002, 0.008353629149496555, 0.14951297640800476, 0.8020232915878296, 0.04802238196134567, 0.99918133020401, 0.13839679956436157, 0.8466627597808838, 0.014801795594394207, 0.994297981262207, 0.013864976353943348, 0.10239862650632858, 0.17490090429782867, 0.10716471076011658, 0.18919916450977325, 0.05603761225938797, 0.31716132164001465, 0.03913967311382294, 0.999913215637207, 0.9986695647239685, 0.9955388903617859, 0.6521700620651245, 0.058791015297174454, 0.288486123085022, 0.2624378502368927, 0.6732848882675171, 0.06417694687843323, 0.9933773279190063, 0.9968129992485046, 0.9982713460922241, 0.2430858165025711, 0.34090855717658997, 0.39827826619148254, 0.01801997795701027, 0.8680060505867004, 0.13114146888256073, 0.2275514006614685, 0.6054370403289795, 0.1660510152578354, 0.9196295142173767, 0.07982318103313446, 0.999845027923584, 0.9900639653205872, 0.3602846562862396, 0.6389143466949463, 0.9931293725967407, 0.18697881698608398, 0.341239869594574, 0.41748708486557007, 0.04430676996707916, 0.009963723830878735, 0.5292738676071167, 0.2792065441608429, 0.1806630641222, 0.010596074163913727, 0.301507830619812, 0.6930460333824158, 0.005157988052815199, 0.060226574540138245, 0.12560071051120758, 0.8138308525085449, 0.9911090731620789, 0.9980813264846802, 0.11906363070011139, 0.18956182897090912, 0.06188175454735756, 0.6266506910324097, 0.0023499401286244392, 0.9991188645362854, 0.996842086315155, 0.999113917350769, 0.9985561966896057, 0.999118983745575, 0.9966787099838257, 0.9990721940994263, 0.9955254197120667, 0.9979886412620544, 0.19059611856937408, 0.8088608980178833, 0.02353181317448616, 0.12993653118610382, 0.846122145652771, 0.7384352684020996, 0.023480946198105812, 0.1206434816122055, 0.11416597664356232, 0.0032387510873377323, 0.22891731560230255, 0.5134910345077515, 0.12558993697166443, 0.05517245829105377, 0.0692075565457344, 0.007501518819481134, 0.5955001711845398, 0.14832325279712677, 0.03443218395113945, 0.08122463524341583, 0.07416162639856339, 0.04458526149392128, 0.02207191288471222, 0.9950571060180664, 0.998160183429718, 0.9971604347229004, 0.9998414516448975, 0.9995701313018799, 0.9940541982650757, 0.6572169065475464, 0.13111962378025055, 0.00080938043538481, 0.19667944312095642, 0.013759467750787735, 0.058307431638240814, 0.18274402618408203, 0.7587077021598816, 0.9953909516334534, 0.9913884401321411, 0.9996266961097717, 0.9976144433021545, 0.9996480345726013, 0.0002547522890381515, 0.08421862125396729, 0.8007858395576477, 0.0981132760643959, 0.016163170337677002, 0.9912257790565491, 0.9964587092399597, 0.9995578527450562, 0.9982590675354004, 0.9189448952674866, 0.08044259250164032, 0.9928721785545349, 0.9989392757415771, 0.9981291890144348, 0.9963018298149109, 0.9950152039527893, 0.000271121331024915, 0.004880183842033148, 0.9950887560844421, 0.9991997480392456, 0.9954136610031128, 0.9998207688331604, 0.9997866153717041, 0.9988517761230469, 0.9980156421661377, 0.9960922598838806, 0.8303765058517456, 0.08952625095844269, 0.07967014610767365, 0.9946064352989197, 0.00507452292367816, 0.9969497919082642, 0.9989249110221863, 0.9952090978622437, 0.9899665713310242, 0.9946205019950867, 0.999313235282898, 0.9982725977897644, 0.9989542365074158, 0.20209011435508728, 0.7799038290977478, 0.017363350838422775, 0.9973278641700745, 0.05105631798505783, 0.9475452303886414, 0.9988661408424377, 0.9999130368232727, 0.7476329803466797, 0.042433224618434906, 0.07476329803466797, 0.044453851878643036, 0.08991801738739014, 0.9985226392745972, 0.9990105628967285, 0.993274986743927, 0.006412822753190994, 0.12368854135274887, 0.273163378238678, 0.5523185729980469, 0.012090661562979221, 0.0006419820711016655, 0.038090936839580536, 0.21176299452781677, 0.2610273063182831, 0.5124958753585815, 0.013970475643873215, 0.8609470129013062, 0.13819628953933716, 0.07236724346876144, 0.9271605610847473, 0.9936752319335938, 0.00046746351290494204, 0.6937158703804016, 0.10143958777189255, 0.15099072456359863, 0.005142098758369684, 0.0481487438082695, 0.9397996664047241, 0.03303150832653046, 0.026993490755558014, 0.9981564283370972, 0.6699490547180176, 0.12723201513290405, 0.17343023419380188, 0.02945323847234249, 0.19341078400611877, 0.443319708108902, 0.022010009735822678, 0.19826339185237885, 0.1379525065422058, 0.004852600395679474, 0.29641976952552795, 0.7032621502876282, 0.9979780912399292, 0.09026799350976944, 0.5360607504844666, 0.13262839615345, 0.18104027211666107, 0.0005042904522269964, 0.05950627475976944, 0.9929911494255066, 0.991902232170105, 0.9996315240859985, 0.7388277649879456, 0.05342375487089157, 0.1535765528678894, 0.004820188507437706, 0.049273036420345306, 0.9959223866462708], \"Term\": [\"ability\", \"abouthtml\", \"accelerator\", \"accompany\", \"action\", \"action\", \"activate\", \"activate\", \"active\", \"active\", \"active\", \"activities\", \"advantage\", \"aggregator\", \"alignment\", \"anchor\", \"android\", \"annotate\", \"annotations\", \"appear\", \"appear\", \"appear\", \"appear\", \"appear\", \"appear\", \"appear\", \"appear\", \"appear\", \"appearance\", \"application\", \"application\", \"application\", \"application\", \"application\", \"application\", \"approach\", \"arabic\", \"archive\", \"argument\", \"argument\", \"argument\", \"argument\", \"arguments\", \"arguments\", \"arraylist\", \"artifact\", \"artifacts\", \"assertion\", \"assertion\", \"assist\", \"attach\", \"attach\", \"attach\", \"attach\", \"attach\", \"attach\", \"attach\", \"attach\", \"attachment\", \"attachment\", \"attachment\", \"attachment\", \"attachment\", \"attribute\", \"available\", \"available\", \"available\", \"available\", \"available\", \"available\", \"available\", \"available\", \"background\", \"background\", \"backport\", \"backporting\", \"backspace\", \"basebuilder\", \"baseline\", \"benefit\", \"better\", \"better\", \"better\", \"better\", \"better\", \"boolean\", \"boolean\", \"bootloader\", \"border\", \"border\", \"branch\", \"breadcrumb\", \"breakpoint\", \"breakpoints\", \"browser\", \"browser\", \"builder\", \"builders\", \"buildfile\", \"buildid\", \"buildxml\", \"bundle\", \"bundle\", \"button\", \"button\", \"button\", \"callisto\", \"cancel\", \"canvas\", \"categories\", \"category\", \"category\", \"ccombo\", \"change\", \"change\", \"change\", \"change\", \"change\", \"change\", \"change\", \"character\", \"character\", \"charset\", \"cheatsheet\", \"checkbox\", \"checkbox\", \"checkout\", \"children\", \"children\", \"children\", \"collapse\", \"collapse\", \"colour\", \"column\", \"column\", \"columns\", \"comappleappkit\", \"command\", \"command\", \"command\", \"command\", \"command\", \"command\", \"commandline\", \"comment\", \"comment\", \"comment\", \"comment\", \"comment\", \"comment\", \"commit\", \"common\", \"common\", \"common\", \"common\", \"common\", \"compact\", \"comparator\", \"compare\", \"compare\", \"compare\", \"compare\", \"comparison\", \"compiler\", \"compiler\", \"compiler\", \"composite\", \"composite\", \"condition\", \"condition\", \"condition\", \"config\", \"config\", \"config\", \"configs\", \"configuration\", \"configuration\", \"configuration\", \"configuration\", \"configurations\", \"configurations\", \"console\", \"console\", \"console\", \"consolelog\", \"consolelog\", \"constants\", \"constraint\", \"constructor\", \"contain\", \"contain\", \"contain\", \"contain\", \"contain\", \"contain\", \"contain\", \"contain\", \"contain\", \"container\", \"container\", \"content\", \"content\", \"content\", \"content\", \"content\", \"content\", \"content\", \"content\", \"content\", \"context\", \"context\", \"context\", \"context\", \"contrast\", \"contribute\", \"control\", \"control\", \"control\", \"control\", \"control\", \"copyright\", \"copyright\", \"cprogram\", \"cprogram\", \"create\", \"create\", \"create\", \"create\", \"create\", \"create\", \"create\", \"create\", \"create\", \"criteria\", \"ctrlspace\", \"current\", \"current\", \"current\", \"current\", \"current\", \"current\", \"current\", \"current\", \"currently\", \"currently\", \"currently\", \"currently\", \"currently\", \"currently\", \"currently\", \"cursor\", \"cursor\", \"cwindowsdll\", \"cwinntdll\", \"daemon\", \"databinding\", \"datetime\", \"deadline\", \"deadlock\", \"declare\", \"declare\", \"decoration\", \"decorations\", \"decorator\", \"default\", \"default\", \"default\", \"default\", \"default\", \"default\", \"default\", \"default\", \"define\", \"define\", \"delete\", \"deletion\", \"dependency\", \"destination\", \"detach\", \"detect\", \"detect\", \"detect\", \"detect\", \"detect\", \"dialog\", \"dialog\", \"dialogs\", \"different\", \"different\", \"different\", \"different\", \"different\", \"different\", \"different\", \"different\", \"directories\", \"directories\", \"directory\", \"directory\", \"directory\", \"directory\", \"disable\", \"disable\", \"disable\", \"disable\", \"discovery\", \"discuss\", \"discussion\", \"dispatcher\", \"display\", \"display\", \"display\", \"display\", \"displaydispose\", \"displaysleep\", \"dispose\", \"dispose\", \"document\", \"doubleclick\", \"doubleclick\", \"download\", \"download\", \"dynamic\", \"dynamic\", \"easier\", \"easier\", \"eclipse\", \"eclipse\", \"eclipse\", \"eclipse\", \"eclipse\", \"eclipse\", \"eclipse\", \"eclipse\", \"eclipse\", \"eclipsebuildid\", \"eclipseini\", \"edition\", \"editor\", \"editors\", \"effort\", \"element\", \"element\", \"element\", \"element\", \"element\", \"enable\", \"enable\", \"enable\", \"enable\", \"enable\", \"enable\", \"encode\", \"english\", \"environment\", \"environment\", \"equinox\", \"errors\", \"errors\", \"errors\", \"errors\", \"errors\", \"errors\", \"events\", \"events\", \"example\", \"example\", \"example\", \"example\", \"example\", \"example\", \"example\", \"example\", \"exception\", \"exception\", \"exception\", \"exception\", \"execute\", \"execute\", \"execute\", \"execute\", \"execute\", \"execute\", \"expect\", \"expect\", \"expect\", \"expect\", \"expect\", \"expect\", \"expect\", \"expect\", \"explorer\", \"explorer\", \"explorer\", \"export\", \"expression\", \"expressions\", \"extension\", \"extension\", \"extensions\", \"extensions\", \"failures\", \"failures\", \"feature\", \"featurexml\", \"fileset\", \"filter\", \"finalizer\", \"firefox\", \"folder\", \"folders\", \"follow\", \"follow\", \"follow\", \"follow\", \"follow\", \"follow\", \"follow\", \"follow\", \"follow\", \"follow\", \"followup\", \"format\", \"format\", \"format\", \"format\", \"format\", \"format\", \"framework\", \"framework\", \"framework\", \"framework\", \"framework\", \"freeze\", \"freeze\", \"functionality\", \"functionality\", \"functionality\", \"functionality\", \"functionality\", \"functionality\", \"functionality\", \"general\", \"general\", \"general\", \"general\", \"general\", \"generation\", \"graphic\", \"griddata\", \"gridlayout\", \"gtkcritical\", \"handle\", \"handle\", \"handle\", \"handle\", \"handle\", \"handle\", \"handleevent\", \"handler\", \"handler\", \"handler\", \"happen\", \"happen\", \"happen\", \"happen\", \"happen\", \"happen\", \"happen\", \"happen\", \"hashcode\", \"headers\", \"helios\", \"helpsoftware\", \"highlight\", \"highlight\", \"history\", \"hotspot\", \"hotspot\", \"hudson\", \"hyperlink\", \"iadaptable\", \"ibuild\", \"ibuild\", \"ibuilds\", \"identifier\", \"identifier\", \"identifier\", \"identifier\", \"implement\", \"implement\", \"implementation\", \"implementation\", \"import\", \"import\", \"improve\", \"include\", \"include\", \"include\", \"include\", \"include\", \"incoming\", \"incoming\", \"indicator\", \"indigo\", \"indigo\", \"infocenter\", \"information\", \"information\", \"information\", \"information\", \"information\", \"information\", \"information\", \"information\", \"information\", \"infrastructure\", \"inject\", \"inplace\", \"instal\", \"instal\", \"instal\", \"install\", \"install\", \"install\", \"instructions\", \"instructions\", \"instructions\", \"integer\", \"interfaces\", \"internet\", \"invalid\", \"invalid\", \"invalid\", \"invalid\", \"invalid\", \"invoke\", \"invoke\", \"invoke\", \"invoke\", \"invoke\", \"invoke\", \"invoke\", \"invoke\", \"itemsettext\", \"iterate\", \"japanese\", \"javadoc\", \"javafullversion\", \"javalangclass\", \"javascript\", \"javathread\", \"javavendorsun\", \"javaversion\", \"jvmdll\", \"jvmmonitorwait\", \"jvmraisesignal\", \"jvmstartthread\", \"keybinding\", \"keybindings\", \"keyboard\", \"keyboard\", \"keyboard\", \"keydown\", \"keyring\", \"keyword\", \"language\", \"language\", \"language\", \"latest\", \"latest\", \"latest\", \"latest\", \"latest\", \"launch\", \"launch\", \"launch\", \"launcher\", \"launcher\", \"launcherlibrary\", \"libclientdylib\", \"libgobjectso\", \"libgtkso\", \"libjvmdylib\", \"libjvmso\", \"liblibpthreadso\", \"libraries\", \"libraries\", \"libsystembdylib\", \"license\", \"license\", \"license\", \"listen\", \"listener\", \"listener\", \"listener\", \"listeners\", \"locale\", \"locale\", \"locale\", \"location\", \"location\", \"location\", \"location\", \"location\", \"location\", \"machine\", \"machine\", \"machine\", \"machmsg\", \"machmsgtrap\", \"mainbasicrun\", \"mainmain\", \"mainrun\", \"manager\", \"manager\", \"manager\", \"manager\", \"manifest\", \"manifest\", \"marker\", \"markers\", \"master\", \"maximize\", \"mechanism\", \"mechanism\", \"memory\", \"memory\", \"memory\", \"menuitem\", \"menumanager\", \"message\", \"method\", \"method\", \"methodinvoke\", \"methods\", \"methods\", \"microsystems\", \"minimize\", \"minimize\", \"mirror\", \"mnemonic\", \"mnemonics\", \"monitor\", \"monitor\", \"mozilla\", \"multipage\", \"native\", \"navigate\", \"navigate\", \"navigate\", \"newline\", \"nlenus\", \"nonnls\", \"nonnls\", \"number\", \"number\", \"number\", \"number\", \"number\", \"number\", \"number\", \"object\", \"object\", \"object\", \"objectwait\", \"observable\", \"obsolete\", \"official\", \"offset\", \"offset\", \"openjdk\", \"oracle\", \"orgeclipse\", \"orgeclipsehelp\", \"orgeclipsejdt\", \"orgeclipsejdtui\", \"orgeclipsejface\", \"orgeclipseosgi\", \"orgeclipsepdeui\", \"orgeclipseui\", \"orientation\", \"oslinux\", \"osmacosx\", \"outline\", \"output\", \"output\", \"output\", \"override\", \"override\", \"override\", \"package\", \"package\", \"package\", \"package\", \"package\", \"package\", \"paragraph\", \"parent\", \"parent\", \"parent\", \"parent\", \"parent\", \"parent\", \"parent\", \"partition\", \"password\", \"performance\", \"periodic\", \"perspective\", \"perspectives\", \"placeholder\", \"platform\", \"platform\", \"platform\", \"platform\", \"platform\", \"platform\", \"plugin\", \"plugin\", \"plugin\", \"plugin\", \"plugins\", \"plugins\", \"plugins\", \"plugins\", \"pluginxml\", \"pluginxml\", \"pomxml\", \"position\", \"position\", \"possible\", \"possible\", \"possible\", \"possible\", \"possible\", \"possible\", \"possible\", \"possible\", \"practice\", \"preference\", \"preferences\", \"preferences\", \"preferences\", \"prerequisite\", \"private\", \"private\", \"problem\", \"problem\", \"problem\", \"problem\", \"problem\", \"problem\", \"problem\", \"problem\", \"problem\", \"problems\", \"problems\", \"problems\", \"problems\", \"problems\", \"problems\", \"problems\", \"problems\", \"problems\", \"process\", \"process\", \"process\", \"process\", \"process\", \"process\", \"process\", \"product\", \"product\", \"product\", \"product\", \"program\", \"program\", \"program\", \"program\", \"program\", \"progress\", \"project\", \"property\", \"property\", \"property\", \"protect\", \"provide\", \"provide\", \"provide\", \"provide\", \"provide\", \"provision\", \"pthreadbody\", \"pthreadcondwait\", \"public\", \"public\", \"publish\", \"qualifier\", \"rebuild\", \"rectangle\", \"reference\", \"reference\", \"reference\", \"reference\", \"reference\", \"reference\", \"reference\", \"refresh\", \"refresh\", \"refresh\", \"release\", \"release\", \"release\", \"release\", \"release\", \"release\", \"release\", \"releng\", \"releng\", \"remove\", \"remove\", \"remove\", \"remove\", \"remove\", \"remove\", \"remove\", \"remove\", \"rename\", \"rename\", \"render\", \"render\", \"render\", \"render\", \"replace\", \"replace\", \"replace\", \"replace\", \"report\", \"report\", \"report\", \"report\", \"report\", \"report\", \"report\", \"report\", \"repositories\", \"repository\", \"reproduce\", \"reproduce\", \"reproduce\", \"reproduce\", \"reproduce\", \"reproduce\", \"reproduce\", \"reproduce\", \"reproducible\", \"reproducible\", \"reproducible\", \"request\", \"request\", \"request\", \"request\", \"request\", \"request\", \"request\", \"require\", \"require\", \"require\", \"resolve\", \"resource\", \"resource\", \"resource\", \"resources\", \"resources\", \"resources\", \"responseby\", \"restore\", \"restore\", \"restore\", \"restrict\", \"result\", \"result\", \"result\", \"result\", \"result\", \"result\", \"result\", \"result\", \"return\", \"revision\", \"rundebug\", \"runnable\", \"runnable\", \"runnable\", \"runtime\", \"runtime\", \"runtime\", \"safari\", \"saferunnerrun\", \"schema\", \"screen\", \"screen\", \"screen\", \"screen\", \"screenshot\", \"screenshot\", \"script\", \"script\", \"script\", \"scroll\", \"scroll\", \"search\", \"secondary\", \"section\", \"section\", \"security\", \"select\", \"select\", \"select\", \"select\", \"select\", \"selection\", \"selection\", \"selection\", \"selection\", \"server\", \"server\", \"server\", \"session\", \"session\", \"session\", \"setfocus\", \"settext\", \"settings\", \"settings\", \"settings\", \"settings\", \"settings\", \"shellopen\", \"shellpack\", \"shellsetlayout\", \"shellsetsize\", \"shortcut\", \"shortcuts\", \"showlocation\", \"shrink\", \"signal\", \"snippet\", \"snippet\", \"software\", \"software\", \"software\", \"solution\", \"solution\", \"solution\", \"solution\", \"solution\", \"source\", \"source\", \"source\", \"source\", \"source\", \"source\", \"specify\", \"specify\", \"specify\", \"specify\", \"specify\", \"specify\", \"specify\", \"spinner\", \"splash\", \"standalone\", \"static\", \"status\", \"sticky\", \"stream\", \"stream\", \"stream\", \"stream\", \"stream\", \"string\", \"string\", \"string\", \"stylerange\", \"subclipse\", \"subentry\", \"submenu\", \"support\", \"support\", \"switch\", \"switch\", \"switch\", \"switch\", \"switcher\", \"swterror\", \"symbol\", \"synchronization\", \"synchronize\", \"synchronize\", \"tabitem\", \"tablecolumn\", \"tableitem\", \"tableviewer\", \"target\", \"target\", \"target\", \"tenure\", \"terminate\", \"textlayout\", \"thread\", \"threadblocked\", \"threadinnative\", \"timedwaiting\", \"timestamp\", \"toolbar\", \"toolbar\", \"toolbar\", \"toolbars\", \"toolbars\", \"toolitem\", \"tooltip\", \"tooltips\", \"tostring\", \"transform\", \"treeitem\", \"treeviewer\", \"ubuntu\", \"unable\", \"unable\", \"unable\", \"underline\", \"unexpected\", \"unexpected\", \"unhandled\", \"update\", \"useful\", \"useful\", \"useful\", \"useful\", \"useful\", \"useragent\", \"usrlibso\", \"variable\", \"variable\", \"version\", \"version\", \"version\", \"version\", \"version\", \"version\", \"versions\", \"versions\", \"versions\", \"versions\", \"vertical\", \"vertical\", \"viewer\", \"viewer\", \"viewpart\", \"visible\", \"visible\", \"visible\", \"visible\", \"visible\", \"visible\", \"widget\", \"widget\", \"widget\", \"widgetselected\", \"window\", \"window\", \"window\", \"window\", \"windows\", \"windows\", \"windows\", \"windows\", \"windows\", \"windows\", \"wizard\", \"wizard\", \"wizards\", \"workbench\", \"workbench\", \"workbench\", \"workbench\", \"workbench\", \"workbench\", \"workbenchrun\", \"workbenchrunui\", \"worker\", \"workspace\", \"workspace\", \"workspace\", \"workspace\", \"workspace\", \"xulrunner\"]}, \"R\": 30, \"lambda.step\": 0.01, \"plot.opts\": {\"xlab\": \"PC1\", \"ylab\": \"PC2\"}, \"topic.order\": [9, 1, 5, 8, 7, 4, 3, 6, 10, 2]};\n",
              "\n",
              "function LDAvis_load_lib(url, callback){\n",
              "  var s = document.createElement('script');\n",
              "  s.src = url;\n",
              "  s.async = true;\n",
              "  s.onreadystatechange = s.onload = callback;\n",
              "  s.onerror = function(){console.warn(\"failed to load library \" + url);};\n",
              "  document.getElementsByTagName(\"head\")[0].appendChild(s);\n",
              "}\n",
              "\n",
              "if(typeof(LDAvis) !== \"undefined\"){\n",
              "   // already loaded: just create the visualization\n",
              "   !function(LDAvis){\n",
              "       new LDAvis(\"#\" + \"ldavis_el1291399394574086008003725450\", ldavis_el1291399394574086008003725450_data);\n",
              "   }(LDAvis);\n",
              "}else if(typeof define === \"function\" && define.amd){\n",
              "   // require.js is available: use it to load d3/LDAvis\n",
              "   require.config({paths: {d3: \"https://cdnjs.cloudflare.com/ajax/libs/d3/3.5.5/d3.min\"}});\n",
              "   require([\"d3\"], function(d3){\n",
              "      window.d3 = d3;\n",
              "      LDAvis_load_lib(\"https://cdn.rawgit.com/bmabey/pyLDAvis/files/ldavis.v1.0.0.js\", function(){\n",
              "        new LDAvis(\"#\" + \"ldavis_el1291399394574086008003725450\", ldavis_el1291399394574086008003725450_data);\n",
              "      });\n",
              "    });\n",
              "}else{\n",
              "    // require.js not available: dynamically load d3 & LDAvis\n",
              "    LDAvis_load_lib(\"https://cdnjs.cloudflare.com/ajax/libs/d3/3.5.5/d3.min.js\", function(){\n",
              "         LDAvis_load_lib(\"https://cdn.rawgit.com/bmabey/pyLDAvis/files/ldavis.v1.0.0.js\", function(){\n",
              "                 new LDAvis(\"#\" + \"ldavis_el1291399394574086008003725450\", ldavis_el1291399394574086008003725450_data);\n",
              "            })\n",
              "         });\n",
              "}\n",
              "</script>"
            ],
            "text/plain": [
              "PreparedData(topic_coordinates=              x         y  topics  cluster       Freq\n",
              "topic                                                \n",
              "8     -0.049608  0.094450       1        1  15.300422\n",
              "0     -0.113766  0.102362       2        1  13.333735\n",
              "4     -0.165823  0.003114       3        1  12.555874\n",
              "7     -0.004570  0.112593       4        1  12.363689\n",
              "6     -0.060494 -0.065716       5        1   9.876132\n",
              "3     -0.179311 -0.072889       6        1   9.734571\n",
              "2     -0.025774  0.178250       7        1   8.514370\n",
              "5     -0.064028 -0.348375       8        1   7.184459\n",
              "9      0.271956  0.133186       9        1   6.690284\n",
              "1      0.391419 -0.136977      10        1   4.446462, topic_info=           Term          Freq         Total Category  logprob  loglift\n",
              "26      project  20790.000000  20790.000000  Default  30.0000  30.0000\n",
              "488     message  13625.000000  13625.000000  Default  29.0000  29.0000\n",
              "87      eclipse  27147.000000  27147.000000  Default  28.0000  28.0000\n",
              "85       dialog  11461.000000  11461.000000  Default  27.0000  27.0000\n",
              "12       editor  12568.000000  12568.000000  Default  26.0000  26.0000\n",
              "...         ...           ...           ...      ...      ...      ...\n",
              "1369    dynamic    516.942200    823.663025  Topic10  -4.7428   2.6472\n",
              "976      memory    750.252014   1821.068115  Topic10  -4.3703   2.2263\n",
              "656   exception    775.582153   6393.025391  Topic10  -4.3371   1.0037\n",
              "140     current    574.863464   3866.295654  Topic10  -4.6366   1.2071\n",
              "53    reference    529.627563   2965.395508  Topic10  -4.7186   1.3905\n",
              "\n",
              "[597 rows x 6 columns], token_table=      Topic      Freq         Term\n",
              "term                              \n",
              "184       1  0.998642      ability\n",
              "2831     10  0.994992    abouthtml\n",
              "668       3  0.992485  accelerator\n",
              "2699      6  0.997270    accompany\n",
              "379       1  0.303439       action\n",
              "...     ...       ...          ...\n",
              "36        3  0.053424    workspace\n",
              "36        4  0.153577    workspace\n",
              "36        7  0.004820    workspace\n",
              "36        9  0.049273    workspace\n",
              "3904      4  0.995922    xulrunner\n",
              "\n",
              "[1099 rows x 3 columns], R=30, lambda_step=0.01, plot_opts={'xlab': 'PC1', 'ylab': 'PC2'}, topic_order=[9, 1, 5, 8, 7, 4, 3, 6, 10, 2])"
            ]
          },
          "metadata": {
            "tags": []
          },
          "execution_count": 42
        }
      ]
    },
    {
      "cell_type": "markdown",
      "metadata": {
        "id": "xwDq4v6jODOd",
        "colab_type": "text"
      },
      "source": [
        "### **Clustering premised on Topic Modeling**"
      ]
    },
    {
      "cell_type": "code",
      "metadata": {
        "id": "DjlOxg-ay2yX",
        "colab_type": "code",
        "colab": {}
      },
      "source": [
        "#Creating 10 empty clusters and pushing master reports in each of them based on topic modeling and saving them in individual csv file\n",
        "for c in range(10):\n",
        "    exec('topic_{} = pd.DataFrame()'.format(c))\n",
        "    for i in range(len(master_reports)):\n",
        "        topic=lda_model[dictionary.doc2bow(master_reports.Description[i])]\n",
        "        topic= np.asarray(topic)\n",
        "        if int(topic[np.argmax(topic[:,1]),0])== c:\n",
        "            exec('topic_{} = topic_{}.append(master_reports.loc[[i]])'.format(c,c))\n",
        "            exec('topic_{} = topic_{}.reset_index(drop=True)'.format(c,c))\n",
        "            exec('topic_{}.to_csv(\"drive/My Drive/duplicate_detection/topic_{}.csv\")'.format(c,c))"
      ],
      "execution_count": 0,
      "outputs": []
    }
  ]
}