{
 "cells": [
  {
   "cell_type": "markdown",
   "metadata": {
    "colab_type": "text",
    "id": "tRDcPbBT2QVU"
   },
   "source": [
    "# **Latent Dirichlet Allocation (LDA)-based Topic Modeling and Clustering**"
   ]
  },
  {
   "cell_type": "code",
   "execution_count": 1,
   "metadata": {
    "colab": {
     "base_uri": "https://localhost:8080/",
     "height": 83
    },
    "colab_type": "code",
    "id": "k46Q291Ey2wk",
    "outputId": "2154cd13-b45c-4d4c-dd82-27e96903b252"
   },
   "outputs": [
    {
     "name": "stderr",
     "output_type": "stream",
     "text": [
      "[nltk_data] Downloading package stopwords to\n",
      "[nltk_data]     C:\\Users\\niranjans3ln\\AppData\\Roaming\\nltk_data...\n",
      "[nltk_data]   Package stopwords is already up-to-date!\n",
      "[nltk_data] Downloading package wordnet to\n",
      "[nltk_data]     C:\\Users\\niranjans3ln\\AppData\\Roaming\\nltk_data...\n",
      "[nltk_data]   Package wordnet is already up-to-date!\n"
     ]
    }
   ],
   "source": [
    "import pandas as pd\n",
    "import nltk\n",
    "import gensim\n",
    "from nltk.corpus import stopwords\n",
    "from nltk import word_tokenize\n",
    "from nltk.stem import WordNetLemmatizer, SnowballStemmer\n",
    "from nltk.stem.porter import *\n",
    "from gensim.parsing.preprocessing import STOPWORDS\n",
    "import numpy as np\n",
    "from gensim import corpora,models\n",
    "import time\n",
    "import pickle\n",
    "nltk.download('stopwords')\n",
    "nltk.download('wordnet')\n",
    "import warnings\n",
    "warnings.filterwarnings(\"ignore\", category=DeprecationWarning)\n",
    "\n",
    "\n",
    "import warnings\n",
    "warnings.filterwarnings('ignore')"
   ]
  },
  {
   "cell_type": "code",
   "execution_count": 2,
   "metadata": {
    "colab": {},
    "colab_type": "code",
    "id": "H5uv5Lw48fRY"
   },
   "outputs": [],
   "source": [
    "#importing the CSV file of the master reports from google drive into a dataframe\n",
    "master_reports = pd.read_csv('dataset/master_reports.csv')\n",
    "master_reports = master_reports.drop(columns=['Unnamed: 0'])"
   ]
  },
  {
   "cell_type": "code",
   "execution_count": 3,
   "metadata": {
    "colab": {},
    "colab_type": "code",
    "id": "KD3R6nhdy2xJ"
   },
   "outputs": [],
   "source": [
    "def lemmatize(text):\n",
    "    return WordNetLemmatizer().lemmatize(text, pos='v')\n",
    "\n",
    "def preprocess(text):\n",
    "    result = []\n",
    "    for token in gensim.utils.simple_preprocess(text):\n",
    "        if token not in gensim.parsing.preprocessing.STOPWORDS and len(token) > 5:\n",
    "            result.append(lemmatize(token))\n",
    "    return result"
   ]
  },
  {
   "cell_type": "code",
   "execution_count": 4,
   "metadata": {
    "colab": {},
    "colab_type": "code",
    "id": "vM0lSTepy2xP"
   },
   "outputs": [],
   "source": [
    "master_reports['Description'] = master_reports['Description'].map(preprocess)"
   ]
  },
  {
   "cell_type": "markdown",
   "metadata": {
    "colab_type": "text",
    "id": "w6ZdemZnBROW"
   },
   "source": [
    "### **Creating Bag of Words (BoW)**"
   ]
  },
  {
   "cell_type": "code",
   "execution_count": 5,
   "metadata": {
    "colab": {},
    "colab_type": "code",
    "id": "COgREELwy2xW"
   },
   "outputs": [],
   "source": [
    "#Creating a dictionary using gensim library\n",
    "dictionary = gensim.corpora.Dictionary(master_reports['Description'])\n",
    "dictionary.filter_extremes(no_below=15, no_above=0.5, keep_n=100000)"
   ]
  },
  {
   "cell_type": "code",
   "execution_count": 6,
   "metadata": {
    "colab": {
     "base_uri": "https://localhost:8080/",
     "height": 366
    },
    "colab_type": "code",
    "id": "aO1zCf-Ry2xa",
    "outputId": "27a05880-a5b4-4d47-bd24-c8ceac43ed84"
   },
   "outputs": [
    {
     "name": "stdout",
     "output_type": "stream",
     "text": [
      "0 actually\n",
      "1 change\n",
      "2 comment\n",
      "3 compare\n",
      "4 complete\n",
      "5 consider\n",
      "6 contain\n",
      "7 default\n",
      "8 document\n",
      "9 editor\n",
      "10 effect\n",
      "11 ensure\n",
      "12 external\n",
      "13 inconsistent\n",
      "14 internal\n",
      "15 modify\n",
      "16 navigator\n",
      "17 problem\n",
      "18 project\n",
      "19 refresh\n",
      "20 relate\n"
     ]
    }
   ],
   "source": [
    "#Print top 20 words from the dictionary\n",
    "count = 0\n",
    "for k, v in dictionary.iteritems():\n",
    "    print(k, v)\n",
    "    count += 1\n",
    "    if count > 20:\n",
    "        break"
   ]
  },
  {
   "cell_type": "code",
   "execution_count": 7,
   "metadata": {
    "colab": {},
    "colab_type": "code",
    "id": "bztEZCEIy2xk"
   },
   "outputs": [],
   "source": [
    "#Creating BoW using the the dictionary\n",
    "bow_corpus = [dictionary.doc2bow(doc) for doc in master_reports['Description']]"
   ]
  },
  {
   "cell_type": "code",
   "execution_count": 8,
   "metadata": {
    "colab": {
     "base_uri": "https://localhost:8080/",
     "height": 133
    },
    "colab_type": "code",
    "id": "Ii98uln5y2xp",
    "outputId": "cdf7902f-816f-47ef-a4fe-6f42deb9f19b"
   },
   "outputs": [
    {
     "name": "stdout",
     "output_type": "stream",
     "text": [
      "Word 1 (\"change\") appears 1 time.\n",
      "Word 22 (\"resource\") appears 1 time.\n",
      "Word 31 (\"expect\") appears 1 time.\n",
      "Word 67 (\"future\") appears 1 time.\n",
      "Word 89 (\"implementation\") appears 1 time.\n"
     ]
    }
   ],
   "source": [
    "#Printing the BoW for single document\n",
    "bow_doc_8 = bow_corpus[8]\n",
    "for i in range(len(bow_doc_8)):\n",
    "    print(\"Word {} (\\\"{}\\\") appears {} time.\".format(bow_doc_8[i][0], \n",
    "                                               dictionary[bow_doc_8[i][0]], \n",
    "bow_doc_8[i][1]))"
   ]
  },
  {
   "cell_type": "code",
   "execution_count": 9,
   "metadata": {
    "colab": {},
    "colab_type": "code",
    "id": "Kz0q-TegNkYy"
   },
   "outputs": [],
   "source": [
    "# open a file, where you stored the pickled data\n",
    "f= open('dataset/bow_corpus.pickle', 'wb')\n",
    "\n",
    "# dump information to that file\n",
    "pickle.dump(bow_corpus, f)"
   ]
  },
  {
   "cell_type": "code",
   "execution_count": 10,
   "metadata": {
    "colab": {},
    "colab_type": "code",
    "id": "P91x5vDJNqGk"
   },
   "outputs": [],
   "source": [
    "# open a file, where you stored the pickled data\n",
    "file = open('dataset/dictionary.pickle', 'wb')\n",
    "\n",
    "# dump information to that file\n",
    "pickle.dump(dictionary, file)"
   ]
  },
  {
   "cell_type": "markdown",
   "metadata": {
    "colab_type": "text",
    "id": "MwCsT_g2NXBv"
   },
   "source": [
    "### **LDA-based Topic Modeling**"
   ]
  },
  {
   "cell_type": "code",
   "execution_count": 11,
   "metadata": {
    "colab": {},
    "colab_type": "code",
    "id": "LNtcr3zPy2xu"
   },
   "outputs": [],
   "source": [
    "#Preparing the parameters for LDA model\n",
    "corpus = bow_corpus\n",
    "no_of_topics = 10\n",
    "dictionary = dictionary\n",
    "p = 20\n",
    "k = 2\n",
    "epochs = 100\n",
    "\n",
    "#Training the LDA model on the BoW corpus\n",
    "lda_model = gensim.models.LdaMulticore(corpus, num_topics=no_of_topics, id2word=dictionary, passes=p, workers=k, iterations=epochs)"
   ]
  },
  {
   "cell_type": "code",
   "execution_count": 12,
   "metadata": {
    "colab": {
     "base_uri": "https://localhost:8080/",
     "height": 70
    },
    "colab_type": "code",
    "id": "8oiblQ2DNz0X",
    "outputId": "b88f908d-871f-4c81-bd0e-75c1d1690a49"
   },
   "outputs": [],
   "source": [
    "# save model to disk (no need to use pickle module)\n",
    "lda_model.save('dataset/lda_model.model')"
   ]
  },
  {
   "cell_type": "code",
   "execution_count": 13,
   "metadata": {
    "colab": {
     "base_uri": "https://localhost:8080/",
     "height": 370
    },
    "colab_type": "code",
    "id": "RIA_pgtRy2x1",
    "outputId": "c8c656b3-4786-47f9-ef27-ebf0fa8676b8"
   },
   "outputs": [
    {
     "name": "stdout",
     "output_type": "stream",
     "text": [
      "Topic: 0 \n",
      "Words: 0.261*\"editor\" + 0.053*\"editors\" + 0.035*\"change\" + 0.030*\"action\" + 0.027*\"workbench\" + 0.024*\"problem\" + 0.022*\"create\" + 0.021*\"content\" + 0.015*\"active\" + 0.015*\"exception\"\n",
      "Topic: 1 \n",
      "Words: 0.124*\"version\" + 0.117*\"stream\" + 0.050*\"project\" + 0.043*\"compare\" + 0.029*\"replace\" + 0.026*\"workspace\" + 0.023*\"history\" + 0.023*\"release\" + 0.023*\"operation\" + 0.019*\"versions\"\n",
      "Topic: 2 \n",
      "Words: 0.054*\"change\" + 0.050*\"eclipse\" + 0.048*\"release\" + 0.044*\"support\" + 0.026*\"server\" + 0.025*\"plugin\" + 0.023*\"resource\" + 0.019*\"update\" + 0.018*\"resources\" + 0.017*\"ignore\"\n",
      "Topic: 3 \n",
      "Words: 0.244*\"project\" + 0.064*\"create\" + 0.046*\"delete\" + 0.042*\"select\" + 0.031*\"workspace\" + 0.029*\"resource\" + 0.028*\"repository\" + 0.028*\"location\" + 0.024*\"dialog\" + 0.022*\"prompt\"\n",
      "Topic: 4 \n",
      "Words: 0.096*\"perspective\" + 0.035*\"property\" + 0.032*\"method\" + 0.032*\"public\" + 0.028*\"return\" + 0.027*\"properties\" + 0.025*\"perspectives\" + 0.023*\"plugin\" + 0.022*\"object\" + 0.021*\"reference\"\n",
      "Topic: 5 \n",
      "Words: 0.082*\"perspective\" + 0.071*\"window\" + 0.058*\"navigator\" + 0.057*\"package\" + 0.048*\"refresh\" + 0.038*\"address\" + 0.038*\"resource\" + 0.037*\"control\" + 0.032*\"windows\" + 0.031*\"workbench\"\n",
      "Topic: 6 \n",
      "Words: 0.057*\"window\" + 0.049*\"define\" + 0.047*\"detach\" + 0.044*\"require\" + 0.039*\"change\" + 0.038*\"verify\" + 0.025*\"workbench\" + 0.024*\"plugin\" + 0.022*\"problem\" + 0.021*\"editor\"\n",
      "Topic: 7 \n",
      "Words: 0.116*\"change\" + 0.098*\"button\" + 0.058*\"release\" + 0.052*\"toolbar\" + 0.044*\"compare\" + 0.039*\"action\" + 0.025*\"catchup\" + 0.022*\"conflict\" + 0.020*\"catchuprelease\" + 0.017*\"switch\"\n",
      "Topic: 8 \n",
      "Words: 0.085*\"folder\" + 0.075*\"selection\" + 0.075*\"action\" + 0.049*\"message\" + 0.043*\"select\" + 0.030*\"create\" + 0.023*\"description\" + 0.020*\"instead\" + 0.019*\"dialog\" + 0.019*\"wizard\"\n",
      "Topic: 9 \n",
      "Words: 0.154*\"select\" + 0.082*\"dialog\" + 0.043*\"wizard\" + 0.034*\"script\" + 0.031*\"directory\" + 0.030*\"default\" + 0.027*\"filter\" + 0.025*\"import\" + 0.025*\"rename\" + 0.023*\"button\"\n"
     ]
    }
   ],
   "source": [
    "# Printing the topics and the propability distributions of words in those topics\n",
    "for idx, topic in lda_model.print_topics(-1):\n",
    "    print('Topic: {} \\nWords: {}'.format(idx, topic))"
   ]
  },
  {
   "cell_type": "code",
   "execution_count": 14,
   "metadata": {},
   "outputs": [
    {
     "data": {
      "text/plain": [
       "0       [project, contain, resource, release, project,...\n",
       "1       [repository, resource, default, editor, doesnt...\n",
       "2       [deletion, indicator, viewer, subtle, vision, ...\n",
       "3       [synchronize, project, repository, different, ...\n",
       "4       [gettingsetting, manage, resource, methods, is...\n",
       "                              ...                        \n",
       "1032    [editor, singleuse, accelerators, associate, e...\n",
       "1033    [perspective, perspective, windows, desktop, w...\n",
       "1034    [create, project, create, editor, delete, chan...\n",
       "1035    [compare, project, folder, stream, resource, c...\n",
       "1036    [navigator, refresh, accelerator, refresh, sup...\n",
       "Name: Description, Length: 1037, dtype: object"
      ]
     },
     "execution_count": 14,
     "metadata": {},
     "output_type": "execute_result"
    }
   ],
   "source": [
    "master_reports['Description']"
   ]
  },
  {
   "cell_type": "code",
   "execution_count": 15,
   "metadata": {
    "colab": {
     "base_uri": "https://localhost:8080/",
     "height": 183
    },
    "colab_type": "code",
    "id": "8thK3YFVy2x7",
    "outputId": "ecfc7752-0cea-4369-c13f-5fc1033d9b3f"
   },
   "outputs": [
    {
     "name": "stdout",
     "output_type": "stream",
     "text": [
      "\n",
      "Perplexity:  -4.988241227659295\n"
     ]
    }
   ],
   "source": [
    "#Let's evaluate the model using Perplexity and Coherence Bag of words- Title\n",
    "from gensim.utils import simple_preprocess\n",
    "from gensim.models import CoherenceModel\n",
    "# Compute Perplexity\n",
    "print('\\nPerplexity: ', lda_model.log_perplexity(bow_corpus))  # a measure of how good the model is. lower the better.\n"
   ]
  },
  {
   "cell_type": "code",
   "execution_count": 16,
   "metadata": {
    "scrolled": true
   },
   "outputs": [
    {
     "name": "stdout",
     "output_type": "stream",
     "text": [
      "\n",
      "Coherence Score:  0.3238917558808005\n"
     ]
    }
   ],
   "source": [
    "# Compute Coherence Score\n",
    "coherence_model_lda = CoherenceModel(model=lda_model, texts=master_reports['Description'], dictionary=dictionary, coherence='c_v')\n",
    "coherence_lda = coherence_model_lda.get_coherence()\n",
    "print('\\nCoherence Score: ', coherence_lda)"
   ]
  },
  {
   "cell_type": "code",
   "execution_count": 19,
   "metadata": {
    "colab": {},
    "colab_type": "code",
    "id": "KOMm2evz8aKz"
   },
   "outputs": [
    {
     "name": "stdout",
     "output_type": "stream",
     "text": [
      "Collecting pyldavis\n",
      "  Downloading pyLDAvis-3.3.1.tar.gz (1.7 MB)\n",
      "     ---------------------------------------- 1.7/1.7 MB 10.5 MB/s eta 0:00:00\n",
      "  Installing build dependencies: started\n",
      "  Installing build dependencies: finished with status 'done'\n",
      "  Getting requirements to build wheel: started\n",
      "  Getting requirements to build wheel: finished with status 'done'\n",
      "  Installing backend dependencies: started\n",
      "  Installing backend dependencies: finished with status 'done'\n",
      "  Preparing metadata (pyproject.toml): started\n",
      "  Preparing metadata (pyproject.toml): finished with status 'done'\n",
      "Requirement already satisfied: setuptools in c:\\anaconda3\\envs\\tfgpu\\lib\\site-packages (from pyldavis) (61.2.0)\n",
      "Requirement already satisfied: numpy>=1.20.0 in c:\\anaconda3\\envs\\tfgpu\\lib\\site-packages (from pyldavis) (1.22.3)\n",
      "Requirement already satisfied: numexpr in c:\\anaconda3\\envs\\tfgpu\\lib\\site-packages (from pyldavis) (2.8.3)\n",
      "Requirement already satisfied: scikit-learn in c:\\anaconda3\\envs\\tfgpu\\lib\\site-packages (from pyldavis) (1.1.1)\n",
      "Requirement already satisfied: joblib in c:\\anaconda3\\envs\\tfgpu\\lib\\site-packages (from pyldavis) (1.1.0)\n",
      "Collecting future\n",
      "  Downloading future-0.18.2.tar.gz (829 kB)\n",
      "     ------------------------------------- 829.2/829.2 kB 10.5 MB/s eta 0:00:00\n",
      "  Preparing metadata (setup.py): started\n",
      "  Preparing metadata (setup.py): finished with status 'done'\n",
      "Requirement already satisfied: jinja2 in c:\\anaconda3\\envs\\tfgpu\\lib\\site-packages (from pyldavis) (3.0.3)\n",
      "Requirement already satisfied: sklearn in c:\\anaconda3\\envs\\tfgpu\\lib\\site-packages (from pyldavis) (0.0)\n",
      "Collecting funcy\n",
      "  Downloading funcy-1.17-py2.py3-none-any.whl (33 kB)\n",
      "Requirement already satisfied: pandas>=1.2.0 in c:\\anaconda3\\envs\\tfgpu\\lib\\site-packages (from pyldavis) (1.4.3)\n",
      "Requirement already satisfied: scipy in c:\\anaconda3\\envs\\tfgpu\\lib\\site-packages (from pyldavis) (1.7.3)\n",
      "Requirement already satisfied: gensim in c:\\anaconda3\\envs\\tfgpu\\lib\\site-packages (from pyldavis) (4.2.0)\n",
      "Requirement already satisfied: python-dateutil>=2.8.1 in c:\\anaconda3\\envs\\tfgpu\\lib\\site-packages (from pandas>=1.2.0->pyldavis) (2.8.2)\n",
      "Requirement already satisfied: pytz>=2020.1 in c:\\anaconda3\\envs\\tfgpu\\lib\\site-packages (from pandas>=1.2.0->pyldavis) (2022.1)\n",
      "Requirement already satisfied: smart-open>=1.8.1 in c:\\anaconda3\\envs\\tfgpu\\lib\\site-packages (from gensim->pyldavis) (5.2.1)\n",
      "Requirement already satisfied: MarkupSafe>=2.0 in c:\\anaconda3\\envs\\tfgpu\\lib\\site-packages (from jinja2->pyldavis) (2.1.1)\n",
      "Requirement already satisfied: packaging in c:\\anaconda3\\envs\\tfgpu\\lib\\site-packages (from numexpr->pyldavis) (21.3)\n",
      "Requirement already satisfied: threadpoolctl>=2.0.0 in c:\\anaconda3\\envs\\tfgpu\\lib\\site-packages (from scikit-learn->pyldavis) (3.1.0)\n",
      "Requirement already satisfied: six>=1.5 in c:\\anaconda3\\envs\\tfgpu\\lib\\site-packages (from python-dateutil>=2.8.1->pandas>=1.2.0->pyldavis) (1.16.0)\n",
      "Requirement already satisfied: pyparsing!=3.0.5,>=2.0.2 in c:\\anaconda3\\envs\\tfgpu\\lib\\site-packages (from packaging->numexpr->pyldavis) (3.0.9)\n",
      "Building wheels for collected packages: pyldavis, future\n",
      "  Building wheel for pyldavis (pyproject.toml): started\n",
      "  Building wheel for pyldavis (pyproject.toml): finished with status 'done'\n",
      "  Created wheel for pyldavis: filename=pyLDAvis-3.3.1-py2.py3-none-any.whl size=136882 sha256=9331f72eb5bb79aed3feb01ba7966efcf7faa2fcf4f858f487c42c62e299956f\n",
      "  Stored in directory: c:\\users\\niranjans3ln\\appdata\\local\\pip\\cache\\wheels\\57\\a4\\86\\d10c6c2e0bf149fbc0afb0aa5a6528ac35b30a133a0270c477\n",
      "  Building wheel for future (setup.py): started\n",
      "  Building wheel for future (setup.py): finished with status 'done'\n",
      "  Created wheel for future: filename=future-0.18.2-py3-none-any.whl size=491073 sha256=9920f0eb97151c22a53fb0b1228a74e7f3117f97408fb350d410fa60b2f8cc5b\n",
      "Note: you may need to restart the kernel to use updated packages.  Stored in directory: c:\\users\\niranjans3ln\\appdata\\local\\pip\\cache\\wheels\\2f\\a0\\d3\\4030d9f80e6b3be787f19fc911b8e7aa462986a40ab1e4bb94\n",
      "Successfully built pyldavis future\n",
      "Installing collected packages: funcy, future, pyldavis\n",
      "Successfully installed funcy-1.17 future-0.18.2 pyldavis-3.3.1\n",
      "\n"
     ]
    }
   ],
   "source": [
    "pip install pyldavis"
   ]
  },
  {
   "cell_type": "code",
   "execution_count": 21,
   "metadata": {},
   "outputs": [
    {
     "name": "stdout",
     "output_type": "stream",
     "text": [
      "Requirement already satisfied: pyLDAvis in c:\\anaconda3\\envs\\tfgpu\\lib\\site-packages (3.3.1)\n",
      "Requirement already satisfied: numexpr in c:\\anaconda3\\envs\\tfgpu\\lib\\site-packages (from pyLDAvis) (2.8.3)\n",
      "Requirement already satisfied: future in c:\\anaconda3\\envs\\tfgpu\\lib\\site-packages (from pyLDAvis) (0.18.2)\n",
      "Requirement already satisfied: jinja2 in c:\\anaconda3\\envs\\tfgpu\\lib\\site-packages (from pyLDAvis) (3.0.3)\n",
      "Requirement already satisfied: numpy>=1.20.0 in c:\\anaconda3\\envs\\tfgpu\\lib\\site-packages (from pyLDAvis) (1.22.3)\n",
      "Requirement already satisfied: gensim in c:\\anaconda3\\envs\\tfgpu\\lib\\site-packages (from pyLDAvis) (4.2.0)\n",
      "Requirement already satisfied: pandas>=1.2.0 in c:\\anaconda3\\envs\\tfgpu\\lib\\site-packages (from pyLDAvis) (1.4.3)\n",
      "Requirement already satisfied: setuptools in c:\\anaconda3\\envs\\tfgpu\\lib\\site-packages (from pyLDAvis) (61.2.0)\n",
      "Requirement already satisfied: sklearn in c:\\anaconda3\\envs\\tfgpu\\lib\\site-packages (from pyLDAvis) (0.0)\n",
      "Requirement already satisfied: scikit-learn in c:\\anaconda3\\envs\\tfgpu\\lib\\site-packages (from pyLDAvis) (1.1.1)\n",
      "Requirement already satisfied: joblib in c:\\anaconda3\\envs\\tfgpu\\lib\\site-packages (from pyLDAvis) (1.1.0)\n",
      "Requirement already satisfied: scipy in c:\\anaconda3\\envs\\tfgpu\\lib\\site-packages (from pyLDAvis) (1.7.3)\n",
      "Requirement already satisfied: funcy in c:\\anaconda3\\envs\\tfgpu\\lib\\site-packages (from pyLDAvis) (1.17)\n",
      "Requirement already satisfied: python-dateutil>=2.8.1 in c:\\anaconda3\\envs\\tfgpu\\lib\\site-packages (from pandas>=1.2.0->pyLDAvis) (2.8.2)\n",
      "Requirement already satisfied: pytz>=2020.1 in c:\\anaconda3\\envs\\tfgpu\\lib\\site-packages (from pandas>=1.2.0->pyLDAvis) (2022.1)\n",
      "Requirement already satisfied: smart-open>=1.8.1 in c:\\anaconda3\\envs\\tfgpu\\lib\\site-packages (from gensim->pyLDAvis) (5.2.1)\n",
      "Requirement already satisfied: MarkupSafe>=2.0 in c:\\anaconda3\\envs\\tfgpu\\lib\\site-packages (from jinja2->pyLDAvis) (2.1.1)\n",
      "Requirement already satisfied: packaging in c:\\anaconda3\\envs\\tfgpu\\lib\\site-packages (from numexpr->pyLDAvis) (21.3)\n",
      "Requirement already satisfied: threadpoolctl>=2.0.0 in c:\\anaconda3\\envs\\tfgpu\\lib\\site-packages (from scikit-learn->pyLDAvis) (3.1.0)\n",
      "Requirement already satisfied: six>=1.5 in c:\\anaconda3\\envs\\tfgpu\\lib\\site-packages (from python-dateutil>=2.8.1->pandas>=1.2.0->pyLDAvis) (1.16.0)\n",
      "Requirement already satisfied: pyparsing!=3.0.5,>=2.0.2 in c:\\anaconda3\\envs\\tfgpu\\lib\\site-packages (from packaging->numexpr->pyLDAvis) (3.0.9)\n"
     ]
    }
   ],
   "source": [
    "!pip install pyLDAvis"
   ]
  },
  {
   "cell_type": "code",
   "execution_count": 24,
   "metadata": {
    "colab": {},
    "colab_type": "code",
    "id": "d5NDfA31HmoL"
   },
   "outputs": [],
   "source": [
    "import pyLDAvis\n",
    "import pyLDAvis.gensim_models as gensimvis\n",
    "#import pyLDAvis.gensim  # don't skip this\n",
    "import matplotlib.pyplot as plt\n",
    "%matplotlib inline"
   ]
  },
  {
   "cell_type": "code",
   "execution_count": 26,
   "metadata": {
    "colab": {
     "base_uri": "https://localhost:8080/",
     "height": 860
    },
    "colab_type": "code",
    "id": "XpoueqtKUGTs",
    "outputId": "731b4d2e-a339-4978-e3c0-eb3cac2c1b6b"
   },
   "outputs": [
    {
     "data": {
      "text/html": [
       "\n",
       "<link rel=\"stylesheet\" type=\"text/css\" href=\"https://cdn.jsdelivr.net/gh/bmabey/pyLDAvis@3.3.1/pyLDAvis/js/ldavis.v1.0.0.css\">\n",
       "\n",
       "\n",
       "<div id=\"ldavis_el2238014513402938409785399600\"></div>\n",
       "<script type=\"text/javascript\">\n",
       "\n",
       "var ldavis_el2238014513402938409785399600_data = {\"mdsDat\": {\"x\": [-0.19480566714585892, -0.016465131071326702, 0.05321516577463904, -0.19933818629208871, -0.04337521217680166, -0.029391561937265442, 0.18253500606409656, 0.11940266162259137, -0.057943448109507606, 0.18616637327152183], \"y\": [-0.014643070291960748, -0.16690898327252882, 0.04462322841457564, -0.16475647568832366, 0.21190899287100284, 0.15640940346692472, -0.07031712836069441, -0.021794740518013642, 0.06691459594462265, -0.0414358225656045], \"topics\": [1, 2, 3, 4, 5, 6, 7, 8, 9, 10], \"cluster\": [1, 1, 1, 1, 1, 1, 1, 1, 1, 1], \"Freq\": [14.11651862903997, 11.927053731181534, 11.481292755731173, 10.992583723990803, 9.870854772914772, 8.881113468900894, 8.847584438200888, 8.538149319908008, 7.863882647385907, 7.48096651274605]}, \"tinfo\": {\"Term\": [\"editor\", \"project\", \"version\", \"stream\", \"perspective\", \"select\", \"window\", \"button\", \"folder\", \"action\", \"release\", \"selection\", \"change\", \"compare\", \"dialog\", \"editors\", \"package\", \"message\", \"refresh\", \"toolbar\", \"wizard\", \"define\", \"detach\", \"eclipse\", \"navigator\", \"delete\", \"support\", \"require\", \"verify\", \"plugin\", \"location\", \"folders\", \"project\", \"delete\", \"prompt\", \"children\", \"repository\", \"workspace\", \"repositories\", \"create\", \"parent\", \"single\", \"finish\", \"resources\", \"connection\", \"errors\", \"problems\", \"important\", \"present\", \"directory\", \"examples\", \"manually\", \"choose\", \"theres\", \"creation\", \"resource\", \"jeanmichel\", \"message\", \"entries\", \"expand\", \"assume\", \"internal\", \"select\", \"dialog\", \"option\", \"default\", \"folder\", \"navigator\", \"remove\", \"different\", \"change\", \"problem\", \"workbench\", \"wizard\", \"ignore\", \"manage\", \"server\", \"platform\", \"support\", \"simple\", \"eclipse\", \"future\", \"attempt\", \"startup\", \"machine\", \"handle\", \"decide\", \"update\", \"access\", \"widget\", \"column\", \"possible\", \"request\", \"plugins\", \"creation\", \"connect\", \"release\", \"connection\", \"ensure\", \"feature\", \"information\", \"important\", \"comment\", \"methods\", \"resources\", \"plugin\", \"problems\", \"currently\", \"change\", \"errors\", \"happen\", \"resource\", \"display\", \"refresh\", \"provide\", \"repository\", \"follow\", \"problem\", \"method\", \"content\", \"editor\", \"orgeclipseui\", \"editors\", \"double\", \"exception\", \"readme\", \"disable\", \"original\", \"behaviour\", \"strange\", \"external\", \"observe\", \"active\", \"associate\", \"activate\", \"effect\", \"invoke\", \"modify\", \"probably\", \"reproduce\", \"content\", \"reopen\", \"investigate\", \"remain\", \"workbench\", \"contribute\", \"verify\", \"problem\", \"enable\", \"behavior\", \"action\", \"notice\", \"replace\", \"handle\", \"default\", \"change\", \"create\", \"delete\", \"dialog\", \"compare\", \"navigator\", \"eclipse\", \"select\", \"version\", \"stream\", \"operations\", \"versions\", \"history\", \"operation\", \"number\", \"replace\", \"helpful\", \"manually\", \"compare\", \"itpvcm\", \"jeanmichel\", \"cursor\", \"useful\", \"cancel\", \"little\", \"necessary\", \"perform\", \"understand\", \"connect\", \"synchronize\", \"machine\", \"adapter\", \"workspace\", \"multiple\", \"correct\", \"believe\", \"simply\", \"separate\", \"repository\", \"release\", \"project\", \"message\", \"resource\", \"confuse\", \"follow\", \"create\", \"content\", \"change\", \"select\", \"current\", \"different\", \"problem\", \"instead\", \"currently\", \"script\", \"browse\", \"search\", \"import\", \"progress\", \"directory\", \"wizard\", \"rename\", \"itpuiall\", \"usability\", \"select\", \"preference\", \"filter\", \"dialog\", \"expand\", \"preferences\", \"report\", \"investigate\", \"happen\", \"effect\", \"explorer\", \"expect\", \"default\", \"indicate\", \"result\", \"likely\", \"notice\", \"things\", \"consistent\", \"keyboard\", \"element\", \"button\", \"doesnt\", \"appear\", \"windows\", \"currently\", \"editors\", \"content\", \"navigator\", \"change\", \"create\", \"description\", \"status\", \"selection\", \"folder\", \"wizards\", \"priority\", \"unable\", \"duplicate\", \"message\", \"examples\", \"action\", \"context\", \"enable\", \"column\", \"available\", \"product\", \"recommend\", \"specify\", \"instead\", \"display\", \"global\", \"option\", \"visible\", \"request\", \"useful\", \"reason\", \"indicate\", \"wizard\", \"simple\", \"plugins\", \"filter\", \"active\", \"choose\", \"select\", \"create\", \"navigator\", \"appear\", \"plugin\", \"dialog\", \"change\", \"object\", \"interface\", \"public\", \"perspectives\", \"property\", \"target\", \"pluginxml\", \"reference\", \"method\", \"outline\", \"perspective\", \"return\", \"properties\", \"longer\", \"methods\", \"remove\", \"remember\", \"determine\", \"switch\", \"functionality\", \"relate\", \"extension\", \"desktop\", \"string\", \"keyboard\", \"inconsistent\", \"shouldnt\", \"startup\", \"register\", \"example\", \"follow\", \"plugin\", \"implement\", \"implementation\", \"context\", \"define\", \"require\", \"package\", \"create\", \"expect\", \"provide\", \"workbench\", \"change\", \"content\", \"support\", \"currently\", \"default\", \"address\", \"scroll\", \"control\", \"refresh\", \"package\", \"windows\", \"window\", \"cursor\", \"perspective\", \"navigator\", \"layout\", \"explorer\", \"widget\", \"modify\", \"complete\", \"options\", \"similar\", \"current\", \"little\", \"outline\", \"common\", \"preferences\", \"element\", \"resource\", \"notice\", \"multiple\", \"workbench\", \"desktop\", \"invoke\", \"viewer\", \"choose\", \"doesnt\", \"different\", \"problem\", \"result\", \"eclipse\", \"properties\", \"select\", \"change\", \"appear\", \"rename\", \"toolbar\", \"catchuprelease\", \"catchup\", \"button\", \"conflict\", \"global\", \"recommend\", \"people\", \"previous\", \"things\", \"synchronize\", \"navigation\", \"necessary\", \"compare\", \"viewer\", \"release\", \"confuse\", \"simply\", \"switch\", \"element\", \"theres\", \"shouldnt\", \"change\", \"understand\", \"original\", \"separate\", \"usability\", \"suggest\", \"present\", \"automatically\", \"preference\", \"action\", \"disable\", \"enable\", \"instead\", \"default\", \"navigator\", \"select\", \"outline\", \"appear\", \"doesnt\", \"different\", \"dialog\", \"detach\", \"settings\", \"define\", \"clients\", \"require\", \"verify\", \"register\", \"implementation\", \"layout\", \"document\", \"client\", \"browser\", \"implement\", \"complete\", \"workaround\", \"window\", \"solution\", \"adapter\", \"navigation\", \"believe\", \"return\", \"specific\", \"contain\", \"likely\", \"activate\", \"extension\", \"separate\", \"filter\", \"preferences\", \"plugin\", \"workbench\", \"problem\", \"change\", \"current\", \"follow\", \"method\", \"editor\", \"dialog\", \"result\", \"create\"], \"Freq\": [562.0, 730.0, 245.0, 240.0, 277.0, 532.0, 188.0, 196.0, 173.0, 250.0, 239.0, 141.0, 549.0, 168.0, 309.0, 134.0, 122.0, 146.0, 102.0, 78.0, 118.0, 82.0, 62.0, 158.0, 207.0, 161.0, 137.0, 88.0, 85.0, 149.0, 69.30148102438348, 22.598359932804982, 599.2510482448977, 112.08199348107951, 53.28284626662979, 16.83620951754859, 69.3983852441029, 77.01272726142105, 14.461730284894724, 156.23830438614073, 21.092436619477947, 13.844474095114448, 13.779915871903626, 40.64872023605666, 15.992993258206202, 26.748182872100582, 31.577327761328753, 8.116204027478817, 7.012340730454569, 27.40371894979942, 10.880697705539557, 6.014582614830227, 38.00077321594719, 9.188881237982033, 9.715561548881858, 70.59882862631578, 18.527438312623506, 41.079189186234075, 6.2994334124742135, 11.91193142937057, 7.360994009070074, 10.179126521148776, 103.80090616228921, 58.04404066755785, 15.979748904045673, 30.99146860276414, 27.262028141580682, 29.515537166020234, 14.433663778857722, 15.631958840847226, 28.089535023664297, 18.755889701912466, 15.765928730242926, 14.51843381947616, 35.11956075431241, 26.48976884687831, 54.862502619609934, 31.094074023983918, 91.78732313804272, 12.254166795380678, 102.8532646019493, 28.590412553747253, 9.775733420666352, 13.648274097389516, 10.644618937862614, 28.514556318910856, 11.935114849553823, 40.30365037970848, 15.020677277396672, 20.38386648137018, 11.413808268874806, 25.855596581383885, 11.54781393080811, 10.955411570750428, 14.209377042413527, 11.839564741865, 99.35888163964812, 17.118474177805805, 10.351114834059013, 18.22543656397335, 25.807018297281132, 8.942122414731147, 27.46139055702112, 10.587409430238186, 37.84628549800006, 51.69132444364143, 30.599284184846038, 33.06382066178948, 112.54026595360799, 23.692736581046884, 25.00830119801073, 48.25984363588277, 24.43543718456183, 24.355788427784066, 20.342200904096877, 25.952515513217108, 23.38354461266667, 27.231771997300626, 19.32939468543441, 18.2580816191151, 521.9129260218975, 22.65432951072185, 105.16321022079643, 28.1383782965543, 29.87497998290741, 19.964738359512914, 27.12026061932847, 11.36871725785605, 21.735190201305823, 10.385837144232104, 15.153556495140725, 11.553501985019942, 30.83478746159997, 11.103361498384, 24.147056086761182, 8.311500139624123, 16.45207940482464, 21.00136287135121, 8.292511617727504, 16.395323996135208, 42.65128512437925, 7.942465376779715, 4.4941465457098575, 5.5598103844849085, 54.39723884748559, 5.825035028306252, 22.79717675752259, 48.321447461949056, 15.656681653135504, 10.30866953945292, 59.54817204947954, 24.08905647423739, 20.55067467465664, 12.869723647752751, 28.401362815534853, 70.04215914778327, 43.54573935532967, 24.675145292691155, 24.910223565730593, 18.635340968731466, 19.605397785736688, 17.164957987409668, 17.353342350629475, 236.2465325066359, 224.01815671596967, 24.644282503101433, 37.1215996851661, 44.70083184097145, 43.142229563354945, 27.875034461121867, 54.53799562556531, 11.073895286544523, 9.270584182082743, 82.98758870550569, 10.225691664914782, 31.296743278732148, 12.190441186021543, 12.603585426740077, 23.399212296984828, 8.893521797410859, 7.249182042623762, 14.759219691801682, 8.36968094727874, 10.876634095949015, 15.306336976026719, 7.087578027113219, 7.0292841103273105, 50.32246104606722, 14.830583899694577, 8.934220834730684, 5.424684076851198, 6.589037300436517, 7.92644757075068, 31.638022953695174, 44.47210597560247, 95.67062419442384, 22.748113170249848, 28.71959045612681, 11.818368134912108, 16.780715314491225, 28.205017800567337, 18.433256664706104, 29.371683176055168, 20.968155067098397, 14.168135908769635, 13.622146655526686, 14.975064458316004, 13.055860857454478, 13.132845633295222, 58.99184876498078, 21.040756568953114, 37.16449709600482, 43.006826588115736, 35.67053386613734, 52.86274162477139, 74.0602396802956, 42.66576527427458, 21.50361795706862, 9.636381979027686, 263.5891243171625, 28.568330858426712, 46.790754651719325, 140.52808285925093, 18.465480305718998, 16.945173108936157, 9.396599275308464, 5.850311349530274, 29.375467409224107, 7.355759691946499, 11.373059550350455, 25.548718407409776, 51.124778513912325, 11.59074584409233, 27.9616297480664, 5.787734035062789, 29.986185031170447, 6.4070950716214545, 9.836528812641012, 6.2792574385298945, 9.42945568318317, 39.72440284734544, 17.511109504771888, 22.93045171940914, 17.087381922814025, 18.75405994766997, 18.178139834340946, 16.801264632711174, 18.791316610275864, 22.513847369583342, 17.854831437752832, 35.28035925174354, 22.004113594599733, 116.38066065677965, 131.93113473544864, 15.98217689875366, 26.45820503835038, 18.347263396711064, 16.192309847599013, 75.29841828908305, 15.399580072004646, 116.1768158573411, 28.132947391754808, 26.286711623917572, 9.54661850975482, 16.220541063329748, 6.416762993894782, 6.430580810195929, 22.797148354791272, 31.172055603890087, 26.58323433712525, 8.816670964373712, 19.707241505341077, 16.2534779612178, 6.832149857334018, 7.707626126100433, 9.763259714815309, 9.545803539121339, 29.18155061273747, 4.602957374774117, 5.478193755891575, 20.051723046454153, 13.862309525775776, 21.072215894659678, 66.32456876515468, 46.50200855552418, 28.181690260251994, 19.49125774349242, 20.82522152914756, 29.9850872010392, 27.6759912715816, 33.87461097023521, 20.99025383653348, 49.15000483695425, 38.18450760508323, 53.87800459542726, 26.435860278995168, 21.137879501020457, 32.72193093279814, 49.722833575961, 28.440608948927153, 147.94398993977035, 42.4726601028752, 40.91957092520981, 12.272146168082578, 11.361771661091776, 27.20406235386772, 10.34822142441453, 13.85759071341061, 28.423591424315788, 9.043814691104647, 15.90052204215142, 18.301156750772776, 11.497809385942135, 11.19677232790838, 7.222298928288019, 7.739182232670432, 6.800475281343932, 6.631420778387262, 7.856256180726316, 26.1886174593215, 27.530582703556746, 35.207137321335, 12.781582693125202, 11.919840843318145, 15.677277744426318, 15.606447350174767, 16.00362324671745, 18.38959943742361, 24.805368164727906, 14.78645748249173, 14.044557042423609, 17.50134025991554, 20.50498924766193, 15.703747060751677, 15.438249886102854, 14.91876106885675, 14.979335659999077, 56.54694838640757, 32.418864221725165, 54.65568069338682, 70.87473746008996, 84.04975858658413, 46.942490630902824, 105.89505805513366, 12.512677732034623, 121.83005815921898, 86.65315399819673, 10.034451944679851, 12.624727037621454, 15.66607540863972, 18.17989471954453, 6.663670372248971, 10.570185958202435, 5.832800070021663, 27.985005596093735, 5.475050270868051, 13.240799058923676, 4.82224128813446, 10.210434191908542, 9.007057621855276, 56.16118764390882, 23.93202830703988, 11.339482113231924, 45.77152725732597, 7.28316268007134, 9.70107151410084, 9.612361895198498, 25.444193267795594, 17.21968489259104, 18.649613607294206, 26.425866671985705, 15.7525258128107, 21.13550634099934, 14.00185499272913, 29.679556332823907, 28.321784184367853, 15.310281244398963, 11.26654758047952, 71.34765514356717, 27.037712666301097, 34.82149992676225, 133.75111437466794, 30.74965225873771, 17.27934288059789, 9.035077351033776, 20.613673248517696, 10.656617110284362, 10.720653207523133, 16.299199081033862, 10.071988133964764, 6.1662861808794664, 60.13891975953685, 15.673796700461924, 79.64311464796602, 17.579956693063895, 7.7707215808005525, 23.28869951036228, 10.99057534740042, 8.965007755529195, 7.133161124814695, 159.16996423655968, 5.874870698610324, 6.362348442534992, 7.725097429921758, 4.979014990833569, 7.38615469397447, 5.204157529467918, 6.854883930545884, 14.277186750148571, 53.253030157178664, 12.47168866685921, 12.77564628444455, 13.21261983276197, 17.947835126225797, 18.16358380167821, 21.668776878958937, 9.16664175188643, 11.571172013203725, 10.104097579924078, 10.341694996483891, 11.345895085449342, 61.26457237000879, 16.95663713178133, 64.14725990326706, 15.286829556732867, 57.74798053459163, 49.87965071545781, 15.810996535259541, 25.469364262839516, 12.935680404981222, 17.069482732356434, 12.129822344569643, 13.014836645989428, 23.13883274224039, 9.618527857438577, 11.954025956224998, 74.79614157774338, 13.694493815304456, 7.309615523895785, 8.68553460514177, 5.591461215493821, 26.681517138723496, 6.995781344190232, 15.443195881723835, 5.5449879309331855, 16.861363899217437, 13.410148882930308, 7.467549923102773, 23.45791282092674, 8.868981717259862, 31.17722711738364, 32.54213271909926, 28.389103911421596, 50.86898678898633, 17.326688105115455, 15.861280337109415, 14.129989468785686, 27.21283981914012, 20.037364925338846, 13.354095682825049, 13.956627594428664], \"Total\": [562.0, 730.0, 245.0, 240.0, 277.0, 532.0, 188.0, 196.0, 173.0, 250.0, 239.0, 141.0, 549.0, 168.0, 309.0, 134.0, 122.0, 146.0, 102.0, 78.0, 118.0, 82.0, 62.0, 158.0, 207.0, 161.0, 137.0, 88.0, 85.0, 149.0, 81.31383815292494, 27.247028437438804, 730.2319955213835, 161.7455866380825, 81.87977991644621, 27.256902528317987, 128.0794503603511, 154.4950307080117, 32.49590936403393, 351.1288989460885, 49.98543542730175, 33.41008890033366, 34.27669151781821, 102.83257622422286, 42.23316988081316, 70.67530992813364, 87.41726279933467, 22.675717358711488, 19.692961272394673, 81.13615086469599, 32.421054259401075, 18.65465968202183, 120.19386291255614, 29.70813168936824, 31.428601355606826, 234.64166306339615, 63.889116771333114, 146.86568246186138, 22.62964166152642, 42.894955868457636, 26.541538379086603, 37.301245615373276, 532.2966697404713, 309.88226624488885, 63.70717843805519, 160.33791922323707, 173.20259144450807, 207.72390243825043, 69.63978197478032, 94.0237085674228, 549.0992063998515, 188.72507348621625, 202.63324015496664, 118.641901828765, 40.63973085075586, 33.703406540532036, 70.44242314031573, 44.52322616547656, 137.74050787499323, 18.863294476975213, 158.88481403715326, 44.52101961856258, 15.938341984359147, 23.713715421907438, 19.821587722567774, 55.35184182079656, 23.73909152674048, 81.43768234010469, 30.751347494581868, 41.89663049653137, 23.812883744460287, 54.45948993935008, 24.862055397686525, 23.727582684774802, 31.428601355606826, 27.635219748355695, 239.38554941246574, 42.23316988081316, 25.709026232428677, 45.4388041378891, 64.54941879273915, 22.675717358711488, 71.16901221519304, 27.588441543433674, 102.83257622422286, 149.21003859987886, 87.41726279933467, 102.49921135164705, 549.0992063998515, 70.67530992813364, 81.59348248539959, 234.64166306339615, 81.15171514497051, 102.22265167934184, 72.12686777021243, 128.0794503603511, 110.60423923783996, 188.72507348621625, 89.4904252987357, 143.31868378083269, 562.4232629153437, 25.626462879714584, 134.43403286146628, 37.40147193743829, 47.23308940529694, 33.33987948679474, 53.538925761380085, 22.796277713119135, 44.34773127642497, 21.61235120312648, 33.444904079884246, 25.681364270004252, 71.05958668006888, 27.486384980379874, 61.18328545877753, 21.532314881119465, 43.42627453181017, 57.574537908037115, 24.62179743710935, 50.19561723983339, 143.31868378083269, 27.596723414138484, 15.675350604815858, 19.580268534680016, 202.63324015496664, 21.72976257047442, 85.09130048109233, 188.72507348621625, 63.57998504090454, 42.14817600215921, 250.76532055341534, 103.32288133635188, 94.85579865136032, 55.35184182079656, 160.33791922323707, 549.0992063998515, 351.1288989460885, 161.7455866380825, 309.88226624488885, 168.3965676833548, 207.72390243825043, 158.88481403715326, 532.2966697404713, 245.83427802054507, 240.86384539406168, 29.72437267318007, 45.34460424081582, 63.956200553443864, 69.16385904511098, 46.36672357753781, 94.85579865136032, 19.651025782499012, 18.65465968202183, 168.3965676833548, 20.804263027039795, 63.889116771333114, 26.909961138471065, 28.608855597519238, 53.27491984461321, 20.830364396180045, 17.00323465614131, 36.36183971192653, 20.849992553993527, 27.635219748355695, 38.97234565964668, 19.821587722567774, 19.75700607416251, 154.4950307080117, 49.711469350473266, 30.429447527154526, 18.830867669842256, 23.914450093810267, 28.8305456762156, 128.0794503603511, 239.38554941246574, 730.2319955213835, 146.86568246186138, 234.64166306339615, 53.64187994478807, 110.60423923783996, 351.1288989460885, 143.31868378083269, 549.0992063998515, 532.2966697404713, 105.2832746051541, 94.0237085674228, 188.72507348621625, 87.25335928267899, 102.49921135164705, 66.78893593272731, 26.144599968082044, 47.52806870231407, 58.32176082354321, 51.58149662762719, 81.13615086469599, 118.641901828765, 71.075417433676, 39.90646865825519, 18.65913237194938, 532.2966697404713, 58.92058259298762, 101.84504428569427, 309.88226624488885, 42.894955868457636, 40.30195680577598, 24.48517923985289, 15.675350604815858, 81.59348248539959, 21.532314881119465, 33.59082955807458, 77.29734536283328, 160.33791922323707, 37.411001914487635, 94.42828981130131, 19.63710089650267, 103.32288133635188, 22.88084226021458, 36.34607151786459, 23.60680150875882, 35.79671695771294, 196.09042452040873, 82.08871269609817, 122.40621824152093, 81.63153659655138, 102.49921135164705, 134.43403286146628, 143.31868378083269, 207.72390243825043, 549.0992063998515, 351.1288989460885, 37.75212328413747, 23.85828568861728, 141.30160914899975, 173.20259144450807, 22.800136851431194, 38.549637034975106, 28.73261211495712, 30.753344393861198, 146.86568246186138, 32.421054259401075, 250.76532055341534, 67.42097640011129, 63.57998504090454, 23.812883744460287, 42.58854721165243, 16.850759269890794, 17.05085431305089, 62.258310732822224, 87.25335928267899, 81.15171514497051, 28.14970990470561, 63.70717843805519, 54.455941153063335, 24.862055397686525, 28.608855597519238, 37.42234780383707, 37.411001914487635, 118.641901828765, 18.863294476975213, 23.727582684774802, 101.84504428569427, 71.05958668006888, 120.19386291255614, 532.2966697404713, 351.1288989460885, 207.72390243825043, 122.40621824152093, 149.21003859987886, 309.88226624488885, 549.0992063998515, 36.191126958509194, 23.491192169652816, 55.877489022758894, 44.158981011268715, 66.74428222807191, 35.27051215429076, 31.400501452645713, 51.95254521686429, 89.4904252987357, 51.5717227340907, 277.61923716996984, 90.48969654492545, 90.46131048404739, 28.690499434160994, 27.588441543433674, 69.63978197478032, 26.509875307383847, 35.57608057562971, 73.44896509094266, 24.57238440939263, 43.229279874320646, 51.038811722957526, 32.565699988142434, 34.3681955881187, 23.60680150875882, 25.706933555373507, 23.74107368054814, 23.713715421907438, 28.536177822365772, 97.4844882485249, 110.60423923783996, 149.21003859987886, 50.33702978750995, 46.334199918456136, 67.42097640011129, 82.90231334006495, 88.88588070752503, 122.8945745269596, 351.1288989460885, 77.29734536283328, 72.12686777021243, 202.63324015496664, 549.0992063998515, 143.31868378083269, 137.74050787499323, 102.49921135164705, 160.33791922323707, 67.34810688054873, 42.107878334477725, 74.18466665807253, 102.22265167934184, 122.8945745269596, 81.63153659655138, 188.83199983274784, 26.909961138471065, 277.61923716996984, 207.72390243825043, 24.908054534890255, 33.59082955807458, 41.89663049653137, 57.574537908037115, 21.873544716114424, 35.825173149368446, 20.738510373094204, 105.2832746051541, 20.830364396180045, 51.5717227340907, 18.994726542070588, 40.30195680577598, 35.79671695771294, 234.64166306339615, 103.32288133635188, 49.711469350473266, 202.63324015496664, 32.565699988142434, 43.42627453181017, 45.09783652339596, 120.19386291255614, 82.08871269609817, 94.0237085674228, 188.72507348621625, 94.42828981130131, 158.88481403715326, 90.46131048404739, 532.2966697404713, 549.0992063998515, 122.40621824152093, 71.075417433676, 78.90464163879227, 30.333954755132183, 45.32758615061227, 196.09042452040873, 47.24505155547848, 28.14970990470561, 17.05085431305089, 40.98753431976558, 21.96389973752764, 22.88084226021458, 38.97234565964668, 26.874100359295234, 17.00323465614131, 168.3965676833548, 45.09783652339596, 239.38554941246574, 53.64187994478807, 23.914450093810267, 73.44896509094266, 35.79671695771294, 29.70813168936824, 23.74107368054814, 549.0992063998515, 20.849992553993527, 22.796277713119135, 28.8305456762156, 18.65913237194938, 27.756412947820394, 19.692961272394673, 27.721394848787774, 58.92058259298762, 250.76532055341534, 53.538925761380085, 63.57998504090454, 87.25335928267899, 160.33791922323707, 207.72390243825043, 532.2966697404713, 51.5717227340907, 122.40621824152093, 82.08871269609817, 94.0237085674228, 309.88226624488885, 62.30286422804018, 20.774107581367453, 82.90231334006495, 22.79990825210698, 88.88588070752503, 85.09130048109233, 28.536177822365772, 46.334199918456136, 24.908054534890255, 34.559302181082984, 24.77911038069788, 26.68064217951524, 50.33702978750995, 21.873544716114424, 27.66077986584436, 188.83199983274784, 34.65454462421604, 19.75700607416251, 26.874100359295234, 18.830867669842256, 90.48969654492545, 24.540614180504566, 54.36914854930963, 19.63710089650267, 61.18328545877753, 51.038811722957526, 28.8305456762156, 101.84504428569427, 40.30195680577598, 149.21003859987886, 202.63324015496664, 188.72507348621625, 549.0992063998515, 105.2832746051541, 110.60423923783996, 89.4904252987357, 562.4232629153437, 309.88226624488885, 94.42828981130131, 351.1288989460885], \"Category\": [\"Default\", \"Default\", \"Default\", \"Default\", \"Default\", \"Default\", \"Default\", \"Default\", \"Default\", \"Default\", \"Default\", \"Default\", \"Default\", \"Default\", \"Default\", \"Default\", \"Default\", \"Default\", \"Default\", \"Default\", \"Default\", \"Default\", \"Default\", \"Default\", \"Default\", \"Default\", \"Default\", \"Default\", \"Default\", \"Default\", \"Topic1\", \"Topic1\", \"Topic1\", \"Topic1\", \"Topic1\", \"Topic1\", \"Topic1\", \"Topic1\", \"Topic1\", \"Topic1\", \"Topic1\", \"Topic1\", \"Topic1\", \"Topic1\", \"Topic1\", \"Topic1\", \"Topic1\", \"Topic1\", \"Topic1\", \"Topic1\", \"Topic1\", \"Topic1\", \"Topic1\", \"Topic1\", \"Topic1\", \"Topic1\", \"Topic1\", \"Topic1\", \"Topic1\", \"Topic1\", \"Topic1\", \"Topic1\", \"Topic1\", \"Topic1\", \"Topic1\", \"Topic1\", \"Topic1\", \"Topic1\", \"Topic1\", \"Topic1\", \"Topic1\", \"Topic1\", \"Topic1\", \"Topic1\", \"Topic2\", \"Topic2\", \"Topic2\", \"Topic2\", \"Topic2\", \"Topic2\", \"Topic2\", \"Topic2\", \"Topic2\", \"Topic2\", \"Topic2\", \"Topic2\", \"Topic2\", \"Topic2\", \"Topic2\", \"Topic2\", \"Topic2\", \"Topic2\", \"Topic2\", \"Topic2\", \"Topic2\", \"Topic2\", \"Topic2\", \"Topic2\", \"Topic2\", \"Topic2\", \"Topic2\", \"Topic2\", \"Topic2\", \"Topic2\", \"Topic2\", \"Topic2\", \"Topic2\", \"Topic2\", \"Topic2\", \"Topic2\", \"Topic2\", \"Topic2\", \"Topic2\", \"Topic2\", \"Topic2\", \"Topic2\", \"Topic2\", \"Topic2\", \"Topic2\", \"Topic2\", \"Topic3\", \"Topic3\", \"Topic3\", \"Topic3\", \"Topic3\", \"Topic3\", \"Topic3\", \"Topic3\", \"Topic3\", \"Topic3\", \"Topic3\", \"Topic3\", \"Topic3\", \"Topic3\", \"Topic3\", \"Topic3\", \"Topic3\", \"Topic3\", \"Topic3\", \"Topic3\", \"Topic3\", \"Topic3\", \"Topic3\", \"Topic3\", \"Topic3\", \"Topic3\", \"Topic3\", \"Topic3\", \"Topic3\", \"Topic3\", \"Topic3\", \"Topic3\", \"Topic3\", \"Topic3\", \"Topic3\", \"Topic3\", \"Topic3\", \"Topic3\", \"Topic3\", \"Topic3\", \"Topic3\", \"Topic3\", \"Topic3\", \"Topic4\", \"Topic4\", \"Topic4\", \"Topic4\", \"Topic4\", \"Topic4\", \"Topic4\", \"Topic4\", \"Topic4\", \"Topic4\", \"Topic4\", \"Topic4\", \"Topic4\", \"Topic4\", \"Topic4\", \"Topic4\", \"Topic4\", \"Topic4\", \"Topic4\", \"Topic4\", \"Topic4\", \"Topic4\", \"Topic4\", \"Topic4\", \"Topic4\", \"Topic4\", \"Topic4\", \"Topic4\", \"Topic4\", \"Topic4\", \"Topic4\", \"Topic4\", \"Topic4\", \"Topic4\", \"Topic4\", \"Topic4\", \"Topic4\", \"Topic4\", \"Topic4\", \"Topic4\", \"Topic4\", \"Topic4\", \"Topic4\", \"Topic4\", \"Topic4\", \"Topic4\", \"Topic5\", \"Topic5\", \"Topic5\", \"Topic5\", \"Topic5\", \"Topic5\", \"Topic5\", \"Topic5\", \"Topic5\", \"Topic5\", \"Topic5\", \"Topic5\", \"Topic5\", \"Topic5\", \"Topic5\", \"Topic5\", \"Topic5\", \"Topic5\", \"Topic5\", \"Topic5\", \"Topic5\", \"Topic5\", \"Topic5\", \"Topic5\", \"Topic5\", \"Topic5\", \"Topic5\", \"Topic5\", \"Topic5\", \"Topic5\", \"Topic5\", \"Topic5\", \"Topic5\", \"Topic5\", \"Topic5\", \"Topic5\", \"Topic5\", \"Topic5\", \"Topic5\", \"Topic5\", \"Topic5\", \"Topic6\", \"Topic6\", \"Topic6\", \"Topic6\", \"Topic6\", \"Topic6\", \"Topic6\", \"Topic6\", \"Topic6\", \"Topic6\", \"Topic6\", \"Topic6\", \"Topic6\", \"Topic6\", \"Topic6\", \"Topic6\", \"Topic6\", \"Topic6\", \"Topic6\", \"Topic6\", \"Topic6\", \"Topic6\", \"Topic6\", \"Topic6\", \"Topic6\", \"Topic6\", \"Topic6\", \"Topic6\", \"Topic6\", \"Topic6\", \"Topic6\", \"Topic6\", \"Topic6\", \"Topic6\", \"Topic6\", \"Topic6\", \"Topic6\", \"Topic6\", \"Topic6\", \"Topic6\", \"Topic7\", \"Topic7\", \"Topic7\", \"Topic7\", \"Topic7\", \"Topic7\", \"Topic7\", \"Topic7\", \"Topic7\", \"Topic7\", \"Topic7\", \"Topic7\", \"Topic7\", \"Topic7\", \"Topic7\", \"Topic7\", \"Topic7\", \"Topic7\", \"Topic7\", \"Topic7\", \"Topic7\", \"Topic7\", \"Topic7\", \"Topic7\", \"Topic7\", \"Topic7\", \"Topic7\", \"Topic7\", \"Topic7\", \"Topic7\", \"Topic7\", \"Topic7\", \"Topic7\", \"Topic7\", \"Topic7\", \"Topic7\", \"Topic7\", \"Topic7\", \"Topic7\", \"Topic7\", \"Topic7\", \"Topic7\", \"Topic7\", \"Topic7\", \"Topic7\", \"Topic7\", \"Topic7\", \"Topic8\", \"Topic8\", \"Topic8\", \"Topic8\", \"Topic8\", \"Topic8\", \"Topic8\", \"Topic8\", \"Topic8\", \"Topic8\", \"Topic8\", \"Topic8\", \"Topic8\", \"Topic8\", \"Topic8\", \"Topic8\", \"Topic8\", \"Topic8\", \"Topic8\", \"Topic8\", \"Topic8\", \"Topic8\", \"Topic8\", \"Topic8\", \"Topic8\", \"Topic8\", \"Topic8\", \"Topic8\", \"Topic8\", \"Topic8\", \"Topic8\", \"Topic8\", \"Topic8\", \"Topic8\", \"Topic8\", \"Topic8\", \"Topic8\", \"Topic8\", \"Topic8\", \"Topic8\", \"Topic8\", \"Topic9\", \"Topic9\", \"Topic9\", \"Topic9\", \"Topic9\", \"Topic9\", \"Topic9\", \"Topic9\", \"Topic9\", \"Topic9\", \"Topic9\", \"Topic9\", \"Topic9\", \"Topic9\", \"Topic9\", \"Topic9\", \"Topic9\", \"Topic9\", \"Topic9\", \"Topic9\", \"Topic9\", \"Topic9\", \"Topic9\", \"Topic9\", \"Topic9\", \"Topic9\", \"Topic9\", \"Topic9\", \"Topic9\", \"Topic9\", \"Topic9\", \"Topic9\", \"Topic9\", \"Topic9\", \"Topic9\", \"Topic9\", \"Topic9\", \"Topic9\", \"Topic9\", \"Topic9\", \"Topic9\", \"Topic9\", \"Topic9\", \"Topic10\", \"Topic10\", \"Topic10\", \"Topic10\", \"Topic10\", \"Topic10\", \"Topic10\", \"Topic10\", \"Topic10\", \"Topic10\", \"Topic10\", \"Topic10\", \"Topic10\", \"Topic10\", \"Topic10\", \"Topic10\", \"Topic10\", \"Topic10\", \"Topic10\", \"Topic10\", \"Topic10\", \"Topic10\", \"Topic10\", \"Topic10\", \"Topic10\", \"Topic10\", \"Topic10\", \"Topic10\", \"Topic10\", \"Topic10\", \"Topic10\", \"Topic10\", \"Topic10\", \"Topic10\", \"Topic10\", \"Topic10\", \"Topic10\", \"Topic10\", \"Topic10\", \"Topic10\"], \"logprob\": [30.0, 29.0, 28.0, 27.0, 26.0, 25.0, 24.0, 23.0, 22.0, 21.0, 20.0, 19.0, 18.0, 17.0, 16.0, 15.0, 14.0, 13.0, 12.0, 11.0, 10.0, 9.0, 8.0, 7.0, 6.0, 5.0, 4.0, 3.0, 2.0, 1.0, -3.5675, -4.6881, -1.4103, -3.0868, -3.8304, -4.9825, -3.5661, -3.462, -5.1345, -2.7546, -4.7571, -5.1781, -5.1828, -4.101, -5.0338, -4.5195, -4.3536, -5.7121, -5.8583, -4.4953, -5.419, -6.0118, -4.1684, -5.588, -5.5323, -3.549, -4.8867, -4.0905, -5.9655, -5.3285, -5.8098, -5.4857, -3.1635, -3.7448, -5.0347, -4.3723, -4.5005, -4.4211, -5.1364, -5.0567, -4.4706, -4.8745, -5.0481, -5.1306, -4.0787, -4.3607, -3.6326, -4.2004, -3.118, -5.1316, -3.0042, -4.2844, -5.3576, -5.0238, -5.2724, -4.287, -5.158, -3.941, -4.928, -4.6227, -5.2026, -4.3849, -5.191, -5.2436, -4.9836, -5.166, -3.0387, -4.7973, -5.3004, -4.7346, -4.3868, -5.4467, -4.3247, -5.2778, -4.0039, -3.6922, -4.2165, -4.139, -2.9142, -4.4723, -4.4183, -3.7609, -4.4414, -4.4447, -4.6248, -4.3812, -4.4854, -4.3331, -4.6758, -4.7329, -1.3419, -4.479, -2.9439, -4.2622, -4.2024, -4.6054, -4.2991, -5.1685, -4.5204, -5.2589, -4.8811, -5.1524, -4.1707, -5.1921, -4.4152, -5.4817, -4.7989, -4.5548, -5.484, -4.8024, -3.8463, -5.5271, -6.0966, -5.8838, -3.6031, -5.8372, -4.4727, -3.7215, -4.8485, -5.2664, -3.5126, -4.4176, -4.5765, -5.0445, -4.2529, -3.3503, -3.8256, -4.3936, -4.3841, -4.6743, -4.6236, -4.7565, -4.7456, -2.091, -2.1441, -4.3513, -3.9417, -3.7559, -3.7914, -4.2281, -3.557, -5.1513, -5.329, -3.1372, -5.231, -4.1124, -5.0552, -5.0219, -4.4032, -5.3706, -5.575, -4.864, -5.4313, -5.1693, -4.8276, -5.5975, -5.6058, -3.6374, -4.8592, -5.366, -5.8649, -5.6705, -5.4857, -4.1015, -3.761, -2.995, -4.4314, -4.1983, -5.0862, -4.7356, -4.2164, -4.6417, -4.1758, -4.5129, -4.9049, -4.9442, -4.8495, -4.9866, -4.9808, -3.3708, -4.4018, -3.8329, -3.6869, -3.8739, -3.4805, -3.1434, -3.6948, -4.38, -5.1827, -1.8738, -4.0959, -3.6026, -2.5028, -4.5323, -4.6183, -5.2079, -5.6817, -4.0681, -5.4528, -5.017, -4.2077, -3.514, -4.998, -4.1174, -5.6925, -4.0475, -5.5908, -5.1621, -5.611, -5.2044, -3.7663, -4.5854, -4.3158, -4.6099, -4.5168, -4.548, -4.6268, -4.5148, -4.3341, -4.566, -3.7793, -4.2514, -2.5857, -2.4603, -4.5711, -4.067, -4.4331, -4.558, -3.0211, -4.6082, -2.5875, -4.0056, -4.0735, -5.0864, -4.5563, -5.4837, -5.4815, -4.2159, -3.9031, -4.0623, -5.1659, -4.3616, -4.5543, -5.4209, -5.3004, -5.064, -5.0865, -3.969, -5.8159, -5.6418, -4.3443, -4.7134, -4.2946, -3.148, -3.5031, -4.0039, -4.3726, -4.3064, -3.9419, -4.022, -3.8161, -4.2947, -3.4439, -3.6964, -3.3521, -4.0641, -4.2877, -3.8508, -3.4323, -3.991, -2.342, -3.5899, -3.6272, -4.8315, -4.9085, -4.0354, -5.002, -4.71, -3.9916, -5.1367, -4.5724, -4.4318, -4.8966, -4.9232, -5.3616, -5.2925, -5.4218, -5.447, -5.2775, -4.0735, -4.0235, -3.7775, -4.7908, -4.8606, -4.5866, -4.5911, -4.566, -4.427, -4.1277, -4.6451, -4.6966, -4.4765, -4.3181, -4.5849, -4.6019, -4.6362, -4.6321, -3.2681, -3.8245, -3.3021, -3.0423, -2.8718, -3.4543, -2.6407, -4.7765, -2.5006, -2.8413, -4.9972, -4.7675, -4.5517, -4.4029, -5.4065, -4.9452, -5.5397, -3.9715, -5.603, -4.7199, -5.73, -4.9798, -5.1052, -3.275, -4.128, -4.8749, -3.4795, -5.3176, -5.031, -5.0401, -4.0667, -4.4571, -4.3774, -4.0289, -4.5462, -4.2522, -4.664, -3.9127, -3.9596, -4.5747, -4.8814, -2.9534, -3.9237, -3.6707, -2.325, -3.7951, -4.3714, -5.0198, -4.195, -4.8548, -4.8488, -4.4298, -4.9112, -5.4018, -3.1243, -4.4689, -2.8434, -4.3542, -5.1706, -4.073, -4.8239, -5.0276, -5.2562, -2.151, -5.4502, -5.3705, -5.1765, -5.6157, -5.2213, -5.5715, -5.296, -4.5623, -3.2459, -4.6975, -4.6734, -4.6398, -4.3335, -4.3215, -4.1451, -5.0054, -4.7724, -4.908, -4.8847, -4.7921, -3.0558, -4.3404, -3.0098, -4.444, -3.1149, -3.2614, -4.4103, -3.9335, -4.611, -4.3337, -4.6753, -4.6049, -4.0295, -4.9073, -4.6899, -2.8562, -4.554, -5.1818, -5.0094, -5.4498, -3.887, -5.2257, -4.4338, -5.4581, -4.346, -4.575, -5.1604, -4.0158, -4.9885, -3.7313, -3.6885, -3.825, -3.2418, -4.3188, -4.4071, -4.5227, -3.8673, -4.1734, -4.5792, -4.5351], \"loglift\": [30.0, 29.0, 28.0, 27.0, 26.0, 25.0, 24.0, 23.0, 22.0, 21.0, 20.0, 19.0, 18.0, 17.0, 16.0, 15.0, 14.0, 13.0, 12.0, 11.0, 10.0, 9.0, 8.0, 7.0, 6.0, 5.0, 4.0, 3.0, 2.0, 1.0, 1.798, 1.7708, 1.7601, 1.591, 1.5282, 1.476, 1.345, 1.2616, 1.1482, 1.1481, 1.095, 1.0769, 1.0466, 1.0297, 0.9868, 0.9862, 0.9396, 0.9304, 0.9252, 0.8724, 0.866, 0.8259, 0.8063, 0.7844, 0.7838, 0.7568, 0.7199, 0.6838, 0.679, 0.6766, 0.6753, 0.6591, 0.3231, 0.2828, 0.5748, 0.3143, 0.1089, 0.0065, 0.3841, 0.1636, -1.0151, -0.351, -0.5957, -0.1429, 1.9804, 1.8855, 1.8764, 1.7674, 1.7205, 1.695, 1.6915, 1.6835, 1.6375, 1.5739, 1.5046, 1.4631, 1.4387, 1.423, 1.4099, 1.4059, 1.391, 1.3814, 1.3595, 1.3536, 1.3325, 1.2787, 1.247, 1.2233, 1.2166, 1.2128, 1.2096, 1.1958, 1.1741, 1.1686, 1.1268, 1.0663, 1.0766, 0.9949, 0.5414, 1.0334, 0.9438, 0.5449, 0.9261, 0.692, 0.8606, 0.53, 0.5724, 0.1905, 0.5939, 0.0659, 2.0897, 2.0412, 1.9189, 1.8799, 1.7064, 1.6517, 1.4843, 1.4687, 1.4513, 1.4316, 1.3728, 1.3657, 1.3296, 1.258, 1.2347, 1.2125, 1.1938, 1.156, 1.0762, 1.0455, 0.9524, 0.919, 0.9151, 0.9055, 0.8494, 0.8479, 0.8474, 0.802, 0.7631, 0.7562, 0.7267, 0.7084, 0.635, 0.7056, 0.4336, 0.1053, 0.0771, 0.2842, -0.3565, -0.0368, -0.196, -0.0609, -1.259, 2.1682, 2.1354, 2.0205, 2.0079, 1.8497, 1.736, 1.6991, 1.6545, 1.6344, 1.5087, 1.5003, 1.4977, 1.4943, 1.4161, 1.3882, 1.3852, 1.3569, 1.3554, 1.3063, 1.2952, 1.2755, 1.2734, 1.1795, 1.1745, 1.0862, 0.9984, 0.9824, 0.9634, 0.9189, 0.9167, 0.8097, 0.5247, 0.1755, 0.3429, 0.1075, 0.6953, 0.3222, -0.3137, 0.157, -0.7203, -1.0262, 0.2023, 0.2761, -0.326, 0.3084, 0.1532, 2.1914, 2.0984, 2.0696, 2.011, 1.9467, 1.8872, 1.8444, 1.8052, 1.6973, 1.6548, 1.6128, 1.5917, 1.5378, 1.5248, 1.4727, 1.4492, 1.3579, 1.33, 1.294, 1.2415, 1.2326, 1.2085, 1.1726, 1.1438, 1.0986, 1.0939, 1.0785, 1.0427, 1.0086, 0.9913, 0.9816, 0.719, 0.7706, 0.6407, 0.7517, 0.6171, 0.3147, 0.172, -0.0872, -0.8786, -0.6633, 2.3535, 2.3403, 2.2272, 2.1491, 2.066, 2.0449, 1.9727, 1.7798, 1.7532, 1.6768, 1.6518, 1.5472, 1.538, 1.5072, 1.4559, 1.4558, 1.4461, 1.4166, 1.3919, 1.3052, 1.2604, 1.2479, 1.2122, 1.1295, 1.1097, 1.0776, 1.0554, 1.0187, 1.0107, 0.9554, 0.7961, 0.7869, 0.6801, 0.3386, 0.3996, 0.4237, 0.5839, 0.4521, 0.0858, -0.5665, 2.3589, 2.3125, 2.2967, 2.2797, 2.2109, 2.1367, 2.0293, 1.9627, 1.8374, 1.8299, 1.7956, 1.6687, 1.6317, 1.5758, 1.5379, 1.4851, 1.4843, 1.4822, 1.4757, 1.4255, 1.4249, 1.3994, 1.3839, 1.3035, 1.2407, 1.2246, 1.1748, 1.1508, 1.1352, 1.1107, 1.0344, 0.9809, 1.0543, 1.0673, 0.9663, 0.755, 0.7105, 0.5255, -0.2251, 0.7711, 0.7888, -0.0241, -0.8626, 0.2139, 0.2365, 0.4978, 0.0544, 2.2858, 2.1991, 2.1551, 2.0944, 2.0807, 1.9073, 1.8822, 1.6949, 1.637, 1.5863, 1.5515, 1.482, 1.4769, 1.3079, 1.272, 1.24, 1.1921, 1.1356, 1.1244, 1.101, 1.0897, 1.0876, 1.0808, 1.0308, 0.998, 0.9827, 0.9729, 0.9629, 0.9618, 0.9148, 0.908, 0.8989, 0.8429, 0.4947, 0.6698, 0.4434, 0.5949, -0.4261, -0.504, 0.3818, 0.6187, 2.4422, 2.4279, 2.2792, 2.1603, 2.1134, 2.0549, 1.9078, 1.8556, 1.8197, 1.7848, 1.6712, 1.5615, 1.5286, 1.5132, 1.486, 1.4424, 1.4273, 1.4188, 1.3943, 1.3621, 1.3448, 1.3404, 1.3046, 1.2762, 1.2667, 1.2259, 1.2218, 1.219, 1.2121, 1.1456, 1.1254, 0.9934, 1.0859, 0.9381, 0.6552, 0.3531, 0.1061, -0.6584, 0.8155, 0.1841, 0.448, 0.3355, -0.7644, 2.576, 2.3898, 2.3363, 2.193, 2.1615, 2.0587, 2.0023, 1.9944, 1.9376, 1.8874, 1.8785, 1.875, 1.8156, 1.7712, 1.7539, 1.6667, 1.6644, 1.5985, 1.4633, 1.3786, 1.3715, 1.3378, 1.3342, 1.3283, 1.304, 1.2562, 1.2419, 1.1246, 1.079, 1.0271, 0.7639, 0.6985, 0.2138, 0.7884, 0.6507, 0.747, -0.4358, -0.1458, 0.6368, -0.6324]}, \"token.table\": {\"Topic\": [1, 2, 7, 8, 9, 2, 3, 4, 6, 7, 8, 9, 10, 3, 6, 7, 8, 10, 2, 3, 4, 6, 7, 8, 9, 10, 1, 2, 4, 10, 2, 3, 8, 10, 1, 2, 3, 4, 5, 6, 7, 8, 9, 10, 1, 2, 3, 5, 10, 1, 2, 3, 10, 2, 4, 9, 2, 4, 5, 7, 8, 9, 1, 2, 4, 6, 7, 8, 9, 10, 3, 4, 5, 6, 7, 8, 10, 1, 3, 5, 6, 7, 8, 9, 10, 2, 3, 4, 9, 10, 1, 4, 5, 2, 6, 7, 9, 10, 2, 3, 5, 6, 7, 9, 10, 1, 3, 4, 6, 8, 9, 4, 9, 2, 9, 1, 2, 3, 4, 5, 6, 7, 8, 9, 10, 1, 2, 5, 1, 4, 5, 6, 7, 8, 9, 10, 2, 4, 8, 10, 2, 7, 9, 10, 2, 6, 7, 1, 2, 4, 6, 8, 10, 2, 6, 8, 9, 10, 2, 3, 4, 9, 1, 2, 8, 10, 2, 4, 9, 1, 2, 3, 4, 5, 6, 7, 8, 9, 1, 2, 4, 1, 2, 4, 2, 3, 4, 5, 6, 8, 9, 10, 1, 2, 3, 4, 6, 7, 8, 9, 10, 1, 2, 3, 4, 5, 6, 7, 10, 1, 2, 3, 4, 6, 7, 8, 9, 10, 1, 2, 3, 7, 9, 1, 3, 4, 8, 10, 2, 4, 5, 7, 10, 1, 2, 3, 4, 5, 6, 7, 8, 9, 10, 1, 2, 3, 7, 2, 3, 4, 6, 7, 8, 10, 1, 2, 3, 4, 5, 6, 7, 8, 9, 10, 4, 7, 8, 2, 3, 5, 9, 1, 2, 3, 4, 5, 6, 7, 9, 10, 6, 7, 10, 1, 2, 3, 6, 8, 9, 10, 5, 6, 2, 4, 5, 7, 8, 10, 10, 1, 4, 6, 7, 8, 9, 10, 1, 2, 3, 4, 5, 6, 7, 9, 10, 1, 2, 3, 4, 5, 6, 7, 8, 9, 10, 1, 5, 1, 3, 6, 9, 10, 2, 3, 4, 5, 6, 7, 9, 2, 3, 4, 5, 7, 10, 1, 2, 3, 4, 5, 6, 8, 9, 10, 3, 5, 7, 9, 2, 6, 7, 8, 10, 1, 2, 3, 4, 5, 8, 9, 3, 4, 5, 7, 10, 3, 5, 7, 8, 9, 10, 1, 3, 5, 8, 1, 2, 5, 6, 8, 9, 3, 5, 6, 9, 10, 1, 2, 3, 7, 8, 9, 10, 1, 2, 3, 6, 10, 1, 2, 4, 6, 7, 10, 1, 2, 3, 4, 5, 6, 7, 9, 10, 1, 6, 7, 1, 2, 3, 7, 1, 2, 5, 9, 1, 2, 3, 4, 5, 7, 4, 5, 6, 8, 2, 5, 6, 7, 10, 1, 2, 3, 4, 7, 10, 1, 2, 4, 5, 6, 7, 8, 10, 1, 2, 5, 6, 9, 10, 1, 3, 5, 9, 1, 4, 5, 6, 10, 1, 3, 9, 1, 2, 3, 4, 6, 7, 8, 9, 10, 2, 4, 5, 7, 10, 1, 2, 4, 5, 9, 10, 3, 6, 9, 1, 2, 3, 5, 6, 7, 10, 1, 2, 3, 5, 8, 9, 10, 1, 2, 3, 4, 10, 1, 3, 4, 6, 2, 5, 10, 2, 3, 6, 7, 10, 1, 5, 6, 7, 8, 10, 2, 5, 1, 2, 6, 8, 9, 3, 5, 7, 8, 9, 2, 4, 5, 6, 7, 9, 1, 2, 4, 5, 6, 8, 9, 10, 1, 2, 3, 4, 5, 6, 7, 8, 9, 10, 7, 10, 1, 2, 3, 7, 10, 1, 2, 3, 5, 9, 3, 5, 8, 9, 10, 5, 7, 8, 10, 1, 2, 4, 9, 1, 2, 4, 5, 6, 7, 8, 3, 8, 10, 3, 4, 5, 9, 10, 1, 2, 4, 8, 10, 1, 5, 10, 2, 4, 7, 9, 10, 2, 4, 6, 1, 2, 3, 4, 1, 2, 4, 1, 2, 4, 6, 10, 2, 3, 7, 8, 10, 2, 3, 7, 10, 2, 3, 4, 5, 6, 8, 1, 2, 4, 5, 6, 8, 9, 2, 7, 9, 10, 1, 3, 4, 5, 6, 8, 9, 10, 4, 8, 9, 1, 3, 4, 5, 7, 8, 9, 10, 1, 2, 4, 6, 7, 3, 7, 1, 2, 3, 4, 6, 8, 1, 2, 3, 4, 5, 8, 9, 4, 8, 9, 1, 3, 4, 5, 6, 7, 10, 1, 2, 3, 5, 6, 8, 9, 10, 3, 9, 1, 3, 4, 9, 7, 8, 9, 1, 3, 4, 6, 7, 8, 9, 1, 2, 3, 4, 5, 6, 8, 1, 2, 5, 6, 9, 2, 3, 4, 5, 6, 7, 3, 5, 6, 7, 8, 9, 10, 7, 8, 2, 4, 5, 10, 2, 3, 6, 7, 10, 2, 4, 5, 6, 7, 3, 6, 7, 1, 2, 3, 4, 5, 7, 8, 9, 10, 1, 2, 3, 4, 5, 7, 8, 9, 3, 4, 5, 8, 10, 1, 4, 7, 9, 4, 5, 6, 8, 9, 1, 2, 5, 6, 10, 2, 3, 4, 5, 7, 8, 9, 10, 1, 2, 3, 4, 5, 6, 7, 8, 9, 10, 1, 2, 3, 4, 8, 10, 1, 2, 6, 8, 1, 2, 4, 5, 9, 1, 2, 3, 4, 5, 6, 8, 9, 1, 2, 3, 4, 5, 9, 1, 4, 5, 6, 7, 8, 9, 2, 4, 7, 9, 1, 2, 3, 4, 6, 7, 8, 9, 10, 2, 7, 9, 1, 2, 3, 5, 10, 1, 2, 3, 4, 5, 6, 7, 9, 1, 6, 9, 1, 2, 6, 7, 1, 2, 8, 1, 2, 7, 10, 1, 2, 3, 4, 7, 10, 1, 2, 4, 6, 9, 1, 2, 3, 4, 5, 7, 10, 1, 2, 3, 6, 7, 9, 1, 2, 3, 5, 6, 7, 8, 9, 1, 2, 5, 7, 8, 1, 3, 4, 5, 7, 8, 10, 1, 3, 4, 7, 8, 10, 2, 3, 4, 5, 1, 2, 6, 8, 9, 1, 2, 4, 1, 2, 3, 4, 5, 6, 8, 2, 5, 6, 7, 8, 9, 2, 3, 4, 7, 8, 10, 1, 2, 3, 4, 5, 7, 8, 10, 1, 2, 4, 5, 6, 7, 8, 10, 2, 3, 4, 5, 7, 8, 10, 1, 3, 6, 7, 9, 10, 5, 6, 10, 4, 7, 8, 2, 3, 5, 10, 1, 3, 4, 5, 6, 7, 8, 9, 5, 6, 8, 9, 1, 3, 4, 8, 9, 10, 1, 2, 4, 9, 3, 7, 8, 10, 5, 6, 7, 9, 1, 2, 7, 8, 2, 4, 6, 2, 3, 4, 6, 7, 9, 1, 6, 7, 9, 10, 2, 5, 6, 7, 9, 10, 1, 3, 4, 7, 9, 10, 1, 2, 4, 5, 6, 9, 10, 2, 3, 7, 10, 4, 6, 1, 2, 3, 6, 8, 1, 2, 4, 10, 1, 2, 5, 6, 7, 10, 1, 2, 3, 4, 5, 7, 8, 9, 1, 2, 4, 6, 7, 10, 3, 4, 7, 8, 9, 10, 2, 4, 9, 1, 6, 7, 1, 2, 3, 7, 8, 9, 2, 5, 8, 9, 3, 8, 9, 10, 1, 2, 3, 4, 6, 3, 4, 7, 9, 1, 2, 3, 5, 8, 9, 10, 3, 4, 5, 9, 2, 4, 5, 6, 7, 3, 6, 8, 10, 1, 2, 3, 4, 1, 4, 10, 2, 4, 7, 8, 9, 10, 3, 4, 5, 6, 7, 8, 10, 2, 3, 8, 5, 7, 8, 10, 2, 5, 6, 8, 10, 1, 5, 6, 2, 6, 7, 1, 4, 6, 9, 10, 1, 2, 3, 5, 6, 7, 8, 9, 10, 1, 2, 4, 5, 8, 10], \"Freq\": [0.09755670058128592, 0.4877835029064296, 0.16259450096880984, 0.03251890019376197, 0.19511340116257184, 0.007975584485072296, 0.23926753455216884, 0.019938961212680736, 0.4625839001341931, 0.03987792242536147, 0.011963376727608442, 0.2113529888544158, 0.003987792242536148, 0.3922639953058763, 0.19613199765293815, 0.11441033196421392, 0.016344333137744846, 0.2778536633416624, 0.028145393091077033, 0.43625359291169397, 0.042218089636615545, 0.19701775163753923, 0.1829450550920007, 0.028145393091077033, 0.042218089636615545, 0.042218089636615545, 0.050614956347447976, 0.2024598253897919, 0.3543046944321358, 0.3543046944321358, 0.0445446819362112, 0.0445446819362112, 0.8463489567880128, 0.0593929092482816, 0.09803423528960498, 0.1307123137194733, 0.0898647156821379, 0.04901711764480249, 0.18789895097174286, 0.15522087254187455, 0.04901711764480249, 0.12254279411200622, 0.09803423528960498, 0.016339039214934164, 0.21828989167847554, 0.10914494583923777, 0.40019813474387184, 0.03638164861307926, 0.21828989167847554, 0.26373753849609743, 0.3390911209235538, 0.22606074728236922, 0.1507071648549128, 0.6274178336625824, 0.06274178336625824, 0.25096713346503297, 0.2164393253921122, 0.1082196626960561, 0.18036610449342683, 0.14429288359474146, 0.07214644179737073, 0.25251254629079756, 0.11740245505796394, 0.11740245505796394, 0.09392196404637115, 0.3756878561854846, 0.11740245505796394, 0.02348049101159279, 0.11740245505796394, 0.04696098202318558, 0.23725819118454164, 0.07117745735536249, 0.23725819118454164, 0.07117745735536249, 0.18980655294763332, 0.04745163823690833, 0.11862909559227082, 0.09019627126058598, 0.4960794919332229, 0.0676472034454395, 0.0676472034454395, 0.0676472034454395, 0.11274533907573248, 0.04509813563029299, 0.04509813563029299, 0.15931289267167, 0.10620859511444668, 0.26552148778611667, 0.10620859511444668, 0.31862578534334, 0.03824881624583371, 0.11474644873750113, 0.8032251411625079, 0.11244107168842167, 0.07496071445894778, 0.2623625006063172, 0.07496071445894778, 0.4872446439831606, 0.005099688077302937, 0.02549844038651469, 0.2039875230921175, 0.02549844038651469, 0.005099688077302937, 0.6833582023585937, 0.05099688077302938, 0.1689350265800544, 0.2252467021067392, 0.43172284570458347, 0.037541117017789866, 0.018770558508894933, 0.1126233510533696, 0.19855458373837168, 0.7721567145381121, 0.06593271520791799, 0.8900916553068929, 0.05099260693451181, 0.20579159227142269, 0.12748151733627952, 0.05281377146788724, 0.0418867842676347, 0.05099260693451181, 0.03824445520088386, 0.05099260693451181, 0.2895651608066921, 0.09287939120214651, 0.6236952266435339, 0.22012772705065903, 0.11006386352532951, 0.31615590912196484, 0.04159946172657432, 0.09983870814377838, 0.17471773925161216, 0.024959677035944594, 0.2079973086328716, 0.04159946172657432, 0.07487903110783378, 0.36320916537063036, 0.08071314786014008, 0.04035657393007004, 0.4842788871608405, 0.13157947684823532, 0.04385982561607844, 0.13157947684823532, 0.6578973842411766, 0.46193481302150086, 0.4199407391104553, 0.08398814782209106, 0.18266376889835184, 0.37937859694273074, 0.1264595323142436, 0.05620423658410826, 0.09835741402218945, 0.14051059146027065, 0.263230954598147, 0.21058476367851758, 0.263230954598147, 0.15793857275888817, 0.052646190919629396, 0.035630179893465085, 0.11282890299597277, 0.49288415519293366, 0.35630179893465086, 0.045717327162949115, 0.18286930865179646, 0.3200212901406438, 0.4571732716294911, 0.14816366517835428, 0.19049614094359835, 0.6561533743612833, 0.055926451554043355, 0.0372843010360289, 0.0745686020720578, 0.22370580621617342, 0.0745686020720578, 0.0745686020720578, 0.09321075259007226, 0.0372843010360289, 0.33555870932426013, 0.14474283311020175, 0.43422849933060526, 0.3980427910530548, 0.3788491378969145, 0.4025272090154717, 0.18942456894845724, 0.08253986950214026, 0.22010631867237404, 0.16507973900428052, 0.27513289834046756, 0.027513289834046755, 0.027513289834046755, 0.027513289834046755, 0.19259302883832727, 0.07357113559305117, 0.16553505508436514, 0.03678556779652559, 0.16553505508436514, 0.09196391949131397, 0.07357113559305117, 0.018392783898262793, 0.05517835169478838, 0.2758917584739419, 0.09070694522899748, 0.12559423185553498, 0.30003066498822245, 0.12559423185553498, 0.11861677453022748, 0.03488728662653749, 0.11163931720491997, 0.09070694522899748, 0.04449653743067192, 0.014832179143557308, 0.014832179143557308, 0.08899307486134383, 0.41530101601960456, 0.23731486629691692, 0.029664358287114615, 0.14832179143557306, 0.014832179143557308, 0.04601983094646244, 0.2300991547323122, 0.27611898567877463, 0.27611898567877463, 0.13805949283938732, 0.013479874548862495, 0.05391949819544998, 0.02695974909772499, 0.7413931001874372, 0.16175849458634994, 0.13145161430980612, 0.29576613219706377, 0.23004032504216068, 0.19717742146470915, 0.13145161430980612, 0.4442812894872315, 0.014239784919462548, 0.12531010729127043, 0.07974279554899028, 0.051263225710065176, 0.13385397824294795, 0.07119892459731274, 0.028479569838925096, 0.014239784919462548, 0.03987139777449514, 0.31818151520178967, 0.4454541212825055, 0.06363630304035793, 0.12727260608071586, 0.11397821776539371, 0.07598547851026247, 0.13297458739295934, 0.12347640257917653, 0.11397821776539371, 0.2659491747859187, 0.16146914183430774, 0.029268517878716278, 0.32195369666587903, 0.03902469050495504, 0.12683024414110386, 0.1853672798985364, 0.029268517878716278, 0.14634258939358138, 0.01951234525247752, 0.07804938100991007, 0.01951234525247752, 0.445931524696427, 0.037160960391368916, 0.4830924850877959, 0.5054953339929968, 0.08424922233216614, 0.21062305583041535, 0.16849844466433228, 0.19334166334564298, 0.012473655699718903, 0.17463117979606463, 0.006236827849859451, 0.318078220342832, 0.024947311399437806, 0.09355241774789178, 0.11226290129747012, 0.06236827849859451, 0.024124779145739978, 0.19299823316591982, 0.7719929326636793, 0.6924454776661582, 0.018547646723200664, 0.15456372269333887, 0.0680080379850691, 0.03709529344640133, 0.0061825489077335545, 0.018547646723200664, 0.026488576350357913, 0.927100172262527, 0.09212146525615406, 0.06141431017076938, 0.09212146525615406, 0.33777870593923154, 0.21495008559769282, 0.15353577542692343, 0.9790882129708924, 0.028108773755280366, 0.19676141628696256, 0.028108773755280366, 0.3935228325739251, 0.1686526425316822, 0.05621754751056073, 0.14054386877640182, 0.18716785798308536, 0.016135160170955634, 0.08067580085477817, 0.03872438441029352, 0.45501151682094887, 0.0968109610257338, 0.025816256273529015, 0.035497352376102395, 0.06454064068382254, 0.17016984592270865, 0.01063561537016929, 0.09572053833152362, 0.14889861518237008, 0.053178076850846454, 0.09572053833152362, 0.053178076850846454, 0.20207669203321654, 0.10635615370169291, 0.07444930759118504, 0.3327739819088245, 0.6532230015247296, 0.0373559979315589, 0.5043059720760451, 0.16810199069201506, 0.2241359875893534, 0.0373559979315589, 0.2957423630187739, 0.08625818921380905, 0.09858078767292464, 0.04929039383646232, 0.3327101583961206, 0.1109033861320402, 0.02464519691823116, 0.23148615553872576, 0.02893576944234072, 0.08680730832702216, 0.05787153888468144, 0.08680730832702216, 0.49190808051979223, 0.08527359937918387, 0.07309165661072903, 0.08527359937918387, 0.07309165661072903, 0.21927496983218708, 0.09745554214763871, 0.20709302706373225, 0.12181942768454838, 0.036545828305364514, 0.7486336379176681, 0.026736915639916717, 0.1336845781995836, 0.08021074691975015, 0.1300671546083442, 0.5202686184333768, 0.16258394326043027, 0.09755036595625816, 0.03251678865208605, 0.025175470822936225, 0.6482683736906079, 0.10699575099747896, 0.06293867705734056, 0.012587735411468112, 0.13217122182041519, 0.012587735411468112, 0.928126616410196, 0.003556040675901134, 0.005334061013851701, 0.014224162703604536, 0.04800654912466531, 0.7810522214133238, 0.13389466652799836, 0.02975437033955519, 0.022315777754666394, 0.007438592584888798, 0.014877185169777596, 0.09288365004144042, 0.3715346001657617, 0.3250927751450414, 0.13932547506216061, 0.027935522723531076, 0.05587104544706215, 0.2514197045117797, 0.05587104544706215, 0.2514197045117797, 0.3072907499588418, 0.2516515219326697, 0.04718466036237557, 0.40893372314058823, 0.20446686157029412, 0.07864110060395928, 0.0388968446707883, 0.388968446707883, 0.1166905340123649, 0.1555873786831532, 0.0388968446707883, 0.0388968446707883, 0.1555873786831532, 0.26513897523180163, 0.3093288044371019, 0.13256948761590082, 0.08837965841060054, 0.17675931682120108, 0.38202874564618133, 0.33958110724105006, 0.05659685120684167, 0.08489527681026252, 0.08489527681026252, 0.05659685120684167, 0.010258042258483433, 0.17438671839421835, 0.12309650710180119, 0.0923223803263509, 0.12309650710180119, 0.12309650710180119, 0.26670909872056925, 0.06154825355090059, 0.030774126775450297, 0.33928569725058677, 0.46266231443261835, 0.15422077147753946, 0.08468639359320462, 0.23288758238131274, 0.6351479519490347, 0.04234319679660231, 0.279753172769297, 0.20981487957697276, 0.4196297591539455, 0.06993829319232425, 0.025874109784909324, 0.21992993317172926, 0.09055938424718263, 0.1293705489245466, 0.33636342720382123, 0.19405582338681993, 0.1786201793446842, 0.3274703287985877, 0.0893100896723421, 0.387010388580149, 0.15674346110220191, 0.17633639373997714, 0.03918586527555048, 0.3526727874799543, 0.2547081242910781, 0.029899921303749813, 0.11959968521499925, 0.4484988195562472, 0.029899921303749813, 0.2690992917337483, 0.08969976391124944, 0.1320457286198011, 0.39613718585940333, 0.08803048574653408, 0.04401524287326704, 0.15405335005643464, 0.06602286430990055, 0.04401524287326704, 0.04401524287326704, 0.00981883808891883, 0.07855070471135064, 0.46148539017918505, 0.19637676177837662, 0.01963767617783766, 0.2258332760451331, 0.4084408202793527, 0.1750460658340083, 0.20422041013967634, 0.20422041013967634, 0.15588681309453997, 0.005773585670168148, 0.005773585670168148, 0.7621133084621955, 0.06928302804201777, 0.8441287479407049, 0.03670124991046543, 0.1101037497313963, 0.06328871341854642, 0.20794862980379536, 0.0452062238703903, 0.153701161159327, 0.036164979096312236, 0.25315485367418566, 0.054247468644468354, 0.0452062238703903, 0.14465991638524894, 0.12208827397528707, 0.28487263927566986, 0.08139218265019138, 0.36626482192586124, 0.12208827397528707, 0.1572291034655779, 0.6513777143573941, 0.02246130049508256, 0.02246130049508256, 0.08984520198033023, 0.04492260099016512, 0.0355243447760304, 0.31971910298427364, 0.6039138611925169, 0.05419873849388066, 0.5239211387741798, 0.23486120014014955, 0.01806624616462689, 0.10839747698776132, 0.03613249232925378, 0.03613249232925378, 0.036767642569206706, 0.3063970214100559, 0.1348146894204246, 0.3554205448356649, 0.06127940428201118, 0.08579116599481565, 0.012255880856402236, 0.2544396437794583, 0.05088792875589167, 0.05088792875589167, 0.5597672163148083, 0.05088792875589167, 0.17199270602086572, 0.10944990383146, 0.7036065246308143, 0.01563570054735143, 0.861226176141101, 0.049212924350920055, 0.049212924350920055, 0.2185269978470087, 0.01986609071336443, 0.03973218142672886, 0.2582591792737376, 0.45692008640738185, 0.04316466030534277, 0.021582330152671386, 0.08632932061068554, 0.25898796183205663, 0.04316466030534277, 0.5395582538167847, 0.25719388077777017, 0.7372891248962745, 0.35280030498909815, 0.3969003431127354, 0.08820007624727454, 0.04410003812363727, 0.08820007624727454, 0.23340006644805844, 0.11670003322402922, 0.3112000885974113, 0.07780002214935282, 0.23340006644805844, 0.05346020950124535, 0.08019031425186803, 0.3207612570074721, 0.2673010475062268, 0.16038062850373605, 0.1336505237531134, 0.03098401251948949, 0.4027921627533634, 0.1704120688571922, 0.04647601877923424, 0.06196802503897898, 0.1704120688571922, 0.03098401251948949, 0.09295203755846848, 0.04584350714842971, 0.022921753574214856, 0.11460876787107428, 0.14899139823239657, 0.04584350714842971, 0.35528718040033025, 0.03438263036132228, 0.011460876787107428, 0.14899139823239657, 0.06876526072264456, 0.8939520756689789, 0.08513829292085513, 0.26808756209145507, 0.34851383071889164, 0.05361751241829102, 0.21447004967316408, 0.05361751241829102, 0.06379442637109342, 0.12758885274218684, 0.2551777054843737, 0.3827665582265605, 0.12758885274218684, 0.36844053910910185, 0.2072478032488698, 0.23027533694318866, 0.0690826010829566, 0.11513766847159433, 0.5512890701605341, 0.25058594098206094, 0.025058594098206093, 0.17541015868744264, 0.14420121472704073, 0.14420121472704073, 0.4806707157568025, 0.19226828630272097, 0.2973902435997558, 0.20347753509456978, 0.48521566061012794, 0.2541640381808532, 0.211803365150711, 0.2965247112109954, 0.1694426921205688, 0.04014765579540699, 0.4014765579540699, 0.5219195253402908, 0.15277204185136586, 0.15277204185136586, 0.30554408370273173, 0.05092401395045529, 0.30554408370273173, 0.09601368281232603, 0.14402052421848904, 0.43206157265546713, 0.24003420703081507, 0.048006841406163014, 0.8485640521633402, 0.11068226767347915, 0.03689408922449305, 0.2439832048258209, 0.034854743546545844, 0.41825692255855007, 0.1742737177327292, 0.06970948709309169, 0.5549504991205121, 0.35315031762214405, 0.05045004537459201, 0.02967059127383431, 0.771435373119692, 0.02967059127383431, 0.11868236509533724, 0.3216354574284953, 0.16081772871424765, 0.48245318614274296, 0.2791666460995545, 0.040853655526764066, 0.15660567951926227, 0.5106706940845509, 0.0068089425877940115, 0.21231321604042513, 0.04469751916640529, 0.5587189895800662, 0.011174379791601323, 0.1564413170824185, 0.3987177014940197, 0.10874119131655083, 0.3987177014940197, 0.07249412754436722, 0.08684394493945256, 0.36474456874570077, 0.1215815229152336, 0.03473757797578103, 0.06947515595156206, 0.3126382017820293, 0.020116082124828197, 0.18104473912345376, 0.30174123187242297, 0.08046432849931279, 0.10058041062414098, 0.22127690337311015, 0.10058041062414098, 0.03721054794878442, 0.22326328769270654, 0.3721054794878442, 0.3348949315390598, 0.14442247448590095, 0.0962816496572673, 0.024070412414316823, 0.09146756717440394, 0.1347943095201742, 0.41882517600911273, 0.08665348469154056, 0.00962816496572673, 0.4116863727144827, 0.17643701687763544, 0.3528740337552709, 0.10646238139828076, 0.23228155941443077, 0.009678398308934615, 0.2903519492680385, 0.03871359323573846, 0.23228155941443077, 0.07742718647147692, 0.009678398308934615, 0.10783595678565978, 0.06470157407139587, 0.6038813579996948, 0.1509703394999237, 0.06470157407139587, 0.027631082092205526, 0.9394567911349878, 0.07787748263576454, 0.11681622395364681, 0.46726489581458724, 0.11681622395364681, 0.11681622395364681, 0.11681622395364681, 0.028916836446264995, 0.11566734578505998, 0.07229209111566248, 0.6217119835946974, 0.05783367289252999, 0.08675050933879498, 0.014458418223132498, 0.8410606432261962, 0.06728485145809569, 0.06728485145809569, 0.25114909170804645, 0.1726650005492819, 0.06278727292701161, 0.14127136408577612, 0.31393636463505803, 0.0470904546952587, 0.015696818231752903, 0.027913333337723972, 0.1953933333640678, 0.055826666675447945, 0.11165333335089589, 0.1953933333640678, 0.3070466667149637, 0.08374000001317192, 0.027913333337723972, 0.8975097385837965, 0.07804432509424317, 0.043866810739215785, 0.48253491813137367, 0.13160043221764736, 0.2632008644352947, 0.542933191205789, 0.25207612448840205, 0.17451424003043217, 0.08137055715023678, 0.024411167145071036, 0.016274111430047356, 0.008137055715023678, 0.14646700287042622, 0.683512680061989, 0.03254822286009471, 0.42012237805834785, 0.040011655053175985, 0.2400699303190559, 0.020005827526587992, 0.020005827526587992, 0.18005244773929194, 0.06001748257976398, 0.12198830895736099, 0.26837427970619415, 0.024397661791472194, 0.07319298537441658, 0.5123508976209161, 0.05500271756998061, 0.13750679392495152, 0.41252038177485456, 0.11000543513996122, 0.05500271756998061, 0.22001087027992244, 0.00360205585965125, 0.00360205585965125, 0.00360205585965125, 0.533104267228385, 0.4394508148774525, 0.01080616757895375, 0.0072041117193025, 0.8605271029760168, 0.11322725039158114, 0.696265807082001, 0.04492037465045168, 0.08984074930090336, 0.13476112395135503, 0.34850202096283234, 0.0670196194159293, 0.1407412007734515, 0.2345686679557525, 0.2077608201893808, 0.4635954764603279, 0.04214504331457526, 0.04214504331457526, 0.2107252165728763, 0.16858017325830105, 0.1592331258639411, 0.1592331258639411, 0.6687791286285526, 0.05508681780422496, 0.47741908763661633, 0.03672454520281664, 0.12853590820985825, 0.01836227260140832, 0.12853590820985825, 0.01836227260140832, 0.0918113630070416, 0.03672454520281664, 0.033943995663037255, 0.050915993494555875, 0.016971997831518627, 0.016971997831518627, 0.49218793711404013, 0.10183198698911175, 0.050915993494555875, 0.23760796964126077, 0.07443807293173535, 0.024812690977245113, 0.42181574661316695, 0.24812690977245114, 0.22331421879520602, 0.35545695252102616, 0.10155912929172176, 0.2031182585834435, 0.2538978232293044, 0.1821170214670748, 0.1821170214670748, 0.0455292553667687, 0.0910585107335374, 0.5008218090344557, 0.051881162932492744, 0.025940581466246372, 0.12970290733123185, 0.6744551181224057, 0.07782174439873912, 0.08122883819138446, 0.32491535276553785, 0.16245767638276892, 0.12184325728707669, 0.08122883819138446, 0.04061441909569223, 0.04061441909569223, 0.12184325728707669, 0.10067554696905542, 0.14306525095602612, 0.2543382239218242, 0.07948069497557007, 0.015896138995114013, 0.06888326897882739, 0.04768841698534204, 0.13776653795765478, 0.005298712998371338, 0.14836396395439747, 0.3660604207369846, 0.35462103258895383, 0.11439388148030769, 0.011439388148030768, 0.022878776296061536, 0.1487120459244, 0.17803352074232334, 0.23737802765643112, 0.3560670414846467, 0.17803352074232334, 0.03877359384195911, 0.03877359384195911, 0.13570757844685688, 0.697924689155264, 0.07754718768391822, 0.8202872562059073, 0.015063705873564238, 0.019171989293627213, 0.1314650694420152, 0.0027388556133753164, 0.0027388556133753164, 0.0027388556133753164, 0.004108283420062975, 0.6472904550315545, 0.036639082360276666, 0.10991724708083, 0.04885210981370222, 0.06106513726712778, 0.0854911921739789, 0.11054449627681961, 0.08843559702145569, 0.07738114739377373, 0.11054449627681961, 0.45323243473496044, 0.15476229478754747, 0.011054449627681961, 0.07491278403316254, 0.04494767041989753, 0.8090580675581555, 0.05993022722653003, 0.041593376958467695, 0.277289179723118, 0.08318675391693539, 0.16637350783387078, 0.0277289179723118, 0.1941024258061826, 0.0138644589861559, 0.0554578359446236, 0.138644589861559, 0.05368888352835791, 0.8769184309631792, 0.05368888352835791, 0.1799646577119896, 0.0899823288559948, 0.5998821923732988, 0.029994109618664937, 0.05998821923732987, 0.1603320035250379, 0.1603320035250379, 0.05344400117501264, 0.10688800235002528, 0.08016600176251895, 0.26722000587506317, 0.13361000293753159, 0.05344400117501264, 0.05864808775209522, 0.35188852651257135, 0.5278327897688571, 0.11549001064248808, 0.17323501596373214, 0.05774500532124404, 0.6351950585336845, 0.05869540558213224, 0.23478162232852895, 0.6945622993885648, 0.10512970653163974, 0.07008647102109317, 0.28034588408437267, 0.5606917681687453, 0.13879481724987422, 0.30072210404139416, 0.09252987816658281, 0.06939740862493711, 0.37011951266633125, 0.023132469541645703, 0.05430570070710809, 0.4135587976925924, 0.18380391008559663, 0.008354723185708937, 0.3341889274283575, 0.051071822545683085, 0.051071822545683085, 0.30643093527409854, 0.10214364509136617, 0.15321546763704927, 0.25535911272841544, 0.051071822545683085, 0.18860895956788376, 0.07544358382715351, 0.11316537574073025, 0.15088716765430701, 0.3772179191357675, 0.037721791913576753, 0.20103451795799743, 0.14359608425571246, 0.10051725897899871, 0.02871921685114249, 0.05743843370228498, 0.38770942749042364, 0.02871921685114249, 0.043078825276713736, 0.14069562108912687, 0.028139124217825374, 0.6049911706832456, 0.05627824843565075, 0.15476518319803956, 0.18118092952434986, 0.28988948723895974, 0.07247237180973994, 0.03623618590486997, 0.03623618590486997, 0.18118092952434986, 0.18118092952434986, 0.031626954204733555, 0.22138867943313492, 0.5798274937534486, 0.02108463613648904, 0.10542318068244519, 0.052711590341222594, 0.28588722718462145, 0.20420516227472962, 0.12252309736483777, 0.3675692920945133, 0.43082345667467387, 0.24618483238552794, 0.061546208096381984, 0.18463862428914596, 0.030773104048190992, 0.5387281082630253, 0.20299899731650228, 0.24984491977415665, 0.059766174119666185, 0.17929852235899854, 0.31875292863821963, 0.15937646431910982, 0.1394544062792211, 0.059766174119666185, 0.059766174119666185, 0.48266323150082874, 0.04022193595840239, 0.28155355170881674, 0.04022193595840239, 0.12066580787520718, 0.04022193595840239, 0.09000304588670993, 0.022500761471677483, 0.011250380735838741, 0.18000609177341986, 0.033751142207516224, 0.652522082678647, 0.3025890588783332, 0.20456725107267598, 0.025570906384084498, 0.12359271418974173, 0.03835635957612674, 0.05540363049884974, 0.23866179291812198, 0.00426181773068075, 0.39870633903599695, 0.3695327044723874, 0.029173634563609534, 0.0875209036908286, 0.009724544854536511, 0.07779635883629209, 0.019449089709073022, 0.009724544854536511, 0.12708056053943087, 0.07413032698133468, 0.07413032698133468, 0.2965213079253387, 0.1059004671161924, 0.16944074738590784, 0.13767060725105013, 0.09945883723382548, 0.011050981914869498, 0.03315294574460849, 0.4641412404245189, 0.08840785531895598, 0.29837651170147644, 0.8833798469169705, 0.08983523866952242, 0.014972539778253736, 0.11874262484286757, 0.09499409987429407, 0.7599527989943525, 0.04208039700764493, 0.021040198503822466, 0.7784873446414313, 0.1262411910229348, 0.19537976829858178, 0.0319370775103451, 0.03945168398336748, 0.49596402721947686, 0.12399100680486921, 0.015029212946044753, 0.05635954854766782, 0.041330335601623074, 0.04953942168215961, 0.8209389878757878, 0.07077060240308515, 0.05661648192246812, 0.03468543437334148, 0.10405630312002442, 0.2774834749867318, 0.03468543437334148, 0.2774834749867318, 0.24279804061339033, 0.028391981860365, 0.7807795011600376, 0.1561559002320075, 0.028391981860365, 0.04813684516089211, 0.04813684516089211, 0.04813684516089211, 0.8183263677351659, 0.16848437664709892, 0.21060547080887365, 0.2948476591324231, 0.2948476591324231, 0.28931682613927273, 0.24109735511606062, 0.14465841306963637, 0.28931682613927273, 0.6361561080779055, 0.05301300900649212, 0.2650650450324606, 0.04181572212939273, 0.08363144425878546, 0.2927100549057491, 0.16726288851757093, 0.08363144425878546, 0.33452577703514186, 0.4190351016952901, 0.029931078692520725, 0.17958647215512435, 0.20951755084764506, 0.14965539346260362, 0.1731374647989833, 0.057712488266327765, 0.11542497653265553, 0.11542497653265553, 0.11542497653265553, 0.4039874178642944, 0.24449265840976753, 0.12224632920488376, 0.1629951056065117, 0.12224632920488376, 0.040748776401627926, 0.28524143481139547, 0.06424845057498843, 0.09637267586248263, 0.06424845057498843, 0.17668323908121816, 0.36942859080618345, 0.11243478850622975, 0.12849690114997686, 0.5903756434163152, 0.042169688815451085, 0.2951878217081576, 0.08433937763090217, 0.041914159845822335, 0.9221115166080913, 0.23134919255229813, 0.09253967702091925, 0.46269838510459627, 0.09253967702091925, 0.04626983851045963, 0.037365508240872286, 0.020758615689373493, 0.9299859828839324, 0.008303446275749396, 0.05819333735086786, 0.2036766807280375, 0.17458001205260357, 0.17458001205260357, 0.3200633554297732, 0.05819333735086786, 0.10808313039727918, 0.14411084052970558, 0.10808313039727918, 0.14411084052970558, 0.07205542026485279, 0.10808313039727918, 0.07205542026485279, 0.25219397092698476, 0.00726002840723916, 0.6679226134660027, 0.05808022725791328, 0.09438036929410908, 0.1089004261085874, 0.06534025566515243, 0.14976385285184177, 0.040844687141411394, 0.38121707998650634, 0.08168937428282279, 0.31314260141748734, 0.027229791427607595, 0.17961454158116133, 0.38488830338820285, 0.41054752361408303, 0.08505688794300768, 0.1417614799050128, 0.7371596955060666, 0.30294735778422793, 0.23562572272106616, 0.06732163506316176, 0.03366081753158088, 0.03366081753158088, 0.30294735778422793, 0.17481873938509848, 0.2622281090776477, 0.04370468484627462, 0.4807515333090208, 0.03802057696090081, 0.03802057696090081, 0.8998203214079858, 0.025347051307267207, 0.06960731561746435, 0.06960731561746435, 0.03480365780873217, 0.17401828904366087, 0.6264658405571791, 0.1918465912945305, 0.383693182589061, 0.09592329564726525, 0.2877698869417957, 0.04911731136078962, 0.4911731136078962, 0.08595529488138183, 0.02455865568039481, 0.13507260624217146, 0.07367596704118443, 0.13507260624217146, 0.05359305995938582, 0.16077917987815746, 0.5359305995938581, 0.26796529979692907, 0.034954211873008754, 0.45440475434911387, 0.10486263561902627, 0.27963369498407004, 0.10486263561902627, 0.2702979020177357, 0.03525624808926987, 0.09401666157138633, 0.5876041348211645, 0.024406685871115837, 0.008135561957038613, 0.004067780978519306, 0.9599963109305563, 0.11026670281310724, 0.8159736008169935, 0.06616002168786435, 0.2882621651541051, 0.06652203811248579, 0.04434802540832386, 0.2217401270416193, 0.3547842032665909, 0.02217401270416193, 0.20199816157949577, 0.1285442846414973, 0.018363469234499614, 0.29381550775199383, 0.09181734617249807, 0.1285442846414973, 0.1285442846414973, 0.4773653576188138, 0.11934133940470346, 0.38189228609505105, 0.02647856297888386, 0.010591425191553544, 0.5613455351523378, 0.39717844468325786, 0.13475184295948567, 0.20825284821011422, 0.012250167541771426, 0.575757874463257, 0.0490006701670857, 0.12643087955256643, 0.6237256724593278, 0.24443303380162845, 0.08771877173511164, 0.7017501738808931, 0.17543754347022328, 0.1446090825855281, 0.25306589452467415, 0.10845681193914607, 0.07230454129276405, 0.43382724775658427, 0.07896039163053294, 0.06415531819980802, 0.2664913217530487, 0.06415531819980802, 0.024675122384541545, 0.08883044058434957, 0.22701112593778222, 0.029610146861449853, 0.1628558077379742, 0.49839790734451744, 0.09709050143075015, 0.3236350047691672, 0.025890800381533373, 0.01941810028615003, 0.025890800381533373], \"Term\": [\"access\", \"access\", \"access\", \"access\", \"access\", \"action\", \"action\", \"action\", \"action\", \"action\", \"action\", \"action\", \"action\", \"activate\", \"activate\", \"activate\", \"activate\", \"activate\", \"active\", \"active\", \"active\", \"active\", \"active\", \"active\", \"active\", \"active\", \"adapter\", \"adapter\", \"adapter\", \"adapter\", \"address\", \"address\", \"address\", \"address\", \"appear\", \"appear\", \"appear\", \"appear\", \"appear\", \"appear\", \"appear\", \"appear\", \"appear\", \"appear\", \"associate\", \"associate\", \"associate\", \"associate\", \"associate\", \"assume\", \"assume\", \"assume\", \"assume\", \"attempt\", \"attempt\", \"attempt\", \"automatically\", \"automatically\", \"automatically\", \"automatically\", \"automatically\", \"automatically\", \"available\", \"available\", \"available\", \"available\", \"available\", \"available\", \"available\", \"available\", \"behavior\", \"behavior\", \"behavior\", \"behavior\", \"behavior\", \"behavior\", \"behavior\", \"behaviour\", \"behaviour\", \"behaviour\", \"behaviour\", \"behaviour\", \"behaviour\", \"behaviour\", \"behaviour\", \"believe\", \"believe\", \"believe\", \"believe\", \"believe\", \"browse\", \"browse\", \"browse\", \"browser\", \"browser\", \"browser\", \"browser\", \"browser\", \"button\", \"button\", \"button\", \"button\", \"button\", \"button\", \"button\", \"cancel\", \"cancel\", \"cancel\", \"cancel\", \"cancel\", \"cancel\", \"catchup\", \"catchup\", \"catchuprelease\", \"catchuprelease\", \"change\", \"change\", \"change\", \"change\", \"change\", \"change\", \"change\", \"change\", \"change\", \"change\", \"children\", \"children\", \"children\", \"choose\", \"choose\", \"choose\", \"choose\", \"choose\", \"choose\", \"choose\", \"choose\", \"client\", \"client\", \"client\", \"client\", \"clients\", \"clients\", \"clients\", \"clients\", \"column\", \"column\", \"column\", \"comment\", \"comment\", \"comment\", \"comment\", \"comment\", \"comment\", \"common\", \"common\", \"common\", \"common\", \"common\", \"compare\", \"compare\", \"compare\", \"compare\", \"complete\", \"complete\", \"complete\", \"complete\", \"conflict\", \"conflict\", \"conflict\", \"confuse\", \"confuse\", \"confuse\", \"confuse\", \"confuse\", \"confuse\", \"confuse\", \"confuse\", \"confuse\", \"connect\", \"connect\", \"connect\", \"connection\", \"connection\", \"connection\", \"consistent\", \"consistent\", \"consistent\", \"consistent\", \"consistent\", \"consistent\", \"consistent\", \"consistent\", \"contain\", \"contain\", \"contain\", \"contain\", \"contain\", \"contain\", \"contain\", \"contain\", \"contain\", \"content\", \"content\", \"content\", \"content\", \"content\", \"content\", \"content\", \"content\", \"context\", \"context\", \"context\", \"context\", \"context\", \"context\", \"context\", \"context\", \"context\", \"contribute\", \"contribute\", \"contribute\", \"contribute\", \"contribute\", \"control\", \"control\", \"control\", \"control\", \"control\", \"correct\", \"correct\", \"correct\", \"correct\", \"correct\", \"create\", \"create\", \"create\", \"create\", \"create\", \"create\", \"create\", \"create\", \"create\", \"create\", \"creation\", \"creation\", \"creation\", \"creation\", \"current\", \"current\", \"current\", \"current\", \"current\", \"current\", \"current\", \"currently\", \"currently\", \"currently\", \"currently\", \"currently\", \"currently\", \"currently\", \"currently\", \"currently\", \"currently\", \"cursor\", \"cursor\", \"cursor\", \"decide\", \"decide\", \"decide\", \"decide\", \"default\", \"default\", \"default\", \"default\", \"default\", \"default\", \"default\", \"default\", \"default\", \"define\", \"define\", \"define\", \"delete\", \"delete\", \"delete\", \"delete\", \"delete\", \"delete\", \"delete\", \"description\", \"description\", \"desktop\", \"desktop\", \"desktop\", \"desktop\", \"desktop\", \"desktop\", \"detach\", \"determine\", \"determine\", \"determine\", \"determine\", \"determine\", \"determine\", \"determine\", \"dialog\", \"dialog\", \"dialog\", \"dialog\", \"dialog\", \"dialog\", \"dialog\", \"dialog\", \"dialog\", \"different\", \"different\", \"different\", \"different\", \"different\", \"different\", \"different\", \"different\", \"different\", \"different\", \"directory\", \"directory\", \"disable\", \"disable\", \"disable\", \"disable\", \"disable\", \"display\", \"display\", \"display\", \"display\", \"display\", \"display\", \"display\", \"document\", \"document\", \"document\", \"document\", \"document\", \"document\", \"doesnt\", \"doesnt\", \"doesnt\", \"doesnt\", \"doesnt\", \"doesnt\", \"doesnt\", \"doesnt\", \"doesnt\", \"double\", \"double\", \"double\", \"double\", \"duplicate\", \"duplicate\", \"duplicate\", \"duplicate\", \"duplicate\", \"eclipse\", \"eclipse\", \"eclipse\", \"eclipse\", \"eclipse\", \"eclipse\", \"eclipse\", \"editor\", \"editor\", \"editor\", \"editor\", \"editor\", \"editors\", \"editors\", \"editors\", \"editors\", \"editors\", \"editors\", \"effect\", \"effect\", \"effect\", \"effect\", \"element\", \"element\", \"element\", \"element\", \"element\", \"element\", \"enable\", \"enable\", \"enable\", \"enable\", \"enable\", \"ensure\", \"ensure\", \"ensure\", \"ensure\", \"ensure\", \"ensure\", \"ensure\", \"entries\", \"entries\", \"entries\", \"entries\", \"entries\", \"errors\", \"errors\", \"errors\", \"errors\", \"errors\", \"errors\", \"example\", \"example\", \"example\", \"example\", \"example\", \"example\", \"example\", \"example\", \"example\", \"examples\", \"examples\", \"examples\", \"exception\", \"exception\", \"exception\", \"exception\", \"expand\", \"expand\", \"expand\", \"expand\", \"expect\", \"expect\", \"expect\", \"expect\", \"expect\", \"expect\", \"explorer\", \"explorer\", \"explorer\", \"explorer\", \"extension\", \"extension\", \"extension\", \"extension\", \"extension\", \"external\", \"external\", \"external\", \"external\", \"external\", \"external\", \"feature\", \"feature\", \"feature\", \"feature\", \"feature\", \"feature\", \"feature\", \"feature\", \"filter\", \"filter\", \"filter\", \"filter\", \"filter\", \"filter\", \"finish\", \"finish\", \"finish\", \"finish\", \"folder\", \"folder\", \"folder\", \"folder\", \"folder\", \"folders\", \"folders\", \"folders\", \"follow\", \"follow\", \"follow\", \"follow\", \"follow\", \"follow\", \"follow\", \"follow\", \"follow\", \"functionality\", \"functionality\", \"functionality\", \"functionality\", \"functionality\", \"future\", \"future\", \"future\", \"future\", \"future\", \"future\", \"global\", \"global\", \"global\", \"handle\", \"handle\", \"handle\", \"handle\", \"handle\", \"handle\", \"handle\", \"happen\", \"happen\", \"happen\", \"happen\", \"happen\", \"happen\", \"happen\", \"helpful\", \"helpful\", \"helpful\", \"helpful\", \"helpful\", \"history\", \"history\", \"history\", \"history\", \"ignore\", \"ignore\", \"ignore\", \"implement\", \"implement\", \"implement\", \"implement\", \"implement\", \"implementation\", \"implementation\", \"implementation\", \"implementation\", \"implementation\", \"implementation\", \"import\", \"import\", \"important\", \"important\", \"important\", \"important\", \"important\", \"inconsistent\", \"inconsistent\", \"inconsistent\", \"inconsistent\", \"inconsistent\", \"indicate\", \"indicate\", \"indicate\", \"indicate\", \"indicate\", \"indicate\", \"information\", \"information\", \"information\", \"information\", \"information\", \"information\", \"information\", \"information\", \"instead\", \"instead\", \"instead\", \"instead\", \"instead\", \"instead\", \"instead\", \"instead\", \"instead\", \"instead\", \"interface\", \"interface\", \"internal\", \"internal\", \"internal\", \"internal\", \"internal\", \"investigate\", \"investigate\", \"investigate\", \"investigate\", \"investigate\", \"invoke\", \"invoke\", \"invoke\", \"invoke\", \"invoke\", \"itpuiall\", \"itpuiall\", \"itpuiall\", \"itpuiall\", \"itpvcm\", \"itpvcm\", \"itpvcm\", \"itpvcm\", \"jeanmichel\", \"jeanmichel\", \"jeanmichel\", \"keyboard\", \"keyboard\", \"keyboard\", \"keyboard\", \"layout\", \"layout\", \"layout\", \"likely\", \"likely\", \"likely\", \"likely\", \"likely\", \"little\", \"little\", \"little\", \"little\", \"little\", \"location\", \"location\", \"location\", \"longer\", \"longer\", \"longer\", \"longer\", \"longer\", \"machine\", \"machine\", \"machine\", \"manage\", \"manage\", \"manage\", \"manage\", \"manually\", \"manually\", \"manually\", \"message\", \"message\", \"message\", \"message\", \"message\", \"method\", \"method\", \"method\", \"method\", \"method\", \"methods\", \"methods\", \"methods\", \"methods\", \"modify\", \"modify\", \"modify\", \"modify\", \"modify\", \"modify\", \"multiple\", \"multiple\", \"multiple\", \"multiple\", \"multiple\", \"multiple\", \"multiple\", \"navigation\", \"navigation\", \"navigation\", \"navigation\", \"navigator\", \"navigator\", \"navigator\", \"navigator\", \"navigator\", \"navigator\", \"navigator\", \"navigator\", \"necessary\", \"necessary\", \"necessary\", \"notice\", \"notice\", \"notice\", \"notice\", \"notice\", \"notice\", \"notice\", \"notice\", \"number\", \"number\", \"number\", \"number\", \"number\", \"object\", \"object\", \"observe\", \"observe\", \"observe\", \"observe\", \"observe\", \"observe\", \"operation\", \"operation\", \"operation\", \"operation\", \"operation\", \"operation\", \"operation\", \"operations\", \"operations\", \"operations\", \"option\", \"option\", \"option\", \"option\", \"option\", \"option\", \"option\", \"options\", \"options\", \"options\", \"options\", \"options\", \"options\", \"options\", \"options\", \"orgeclipseui\", \"orgeclipseui\", \"original\", \"original\", \"original\", \"original\", \"outline\", \"outline\", \"outline\", \"package\", \"package\", \"package\", \"package\", \"package\", \"package\", \"package\", \"parent\", \"parent\", \"parent\", \"parent\", \"parent\", \"parent\", \"parent\", \"people\", \"people\", \"people\", \"people\", \"people\", \"perform\", \"perform\", \"perform\", \"perform\", \"perform\", \"perform\", \"perspective\", \"perspective\", \"perspective\", \"perspective\", \"perspective\", \"perspective\", \"perspective\", \"perspectives\", \"perspectives\", \"platform\", \"platform\", \"platform\", \"platform\", \"plugin\", \"plugin\", \"plugin\", \"plugin\", \"plugin\", \"plugins\", \"plugins\", \"plugins\", \"plugins\", \"plugins\", \"pluginxml\", \"pluginxml\", \"pluginxml\", \"possible\", \"possible\", \"possible\", \"possible\", \"possible\", \"possible\", \"possible\", \"possible\", \"possible\", \"preference\", \"preference\", \"preference\", \"preference\", \"preference\", \"preference\", \"preference\", \"preference\", \"preferences\", \"preferences\", \"preferences\", \"preferences\", \"preferences\", \"present\", \"present\", \"present\", \"present\", \"previous\", \"previous\", \"previous\", \"previous\", \"previous\", \"priority\", \"priority\", \"priority\", \"priority\", \"priority\", \"probably\", \"probably\", \"probably\", \"probably\", \"probably\", \"probably\", \"probably\", \"probably\", \"problem\", \"problem\", \"problem\", \"problem\", \"problem\", \"problem\", \"problem\", \"problem\", \"problem\", \"problem\", \"problems\", \"problems\", \"problems\", \"problems\", \"problems\", \"problems\", \"product\", \"product\", \"product\", \"product\", \"progress\", \"progress\", \"progress\", \"progress\", \"progress\", \"project\", \"project\", \"project\", \"project\", \"project\", \"project\", \"project\", \"project\", \"prompt\", \"prompt\", \"prompt\", \"prompt\", \"prompt\", \"prompt\", \"properties\", \"properties\", \"properties\", \"properties\", \"properties\", \"properties\", \"properties\", \"property\", \"property\", \"property\", \"property\", \"provide\", \"provide\", \"provide\", \"provide\", \"provide\", \"provide\", \"provide\", \"provide\", \"provide\", \"public\", \"public\", \"public\", \"readme\", \"readme\", \"readme\", \"readme\", \"readme\", \"reason\", \"reason\", \"reason\", \"reason\", \"reason\", \"reason\", \"reason\", \"reason\", \"recommend\", \"recommend\", \"recommend\", \"reference\", \"reference\", \"reference\", \"reference\", \"refresh\", \"refresh\", \"refresh\", \"register\", \"register\", \"register\", \"register\", \"relate\", \"relate\", \"relate\", \"relate\", \"relate\", \"relate\", \"release\", \"release\", \"release\", \"release\", \"release\", \"remain\", \"remain\", \"remain\", \"remain\", \"remain\", \"remain\", \"remain\", \"remember\", \"remember\", \"remember\", \"remember\", \"remember\", \"remember\", \"remove\", \"remove\", \"remove\", \"remove\", \"remove\", \"remove\", \"remove\", \"remove\", \"rename\", \"rename\", \"rename\", \"rename\", \"rename\", \"reopen\", \"reopen\", \"reopen\", \"reopen\", \"reopen\", \"reopen\", \"reopen\", \"replace\", \"replace\", \"replace\", \"replace\", \"replace\", \"replace\", \"report\", \"report\", \"report\", \"report\", \"repositories\", \"repositories\", \"repositories\", \"repositories\", \"repositories\", \"repository\", \"repository\", \"repository\", \"reproduce\", \"reproduce\", \"reproduce\", \"reproduce\", \"reproduce\", \"reproduce\", \"reproduce\", \"request\", \"request\", \"request\", \"request\", \"request\", \"request\", \"require\", \"require\", \"require\", \"require\", \"require\", \"require\", \"resource\", \"resource\", \"resource\", \"resource\", \"resource\", \"resource\", \"resource\", \"resource\", \"resources\", \"resources\", \"resources\", \"resources\", \"resources\", \"resources\", \"resources\", \"resources\", \"result\", \"result\", \"result\", \"result\", \"result\", \"result\", \"result\", \"return\", \"return\", \"return\", \"return\", \"return\", \"return\", \"script\", \"script\", \"script\", \"scroll\", \"scroll\", \"scroll\", \"search\", \"search\", \"search\", \"search\", \"select\", \"select\", \"select\", \"select\", \"select\", \"select\", \"select\", \"select\", \"selection\", \"selection\", \"selection\", \"selection\", \"separate\", \"separate\", \"separate\", \"separate\", \"separate\", \"separate\", \"server\", \"server\", \"server\", \"server\", \"settings\", \"settings\", \"settings\", \"settings\", \"shouldnt\", \"shouldnt\", \"shouldnt\", \"shouldnt\", \"similar\", \"similar\", \"similar\", \"similar\", \"simple\", \"simple\", \"simple\", \"simply\", \"simply\", \"simply\", \"simply\", \"simply\", \"simply\", \"single\", \"single\", \"single\", \"single\", \"single\", \"solution\", \"solution\", \"solution\", \"solution\", \"solution\", \"solution\", \"specific\", \"specific\", \"specific\", \"specific\", \"specific\", \"specific\", \"specify\", \"specify\", \"specify\", \"specify\", \"specify\", \"specify\", \"specify\", \"startup\", \"startup\", \"startup\", \"startup\", \"status\", \"status\", \"strange\", \"strange\", \"strange\", \"strange\", \"strange\", \"stream\", \"stream\", \"stream\", \"stream\", \"string\", \"string\", \"string\", \"string\", \"string\", \"string\", \"suggest\", \"suggest\", \"suggest\", \"suggest\", \"suggest\", \"suggest\", \"suggest\", \"suggest\", \"support\", \"support\", \"support\", \"support\", \"support\", \"support\", \"switch\", \"switch\", \"switch\", \"switch\", \"switch\", \"switch\", \"synchronize\", \"synchronize\", \"synchronize\", \"target\", \"target\", \"target\", \"theres\", \"theres\", \"theres\", \"theres\", \"theres\", \"theres\", \"things\", \"things\", \"things\", \"things\", \"toolbar\", \"toolbar\", \"toolbar\", \"toolbar\", \"unable\", \"unable\", \"unable\", \"unable\", \"unable\", \"understand\", \"understand\", \"understand\", \"understand\", \"update\", \"update\", \"update\", \"update\", \"update\", \"update\", \"update\", \"usability\", \"usability\", \"usability\", \"usability\", \"useful\", \"useful\", \"useful\", \"useful\", \"useful\", \"verify\", \"verify\", \"verify\", \"verify\", \"version\", \"version\", \"version\", \"version\", \"versions\", \"versions\", \"versions\", \"viewer\", \"viewer\", \"viewer\", \"viewer\", \"viewer\", \"viewer\", \"visible\", \"visible\", \"visible\", \"visible\", \"visible\", \"visible\", \"visible\", \"widget\", \"widget\", \"widget\", \"window\", \"window\", \"window\", \"window\", \"windows\", \"windows\", \"windows\", \"windows\", \"windows\", \"wizard\", \"wizard\", \"wizard\", \"wizards\", \"wizards\", \"wizards\", \"workaround\", \"workaround\", \"workaround\", \"workaround\", \"workaround\", \"workbench\", \"workbench\", \"workbench\", \"workbench\", \"workbench\", \"workbench\", \"workbench\", \"workbench\", \"workbench\", \"workspace\", \"workspace\", \"workspace\", \"workspace\", \"workspace\", \"workspace\"]}, \"R\": 30, \"lambda.step\": 0.01, \"plot.opts\": {\"xlab\": \"PC1\", \"ylab\": \"PC2\"}, \"topic.order\": [4, 3, 1, 2, 10, 9, 5, 6, 8, 7]};\n",
       "\n",
       "function LDAvis_load_lib(url, callback){\n",
       "  var s = document.createElement('script');\n",
       "  s.src = url;\n",
       "  s.async = true;\n",
       "  s.onreadystatechange = s.onload = callback;\n",
       "  s.onerror = function(){console.warn(\"failed to load library \" + url);};\n",
       "  document.getElementsByTagName(\"head\")[0].appendChild(s);\n",
       "}\n",
       "\n",
       "if(typeof(LDAvis) !== \"undefined\"){\n",
       "   // already loaded: just create the visualization\n",
       "   !function(LDAvis){\n",
       "       new LDAvis(\"#\" + \"ldavis_el2238014513402938409785399600\", ldavis_el2238014513402938409785399600_data);\n",
       "   }(LDAvis);\n",
       "}else if(typeof define === \"function\" && define.amd){\n",
       "   // require.js is available: use it to load d3/LDAvis\n",
       "   require.config({paths: {d3: \"https://d3js.org/d3.v5\"}});\n",
       "   require([\"d3\"], function(d3){\n",
       "      window.d3 = d3;\n",
       "      LDAvis_load_lib(\"https://cdn.jsdelivr.net/gh/bmabey/pyLDAvis@3.3.1/pyLDAvis/js/ldavis.v3.0.0.js\", function(){\n",
       "        new LDAvis(\"#\" + \"ldavis_el2238014513402938409785399600\", ldavis_el2238014513402938409785399600_data);\n",
       "      });\n",
       "    });\n",
       "}else{\n",
       "    // require.js not available: dynamically load d3 & LDAvis\n",
       "    LDAvis_load_lib(\"https://d3js.org/d3.v5.js\", function(){\n",
       "         LDAvis_load_lib(\"https://cdn.jsdelivr.net/gh/bmabey/pyLDAvis@3.3.1/pyLDAvis/js/ldavis.v3.0.0.js\", function(){\n",
       "                 new LDAvis(\"#\" + \"ldavis_el2238014513402938409785399600\", ldavis_el2238014513402938409785399600_data);\n",
       "            })\n",
       "         });\n",
       "}\n",
       "</script>"
      ],
      "text/plain": [
       "PreparedData(topic_coordinates=              x         y  topics  cluster       Freq\n",
       "topic                                                \n",
       "3     -0.194806 -0.014643       1        1  14.116519\n",
       "2     -0.016465 -0.166909       2        1  11.927054\n",
       "0      0.053215  0.044623       3        1  11.481293\n",
       "1     -0.199338 -0.164756       4        1  10.992584\n",
       "9     -0.043375  0.211909       5        1   9.870855\n",
       "8     -0.029392  0.156409       6        1   8.881113\n",
       "4      0.182535 -0.070317       7        1   8.847584\n",
       "5      0.119403 -0.021795       8        1   8.538149\n",
       "7     -0.057943  0.066915       9        1   7.863883\n",
       "6      0.186166 -0.041436      10        1   7.480967, topic_info=            Term        Freq       Total Category  logprob  loglift\n",
       "9         editor  562.000000  562.000000  Default  30.0000  30.0000\n",
       "18       project  730.000000  730.000000  Default  29.0000  29.0000\n",
       "103      version  245.000000  245.000000  Default  28.0000  28.0000\n",
       "53        stream  240.000000  240.000000  Default  27.0000  27.0000\n",
       "191  perspective  277.000000  277.000000  Default  26.0000  26.0000\n",
       "..           ...         ...         ...      ...      ...      ...\n",
       "57        method   14.129989   89.490425  Topic10  -4.5227   0.7470\n",
       "9         editor   27.212840  562.423263  Topic10  -3.8673  -0.4358\n",
       "48        dialog   20.037365  309.882266  Topic10  -4.1734  -0.1458\n",
       "37        result   13.354096   94.428290  Topic10  -4.5792   0.6368\n",
       "92        create   13.956628  351.128899  Topic10  -4.5351  -0.6324\n",
       "\n",
       "[461 rows x 6 columns], token_table=      Topic      Freq       Term\n",
       "term                            \n",
       "215       1  0.097557     access\n",
       "215       2  0.487784     access\n",
       "215       7  0.162595     access\n",
       "215       8  0.032519     access\n",
       "215       9  0.195113     access\n",
       "...     ...       ...        ...\n",
       "25        2  0.097091  workspace\n",
       "25        4  0.323635  workspace\n",
       "25        5  0.025891  workspace\n",
       "25        8  0.019418  workspace\n",
       "25       10  0.025891  workspace\n",
       "\n",
       "[1256 rows x 3 columns], R=30, lambda_step=0.01, plot_opts={'xlab': 'PC1', 'ylab': 'PC2'}, topic_order=[4, 3, 1, 2, 10, 9, 5, 6, 8, 7])"
      ]
     },
     "execution_count": 26,
     "metadata": {},
     "output_type": "execute_result"
    }
   ],
   "source": [
    "# Visualize the topics for LDA model\n",
    "pyLDAvis.enable_notebook()\n",
    "vis = pyLDAvis.gensim_models.prepare(lda_model, bow_corpus, dictionary)\n",
    "vis"
   ]
  },
  {
   "cell_type": "markdown",
   "metadata": {
    "colab_type": "text",
    "id": "xwDq4v6jODOd"
   },
   "source": [
    "### **Clustering premised on Topic Modeling**"
   ]
  },
  {
   "cell_type": "code",
   "execution_count": 28,
   "metadata": {
    "colab": {},
    "colab_type": "code",
    "id": "DjlOxg-ay2yX"
   },
   "outputs": [],
   "source": [
    "#Creating 10 empty clusters and pushing master reports in each of them based on topic modeling and saving them in individual csv file\n",
    "for c in range(10):\n",
    "    exec('topic_{} = pd.DataFrame()'.format(c))\n",
    "    for i in range(len(master_reports)):\n",
    "        topic=lda_model[dictionary.doc2bow(master_reports.Description[i])]\n",
    "        topic= np.asarray(topic)\n",
    "        if int(topic[np.argmax(topic[:,1]),0])== c:\n",
    "            exec('topic_{} = topic_{}.append(master_reports.loc[[i]])'.format(c,c))\n",
    "            exec('topic_{} = topic_{}.reset_index(drop=True)'.format(c,c))\n",
    "            exec('topic_{}.to_csv(\"dataset/topic_{}.csv\")'.format(c,c))"
   ]
  },
  {
   "cell_type": "code",
   "execution_count": null,
   "metadata": {},
   "outputs": [],
   "source": []
  }
 ],
 "metadata": {
  "accelerator": "TPU",
  "colab": {
   "collapsed_sections": [],
   "name": "clustering_based_on_topic_modeling.ipynb",
   "provenance": []
  },
  "kernelspec": {
   "display_name": "Python 3 (ipykernel)",
   "language": "python",
   "name": "python3"
  },
  "language_info": {
   "codemirror_mode": {
    "name": "ipython",
    "version": 3
   },
   "file_extension": ".py",
   "mimetype": "text/x-python",
   "name": "python",
   "nbconvert_exporter": "python",
   "pygments_lexer": "ipython3",
   "version": "3.9.12"
  }
 },
 "nbformat": 4,
 "nbformat_minor": 1
}
